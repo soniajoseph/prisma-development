{
 "cells": [
  {
   "cell_type": "code",
   "execution_count": 1,
   "metadata": {},
   "outputs": [],
   "source": [
    "# notebook for activation patching\n",
    "import vit_prisma\n",
    "\n",
    "from nltk.corpus import wordnet as wn\n",
    "from datasets import load_dataset\n",
    "\n",
    "from torch.utils.data import DataLoader\n",
    "from torchvision import transforms\n",
    "from datasets import load_dataset\n",
    "import torch\n",
    "\n",
    "import matplotlib.pyplot as plt\n",
    "\n",
    "# nltk.download('wordnet')\n",
    "\n",
    "import numpy as np\n",
    "from fancy_einsum import einsum\n",
    "\n",
    "from vit_prisma.utils.data_utils.imagenet_dict import IMAGENET_DICT\n",
    "\n",
    "from collections import defaultdict\n",
    "\n",
    "import plotly.graph_objs as go\n",
    "import numpy as np\n",
    "import re  # Import the regular expressions library\n",
    "import matplotlib.pyplot as plt\n",
    "from PIL import Image\n",
    "\n",
    "from functools import partial\n"
   ]
  },
  {
   "cell_type": "code",
   "execution_count": 2,
   "metadata": {},
   "outputs": [
    {
     "name": "stdout",
     "output_type": "stream",
     "text": [
      "{'n_layers': 12, 'd_model': 768, 'd_head': 64, 'model_name': 'timm/vit_base_patch32_224.augreg_in21k_ft_in1k', 'n_heads': 12, 'd_mlp': 3072, 'activation_name': 'gelu', 'eps': 1e-06, 'original_architecture': 'vit_base_patch32_224', 'initializer_range': 0.02, 'n_channels': 3, 'patch_size': 32, 'image_size': 224, 'n_classes': 1000, 'n_params': 88224232, 'return_type': 'class_logits'}\n"
     ]
    }
   ],
   "source": [
    "# Load cat.png image\n",
    "\n",
    "# Load the image\n",
    "from PIL import Image\n",
    "\n",
    "\n",
    "class ConvertTo3Channels:\n",
    "    def __call__(self, img):\n",
    "        if img.mode != 'RGB':\n",
    "            return img.convert('RGB')\n",
    "        return img\n",
    "    \n",
    "image = Image.open(\"dog_cat.png\")\n",
    "\n",
    "# Turn into tensor\n",
    "\n",
    "# Define your transformations, including the custom ConvertTo3Channels\n",
    "transform = transforms.Compose([\n",
    "    ConvertTo3Channels(),  # Ensure all images are 3-channel without turning them grayscale\n",
    "    transforms.Resize((224, 224)),  # Resize images to a common size.\n",
    "    transforms.ToTensor(),  # Convert images to tensor.\n",
    "    # You can include normalization if desired, using correct values for 3-channel images.\n",
    "])\n",
    "\n",
    "image = transform(image)\n",
    "# print(image.shape)\n",
    "# plt.figure()\n",
    "# plt.imshow(image.permute(0,2,3,1).squeeze(0))\n",
    "\n",
    "# show as grid\n",
    "# display_grid_on_image(image)\n",
    "\n",
    "# We'll use a vanilla vision transformer\n",
    "from vit_prisma.models.base_vit import HookedViT\n",
    "prisma_model = HookedViT.from_pretrained(\"vit_base_patch32_224\", \n",
    "                                        center_writing_weights=True, \n",
    "                                        center_unembed=True,\n",
    "                                        fold_ln=True,\n",
    "                                        refactor_factored_attn_matrices=True,\n",
    "                                    )"
   ]
  },
  {
   "cell_type": "code",
   "execution_count": null,
   "metadata": {},
   "outputs": [],
   "source": [
    "def logits_to_ave_logit_diff(logits, answer_tokens, per_prompt=False):\n",
    "    # Only the final logits are relevant for the answer\n",
    "    final_logits = logits[:, answer_tokens]\n",
    "    # if logits.shape[0]:\n",
    "    #     answer_logits = final_logits.gather(dim=-1, index=answer_tokens)\n",
    "    answer_logits = torch.logsumexp(final_logits, dim=0) # sum multiple labels if present\n",
    "    answer_logit_diff = answer_logits[:, 0] - answer_logits[:, 1]\n",
    "    if per_prompt:\n",
    "        return answer_logit_diff\n",
    "    else:\n",
    "        return answer_logit_diff.mean()\n",
    "    \n",
    "answer_tokens = [[232, 285]] # dog, cat\n",
    "answer_tokens = torch.tensor(answer_tokens)\n",
    "\n",
    "# Patch logit lens\n",
    "orig_logits, cache = prisma_model.run_with_cache(image.unsqueeze(0))\n",
    "original_average_logit_diff = logits_to_ave_logit_diff(orig_logits, answer_tokens)\n"
   ]
  },
  {
   "cell_type": "code",
   "execution_count": null,
   "metadata": {},
   "outputs": [
    {
     "name": "stdout",
     "output_type": "stream",
     "text": [
      "torch.Size([1, 1000])\n"
     ]
    }
   ],
   "source": [
    "# load crop out dog image\n",
    "from PIL import Image\n",
    "crop_out_dog = Image.open(\"crop_dog.png\")\n",
    "crop_out_dog = transform(crop_out_dog)\n",
    "\n",
    "\n",
    "corrupted_logits, corrupted_cache = prisma_model.run_with_cache(crop_out_dog.unsqueeze(0))\n",
    "print(corrupted_logits.shape)\n",
    "corrupted_logit_diff = logits_to_ave_logit_diff(corrupted_logits, answer_tokens, per_prompt=False)\n"
   ]
  },
  {
   "cell_type": "markdown",
   "metadata": {},
   "source": [
    "# Patch residual"
   ]
  },
  {
   "cell_type": "code",
   "execution_count": 14,
   "metadata": {},
   "outputs": [
    {
     "name": "stderr",
     "output_type": "stream",
     "text": [
      "100%|██████████| 50/50 [01:24<00:00,  1.68s/it]\n",
      "100%|██████████| 50/50 [00:55<00:00,  1.11s/it]\n",
      "100%|██████████| 50/50 [01:19<00:00,  1.60s/it]\n",
      "100%|██████████| 50/50 [01:07<00:00,  1.36s/it]\n",
      "100%|██████████| 50/50 [01:16<00:00,  1.53s/it]\n",
      "100%|██████████| 50/50 [01:13<00:00,  1.47s/it]\n",
      "100%|██████████| 50/50 [01:29<00:00,  1.79s/it]\n",
      "100%|██████████| 50/50 [01:31<00:00,  1.82s/it]\n",
      "100%|██████████| 50/50 [01:27<00:00,  1.75s/it]\n",
      "100%|██████████| 50/50 [01:13<00:00,  1.47s/it]\n",
      "100%|██████████| 50/50 [01:11<00:00,  1.43s/it]\n",
      "100%|██████████| 50/50 [01:08<00:00,  1.36s/it]\n",
      "100%|██████████| 12/12 [15:18<00:00, 76.54s/it]\n"
     ]
    }
   ],
   "source": [
    "from functools import partial\n",
    "import vit_prisma.utils.prisma_utils as prisma_utils \n",
    "from tqdm import tqdm\n",
    "\n",
    "# Do activation patching\n",
    "def patch_residual_component(\n",
    "        corrupted_residual_component,\n",
    "        hook,\n",
    "        pos,\n",
    "        clean_cache\n",
    "):\n",
    "    corrupted_residual_component[:, pos, :] = clean_cache[hook.name][:, pos, :]\n",
    "    return corrupted_residual_component\n",
    "\n",
    "def normalize_patched_logit_diff(patched_logit_diff):\n",
    "    # Subtract corrupted logit diff to measure the improvement, divide by the total improvement from clean to corrupted to normalise\n",
    "    # 0 means zero change, negative means actively made worse, 1 means totally recovered clean performance, >1 means actively *improved* on clean performance\n",
    "    return (patched_logit_diff - corrupted_logit_diff) / (\n",
    "        original_average_logit_diff - corrupted_logit_diff\n",
    "    )\n",
    "\n",
    "num_tokens=50\n",
    "layer_num = prisma_model.cfg.n_layers\n",
    "patched_residual_stream = np.empty((layer_num, num_tokens))\n",
    "for layer in tqdm(range(prisma_model.cfg.n_layers)):\n",
    "    for position in tqdm(range(num_tokens)):\n",
    "        hook_fn = partial(patch_residual_component, pos=position, clean_cache=cache)\n",
    "        patched_logits = prisma_model.run_with_hooks(\n",
    "            crop_out_dog.unsqueeze(0),\n",
    "            fwd_hooks=[(prisma_utils.get_act_name(\"resid_pre\", layer), hook_fn)],\n",
    "            # return_type=\"logits\",\n",
    "        )\n",
    "        patched_logit_diff = logits_to_ave_logit_diff(patched_logits, answer_tokens, per_prompt=False)\n",
    "        logit_diff = normalize_patched_logit_diff(patched_logit_diff)\n",
    "        patched_residual_stream[layer, position] = logit_diff.item()"
   ]
  },
  {
   "cell_type": "code",
   "execution_count": 15,
   "metadata": {},
   "outputs": [
    {
     "ename": "AttributeError",
     "evalue": "'numpy.ndarray' object has no attribute 'detach'",
     "output_type": "error",
     "traceback": [
      "\u001b[0;31m---------------------------------------------------------------------------\u001b[0m",
      "\u001b[0;31mAttributeError\u001b[0m                            Traceback (most recent call last)",
      "Cell \u001b[0;32mIn[15], line 1\u001b[0m\n\u001b[0;32m----> 1\u001b[0m np_patched_residual \u001b[38;5;241m=\u001b[39m \u001b[43mpatched_residual_stream\u001b[49m\u001b[38;5;241;43m.\u001b[39;49m\u001b[43mdetach\u001b[49m()\u001b[38;5;241m.\u001b[39mcpu()\u001b[38;5;241m.\u001b[39mnumpy()\n",
      "\u001b[0;31mAttributeError\u001b[0m: 'numpy.ndarray' object has no attribute 'detach'"
     ]
    }
   ],
   "source": [
    "np_patched_residual = patched_residual_stream.detach().cpu().numpy()"
   ]
  },
  {
   "cell_type": "code",
   "execution_count": null,
   "metadata": {},
   "outputs": [
    {
     "data": {
      "application/vnd.plotly.v1+json": {
       "config": {
        "plotlyServerURL": "https://plot.ly"
       },
       "data": [
        {
         "coloraxis": "coloraxis",
         "hovertemplate": "Layer: %{y}<br>Patch: %{x}<br>Difference: %{z}<extra></extra>",
         "name": "0",
         "text": [
          [
           "Layer: 0, Patch: 0",
           "Layer: 0, Patch: 1",
           "Layer: 0, Patch: 2",
           "Layer: 0, Patch: 3",
           "Layer: 0, Patch: 4",
           "Layer: 0, Patch: 5",
           "Layer: 0, Patch: 6",
           "Layer: 0, Patch: 7",
           "Layer: 0, Patch: 8",
           "Layer: 0, Patch: 9",
           "Layer: 0, Patch: 10",
           "Layer: 0, Patch: 11",
           "Layer: 0, Patch: 12",
           "Layer: 0, Patch: 13",
           "Layer: 0, Patch: 14",
           "Layer: 0, Patch: 15",
           "Layer: 0, Patch: 16",
           "Layer: 0, Patch: 17",
           "Layer: 0, Patch: 18",
           "Layer: 0, Patch: 19",
           "Layer: 0, Patch: 20",
           "Layer: 0, Patch: 21",
           "Layer: 0, Patch: 22",
           "Layer: 0, Patch: 23",
           "Layer: 0, Patch: 24",
           "Layer: 0, Patch: 25",
           "Layer: 0, Patch: 26",
           "Layer: 0, Patch: 27",
           "Layer: 0, Patch: 28",
           "Layer: 0, Patch: 29",
           "Layer: 0, Patch: 30",
           "Layer: 0, Patch: 31",
           "Layer: 0, Patch: 32",
           "Layer: 0, Patch: 33",
           "Layer: 0, Patch: 34",
           "Layer: 0, Patch: 35",
           "Layer: 0, Patch: 36",
           "Layer: 0, Patch: 37",
           "Layer: 0, Patch: 38",
           "Layer: 0, Patch: 39",
           "Layer: 0, Patch: 40",
           "Layer: 0, Patch: 41",
           "Layer: 0, Patch: 42",
           "Layer: 0, Patch: 43",
           "Layer: 0, Patch: 44",
           "Layer: 0, Patch: 45",
           "Layer: 0, Patch: 46",
           "Layer: 0, Patch: 47",
           "Layer: 0, Patch: 48",
           "Layer: 0, Patch: 49"
          ],
          [
           "Layer: 1, Patch: 0",
           "Layer: 1, Patch: 1",
           "Layer: 1, Patch: 2",
           "Layer: 1, Patch: 3",
           "Layer: 1, Patch: 4",
           "Layer: 1, Patch: 5",
           "Layer: 1, Patch: 6",
           "Layer: 1, Patch: 7",
           "Layer: 1, Patch: 8",
           "Layer: 1, Patch: 9",
           "Layer: 1, Patch: 10",
           "Layer: 1, Patch: 11",
           "Layer: 1, Patch: 12",
           "Layer: 1, Patch: 13",
           "Layer: 1, Patch: 14",
           "Layer: 1, Patch: 15",
           "Layer: 1, Patch: 16",
           "Layer: 1, Patch: 17",
           "Layer: 1, Patch: 18",
           "Layer: 1, Patch: 19",
           "Layer: 1, Patch: 20",
           "Layer: 1, Patch: 21",
           "Layer: 1, Patch: 22",
           "Layer: 1, Patch: 23",
           "Layer: 1, Patch: 24",
           "Layer: 1, Patch: 25",
           "Layer: 1, Patch: 26",
           "Layer: 1, Patch: 27",
           "Layer: 1, Patch: 28",
           "Layer: 1, Patch: 29",
           "Layer: 1, Patch: 30",
           "Layer: 1, Patch: 31",
           "Layer: 1, Patch: 32",
           "Layer: 1, Patch: 33",
           "Layer: 1, Patch: 34",
           "Layer: 1, Patch: 35",
           "Layer: 1, Patch: 36",
           "Layer: 1, Patch: 37",
           "Layer: 1, Patch: 38",
           "Layer: 1, Patch: 39",
           "Layer: 1, Patch: 40",
           "Layer: 1, Patch: 41",
           "Layer: 1, Patch: 42",
           "Layer: 1, Patch: 43",
           "Layer: 1, Patch: 44",
           "Layer: 1, Patch: 45",
           "Layer: 1, Patch: 46",
           "Layer: 1, Patch: 47",
           "Layer: 1, Patch: 48",
           "Layer: 1, Patch: 49"
          ],
          [
           "Layer: 2, Patch: 0",
           "Layer: 2, Patch: 1",
           "Layer: 2, Patch: 2",
           "Layer: 2, Patch: 3",
           "Layer: 2, Patch: 4",
           "Layer: 2, Patch: 5",
           "Layer: 2, Patch: 6",
           "Layer: 2, Patch: 7",
           "Layer: 2, Patch: 8",
           "Layer: 2, Patch: 9",
           "Layer: 2, Patch: 10",
           "Layer: 2, Patch: 11",
           "Layer: 2, Patch: 12",
           "Layer: 2, Patch: 13",
           "Layer: 2, Patch: 14",
           "Layer: 2, Patch: 15",
           "Layer: 2, Patch: 16",
           "Layer: 2, Patch: 17",
           "Layer: 2, Patch: 18",
           "Layer: 2, Patch: 19",
           "Layer: 2, Patch: 20",
           "Layer: 2, Patch: 21",
           "Layer: 2, Patch: 22",
           "Layer: 2, Patch: 23",
           "Layer: 2, Patch: 24",
           "Layer: 2, Patch: 25",
           "Layer: 2, Patch: 26",
           "Layer: 2, Patch: 27",
           "Layer: 2, Patch: 28",
           "Layer: 2, Patch: 29",
           "Layer: 2, Patch: 30",
           "Layer: 2, Patch: 31",
           "Layer: 2, Patch: 32",
           "Layer: 2, Patch: 33",
           "Layer: 2, Patch: 34",
           "Layer: 2, Patch: 35",
           "Layer: 2, Patch: 36",
           "Layer: 2, Patch: 37",
           "Layer: 2, Patch: 38",
           "Layer: 2, Patch: 39",
           "Layer: 2, Patch: 40",
           "Layer: 2, Patch: 41",
           "Layer: 2, Patch: 42",
           "Layer: 2, Patch: 43",
           "Layer: 2, Patch: 44",
           "Layer: 2, Patch: 45",
           "Layer: 2, Patch: 46",
           "Layer: 2, Patch: 47",
           "Layer: 2, Patch: 48",
           "Layer: 2, Patch: 49"
          ],
          [
           "Layer: 3, Patch: 0",
           "Layer: 3, Patch: 1",
           "Layer: 3, Patch: 2",
           "Layer: 3, Patch: 3",
           "Layer: 3, Patch: 4",
           "Layer: 3, Patch: 5",
           "Layer: 3, Patch: 6",
           "Layer: 3, Patch: 7",
           "Layer: 3, Patch: 8",
           "Layer: 3, Patch: 9",
           "Layer: 3, Patch: 10",
           "Layer: 3, Patch: 11",
           "Layer: 3, Patch: 12",
           "Layer: 3, Patch: 13",
           "Layer: 3, Patch: 14",
           "Layer: 3, Patch: 15",
           "Layer: 3, Patch: 16",
           "Layer: 3, Patch: 17",
           "Layer: 3, Patch: 18",
           "Layer: 3, Patch: 19",
           "Layer: 3, Patch: 20",
           "Layer: 3, Patch: 21",
           "Layer: 3, Patch: 22",
           "Layer: 3, Patch: 23",
           "Layer: 3, Patch: 24",
           "Layer: 3, Patch: 25",
           "Layer: 3, Patch: 26",
           "Layer: 3, Patch: 27",
           "Layer: 3, Patch: 28",
           "Layer: 3, Patch: 29",
           "Layer: 3, Patch: 30",
           "Layer: 3, Patch: 31",
           "Layer: 3, Patch: 32",
           "Layer: 3, Patch: 33",
           "Layer: 3, Patch: 34",
           "Layer: 3, Patch: 35",
           "Layer: 3, Patch: 36",
           "Layer: 3, Patch: 37",
           "Layer: 3, Patch: 38",
           "Layer: 3, Patch: 39",
           "Layer: 3, Patch: 40",
           "Layer: 3, Patch: 41",
           "Layer: 3, Patch: 42",
           "Layer: 3, Patch: 43",
           "Layer: 3, Patch: 44",
           "Layer: 3, Patch: 45",
           "Layer: 3, Patch: 46",
           "Layer: 3, Patch: 47",
           "Layer: 3, Patch: 48",
           "Layer: 3, Patch: 49"
          ],
          [
           "Layer: 4, Patch: 0",
           "Layer: 4, Patch: 1",
           "Layer: 4, Patch: 2",
           "Layer: 4, Patch: 3",
           "Layer: 4, Patch: 4",
           "Layer: 4, Patch: 5",
           "Layer: 4, Patch: 6",
           "Layer: 4, Patch: 7",
           "Layer: 4, Patch: 8",
           "Layer: 4, Patch: 9",
           "Layer: 4, Patch: 10",
           "Layer: 4, Patch: 11",
           "Layer: 4, Patch: 12",
           "Layer: 4, Patch: 13",
           "Layer: 4, Patch: 14",
           "Layer: 4, Patch: 15",
           "Layer: 4, Patch: 16",
           "Layer: 4, Patch: 17",
           "Layer: 4, Patch: 18",
           "Layer: 4, Patch: 19",
           "Layer: 4, Patch: 20",
           "Layer: 4, Patch: 21",
           "Layer: 4, Patch: 22",
           "Layer: 4, Patch: 23",
           "Layer: 4, Patch: 24",
           "Layer: 4, Patch: 25",
           "Layer: 4, Patch: 26",
           "Layer: 4, Patch: 27",
           "Layer: 4, Patch: 28",
           "Layer: 4, Patch: 29",
           "Layer: 4, Patch: 30",
           "Layer: 4, Patch: 31",
           "Layer: 4, Patch: 32",
           "Layer: 4, Patch: 33",
           "Layer: 4, Patch: 34",
           "Layer: 4, Patch: 35",
           "Layer: 4, Patch: 36",
           "Layer: 4, Patch: 37",
           "Layer: 4, Patch: 38",
           "Layer: 4, Patch: 39",
           "Layer: 4, Patch: 40",
           "Layer: 4, Patch: 41",
           "Layer: 4, Patch: 42",
           "Layer: 4, Patch: 43",
           "Layer: 4, Patch: 44",
           "Layer: 4, Patch: 45",
           "Layer: 4, Patch: 46",
           "Layer: 4, Patch: 47",
           "Layer: 4, Patch: 48",
           "Layer: 4, Patch: 49"
          ],
          [
           "Layer: 5, Patch: 0",
           "Layer: 5, Patch: 1",
           "Layer: 5, Patch: 2",
           "Layer: 5, Patch: 3",
           "Layer: 5, Patch: 4",
           "Layer: 5, Patch: 5",
           "Layer: 5, Patch: 6",
           "Layer: 5, Patch: 7",
           "Layer: 5, Patch: 8",
           "Layer: 5, Patch: 9",
           "Layer: 5, Patch: 10",
           "Layer: 5, Patch: 11",
           "Layer: 5, Patch: 12",
           "Layer: 5, Patch: 13",
           "Layer: 5, Patch: 14",
           "Layer: 5, Patch: 15",
           "Layer: 5, Patch: 16",
           "Layer: 5, Patch: 17",
           "Layer: 5, Patch: 18",
           "Layer: 5, Patch: 19",
           "Layer: 5, Patch: 20",
           "Layer: 5, Patch: 21",
           "Layer: 5, Patch: 22",
           "Layer: 5, Patch: 23",
           "Layer: 5, Patch: 24",
           "Layer: 5, Patch: 25",
           "Layer: 5, Patch: 26",
           "Layer: 5, Patch: 27",
           "Layer: 5, Patch: 28",
           "Layer: 5, Patch: 29",
           "Layer: 5, Patch: 30",
           "Layer: 5, Patch: 31",
           "Layer: 5, Patch: 32",
           "Layer: 5, Patch: 33",
           "Layer: 5, Patch: 34",
           "Layer: 5, Patch: 35",
           "Layer: 5, Patch: 36",
           "Layer: 5, Patch: 37",
           "Layer: 5, Patch: 38",
           "Layer: 5, Patch: 39",
           "Layer: 5, Patch: 40",
           "Layer: 5, Patch: 41",
           "Layer: 5, Patch: 42",
           "Layer: 5, Patch: 43",
           "Layer: 5, Patch: 44",
           "Layer: 5, Patch: 45",
           "Layer: 5, Patch: 46",
           "Layer: 5, Patch: 47",
           "Layer: 5, Patch: 48",
           "Layer: 5, Patch: 49"
          ],
          [
           "Layer: 6, Patch: 0",
           "Layer: 6, Patch: 1",
           "Layer: 6, Patch: 2",
           "Layer: 6, Patch: 3",
           "Layer: 6, Patch: 4",
           "Layer: 6, Patch: 5",
           "Layer: 6, Patch: 6",
           "Layer: 6, Patch: 7",
           "Layer: 6, Patch: 8",
           "Layer: 6, Patch: 9",
           "Layer: 6, Patch: 10",
           "Layer: 6, Patch: 11",
           "Layer: 6, Patch: 12",
           "Layer: 6, Patch: 13",
           "Layer: 6, Patch: 14",
           "Layer: 6, Patch: 15",
           "Layer: 6, Patch: 16",
           "Layer: 6, Patch: 17",
           "Layer: 6, Patch: 18",
           "Layer: 6, Patch: 19",
           "Layer: 6, Patch: 20",
           "Layer: 6, Patch: 21",
           "Layer: 6, Patch: 22",
           "Layer: 6, Patch: 23",
           "Layer: 6, Patch: 24",
           "Layer: 6, Patch: 25",
           "Layer: 6, Patch: 26",
           "Layer: 6, Patch: 27",
           "Layer: 6, Patch: 28",
           "Layer: 6, Patch: 29",
           "Layer: 6, Patch: 30",
           "Layer: 6, Patch: 31",
           "Layer: 6, Patch: 32",
           "Layer: 6, Patch: 33",
           "Layer: 6, Patch: 34",
           "Layer: 6, Patch: 35",
           "Layer: 6, Patch: 36",
           "Layer: 6, Patch: 37",
           "Layer: 6, Patch: 38",
           "Layer: 6, Patch: 39",
           "Layer: 6, Patch: 40",
           "Layer: 6, Patch: 41",
           "Layer: 6, Patch: 42",
           "Layer: 6, Patch: 43",
           "Layer: 6, Patch: 44",
           "Layer: 6, Patch: 45",
           "Layer: 6, Patch: 46",
           "Layer: 6, Patch: 47",
           "Layer: 6, Patch: 48",
           "Layer: 6, Patch: 49"
          ],
          [
           "Layer: 7, Patch: 0",
           "Layer: 7, Patch: 1",
           "Layer: 7, Patch: 2",
           "Layer: 7, Patch: 3",
           "Layer: 7, Patch: 4",
           "Layer: 7, Patch: 5",
           "Layer: 7, Patch: 6",
           "Layer: 7, Patch: 7",
           "Layer: 7, Patch: 8",
           "Layer: 7, Patch: 9",
           "Layer: 7, Patch: 10",
           "Layer: 7, Patch: 11",
           "Layer: 7, Patch: 12",
           "Layer: 7, Patch: 13",
           "Layer: 7, Patch: 14",
           "Layer: 7, Patch: 15",
           "Layer: 7, Patch: 16",
           "Layer: 7, Patch: 17",
           "Layer: 7, Patch: 18",
           "Layer: 7, Patch: 19",
           "Layer: 7, Patch: 20",
           "Layer: 7, Patch: 21",
           "Layer: 7, Patch: 22",
           "Layer: 7, Patch: 23",
           "Layer: 7, Patch: 24",
           "Layer: 7, Patch: 25",
           "Layer: 7, Patch: 26",
           "Layer: 7, Patch: 27",
           "Layer: 7, Patch: 28",
           "Layer: 7, Patch: 29",
           "Layer: 7, Patch: 30",
           "Layer: 7, Patch: 31",
           "Layer: 7, Patch: 32",
           "Layer: 7, Patch: 33",
           "Layer: 7, Patch: 34",
           "Layer: 7, Patch: 35",
           "Layer: 7, Patch: 36",
           "Layer: 7, Patch: 37",
           "Layer: 7, Patch: 38",
           "Layer: 7, Patch: 39",
           "Layer: 7, Patch: 40",
           "Layer: 7, Patch: 41",
           "Layer: 7, Patch: 42",
           "Layer: 7, Patch: 43",
           "Layer: 7, Patch: 44",
           "Layer: 7, Patch: 45",
           "Layer: 7, Patch: 46",
           "Layer: 7, Patch: 47",
           "Layer: 7, Patch: 48",
           "Layer: 7, Patch: 49"
          ],
          [
           "Layer: 8, Patch: 0",
           "Layer: 8, Patch: 1",
           "Layer: 8, Patch: 2",
           "Layer: 8, Patch: 3",
           "Layer: 8, Patch: 4",
           "Layer: 8, Patch: 5",
           "Layer: 8, Patch: 6",
           "Layer: 8, Patch: 7",
           "Layer: 8, Patch: 8",
           "Layer: 8, Patch: 9",
           "Layer: 8, Patch: 10",
           "Layer: 8, Patch: 11",
           "Layer: 8, Patch: 12",
           "Layer: 8, Patch: 13",
           "Layer: 8, Patch: 14",
           "Layer: 8, Patch: 15",
           "Layer: 8, Patch: 16",
           "Layer: 8, Patch: 17",
           "Layer: 8, Patch: 18",
           "Layer: 8, Patch: 19",
           "Layer: 8, Patch: 20",
           "Layer: 8, Patch: 21",
           "Layer: 8, Patch: 22",
           "Layer: 8, Patch: 23",
           "Layer: 8, Patch: 24",
           "Layer: 8, Patch: 25",
           "Layer: 8, Patch: 26",
           "Layer: 8, Patch: 27",
           "Layer: 8, Patch: 28",
           "Layer: 8, Patch: 29",
           "Layer: 8, Patch: 30",
           "Layer: 8, Patch: 31",
           "Layer: 8, Patch: 32",
           "Layer: 8, Patch: 33",
           "Layer: 8, Patch: 34",
           "Layer: 8, Patch: 35",
           "Layer: 8, Patch: 36",
           "Layer: 8, Patch: 37",
           "Layer: 8, Patch: 38",
           "Layer: 8, Patch: 39",
           "Layer: 8, Patch: 40",
           "Layer: 8, Patch: 41",
           "Layer: 8, Patch: 42",
           "Layer: 8, Patch: 43",
           "Layer: 8, Patch: 44",
           "Layer: 8, Patch: 45",
           "Layer: 8, Patch: 46",
           "Layer: 8, Patch: 47",
           "Layer: 8, Patch: 48",
           "Layer: 8, Patch: 49"
          ],
          [
           "Layer: 9, Patch: 0",
           "Layer: 9, Patch: 1",
           "Layer: 9, Patch: 2",
           "Layer: 9, Patch: 3",
           "Layer: 9, Patch: 4",
           "Layer: 9, Patch: 5",
           "Layer: 9, Patch: 6",
           "Layer: 9, Patch: 7",
           "Layer: 9, Patch: 8",
           "Layer: 9, Patch: 9",
           "Layer: 9, Patch: 10",
           "Layer: 9, Patch: 11",
           "Layer: 9, Patch: 12",
           "Layer: 9, Patch: 13",
           "Layer: 9, Patch: 14",
           "Layer: 9, Patch: 15",
           "Layer: 9, Patch: 16",
           "Layer: 9, Patch: 17",
           "Layer: 9, Patch: 18",
           "Layer: 9, Patch: 19",
           "Layer: 9, Patch: 20",
           "Layer: 9, Patch: 21",
           "Layer: 9, Patch: 22",
           "Layer: 9, Patch: 23",
           "Layer: 9, Patch: 24",
           "Layer: 9, Patch: 25",
           "Layer: 9, Patch: 26",
           "Layer: 9, Patch: 27",
           "Layer: 9, Patch: 28",
           "Layer: 9, Patch: 29",
           "Layer: 9, Patch: 30",
           "Layer: 9, Patch: 31",
           "Layer: 9, Patch: 32",
           "Layer: 9, Patch: 33",
           "Layer: 9, Patch: 34",
           "Layer: 9, Patch: 35",
           "Layer: 9, Patch: 36",
           "Layer: 9, Patch: 37",
           "Layer: 9, Patch: 38",
           "Layer: 9, Patch: 39",
           "Layer: 9, Patch: 40",
           "Layer: 9, Patch: 41",
           "Layer: 9, Patch: 42",
           "Layer: 9, Patch: 43",
           "Layer: 9, Patch: 44",
           "Layer: 9, Patch: 45",
           "Layer: 9, Patch: 46",
           "Layer: 9, Patch: 47",
           "Layer: 9, Patch: 48",
           "Layer: 9, Patch: 49"
          ],
          [
           "Layer: 10, Patch: 0",
           "Layer: 10, Patch: 1",
           "Layer: 10, Patch: 2",
           "Layer: 10, Patch: 3",
           "Layer: 10, Patch: 4",
           "Layer: 10, Patch: 5",
           "Layer: 10, Patch: 6",
           "Layer: 10, Patch: 7",
           "Layer: 10, Patch: 8",
           "Layer: 10, Patch: 9",
           "Layer: 10, Patch: 10",
           "Layer: 10, Patch: 11",
           "Layer: 10, Patch: 12",
           "Layer: 10, Patch: 13",
           "Layer: 10, Patch: 14",
           "Layer: 10, Patch: 15",
           "Layer: 10, Patch: 16",
           "Layer: 10, Patch: 17",
           "Layer: 10, Patch: 18",
           "Layer: 10, Patch: 19",
           "Layer: 10, Patch: 20",
           "Layer: 10, Patch: 21",
           "Layer: 10, Patch: 22",
           "Layer: 10, Patch: 23",
           "Layer: 10, Patch: 24",
           "Layer: 10, Patch: 25",
           "Layer: 10, Patch: 26",
           "Layer: 10, Patch: 27",
           "Layer: 10, Patch: 28",
           "Layer: 10, Patch: 29",
           "Layer: 10, Patch: 30",
           "Layer: 10, Patch: 31",
           "Layer: 10, Patch: 32",
           "Layer: 10, Patch: 33",
           "Layer: 10, Patch: 34",
           "Layer: 10, Patch: 35",
           "Layer: 10, Patch: 36",
           "Layer: 10, Patch: 37",
           "Layer: 10, Patch: 38",
           "Layer: 10, Patch: 39",
           "Layer: 10, Patch: 40",
           "Layer: 10, Patch: 41",
           "Layer: 10, Patch: 42",
           "Layer: 10, Patch: 43",
           "Layer: 10, Patch: 44",
           "Layer: 10, Patch: 45",
           "Layer: 10, Patch: 46",
           "Layer: 10, Patch: 47",
           "Layer: 10, Patch: 48",
           "Layer: 10, Patch: 49"
          ],
          [
           "Layer: 11, Patch: 0",
           "Layer: 11, Patch: 1",
           "Layer: 11, Patch: 2",
           "Layer: 11, Patch: 3",
           "Layer: 11, Patch: 4",
           "Layer: 11, Patch: 5",
           "Layer: 11, Patch: 6",
           "Layer: 11, Patch: 7",
           "Layer: 11, Patch: 8",
           "Layer: 11, Patch: 9",
           "Layer: 11, Patch: 10",
           "Layer: 11, Patch: 11",
           "Layer: 11, Patch: 12",
           "Layer: 11, Patch: 13",
           "Layer: 11, Patch: 14",
           "Layer: 11, Patch: 15",
           "Layer: 11, Patch: 16",
           "Layer: 11, Patch: 17",
           "Layer: 11, Patch: 18",
           "Layer: 11, Patch: 19",
           "Layer: 11, Patch: 20",
           "Layer: 11, Patch: 21",
           "Layer: 11, Patch: 22",
           "Layer: 11, Patch: 23",
           "Layer: 11, Patch: 24",
           "Layer: 11, Patch: 25",
           "Layer: 11, Patch: 26",
           "Layer: 11, Patch: 27",
           "Layer: 11, Patch: 28",
           "Layer: 11, Patch: 29",
           "Layer: 11, Patch: 30",
           "Layer: 11, Patch: 31",
           "Layer: 11, Patch: 32",
           "Layer: 11, Patch: 33",
           "Layer: 11, Patch: 34",
           "Layer: 11, Patch: 35",
           "Layer: 11, Patch: 36",
           "Layer: 11, Patch: 37",
           "Layer: 11, Patch: 38",
           "Layer: 11, Patch: 39",
           "Layer: 11, Patch: 40",
           "Layer: 11, Patch: 41",
           "Layer: 11, Patch: 42",
           "Layer: 11, Patch: 43",
           "Layer: 11, Patch: 44",
           "Layer: 11, Patch: 45",
           "Layer: 11, Patch: 46",
           "Layer: 11, Patch: 47",
           "Layer: 11, Patch: 48",
           "Layer: 11, Patch: 49"
          ]
         ],
         "type": "heatmap",
         "x": [
          0,
          1,
          2,
          3,
          4,
          5,
          6,
          7,
          8,
          9,
          10,
          11,
          12,
          13,
          14,
          15,
          16,
          17,
          18,
          19,
          20,
          21,
          22,
          23,
          24,
          25,
          26,
          27,
          28,
          29,
          30,
          31,
          32,
          33,
          34,
          35,
          36,
          37,
          38,
          39,
          40,
          41,
          42,
          43,
          44,
          45,
          46,
          47,
          48,
          49
         ],
         "xaxis": "x",
         "y": [
          0,
          1,
          2,
          3,
          4,
          5,
          6,
          7,
          8,
          9,
          10,
          11
         ],
         "yaxis": "y",
         "z": [
          [
           0,
           0.0005737407482229173,
           0.07096601277589798,
           0.08988852798938751,
           0.10110779106616974,
           0.08215795457363129,
           0,
           0,
           -0.0019763505551964045,
           0.33818191289901733,
           0.030360611155629158,
           0.05445632338523865,
           0.02357599325478077,
           0,
           0,
           0.0011392130982130766,
           0.225495845079422,
           0.3056744635105133,
           0.06742603331804276,
           0.007779064122587442,
           0,
           0,
           -0.0008554959786124527,
           0.14908605813980103,
           0.16579657793045044,
           0.17765116691589355,
           -0.0016510812565684319,
           0,
           0,
           0.012603867799043655,
           0.20780296623706818,
           0.2556954622268677,
           0.3077552020549774,
           0.0017803621012717485,
           0,
           0,
           0.046901483088731766,
           0.36560794711112976,
           0.2753533720970154,
           0.2947825789451599,
           0.029325874522328377,
           0,
           0,
           0.046351708471775055,
           0.06382907927036285,
           0.12363454699516296,
           0.03532583639025688,
           -0.0053771729581058025,
           0,
           0
          ],
          [
           -0.0009435050305910408,
           -0.0014855737099424005,
           0.0665668174624443,
           0.08730662614107132,
           0.11663194000720978,
           0.08443988114595413,
           0.0011439078953117132,
           -0.005396932829171419,
           -0.0024817720986902714,
           0.3477419316768646,
           0.03003253974020481,
           0.05476358160376549,
           0.029914960265159607,
           0.00013446611410472542,
           -0.0011445385171100497,
           0.00049911520909518,
           0.23283521831035614,
           0.35538405179977417,
           0.07024918496608734,
           0.00955283921211958,
           -0.0054266429506242275,
           -0.0007191378972493112,
           0.0009448363562114537,
           0.17457324266433716,
           0.1534566581249237,
           0.18365401029586792,
           0.0043670302256941795,
           -0.002040465362370014,
           0.00020790044800378382,
           0.010357183404266834,
           0.21893002092838287,
           0.277593731880188,
           0.3205096125602722,
           0.0037448706571012735,
           0.0017852670280262828,
           0.00029913277830928564,
           0.0466717928647995,
           0.34135591983795166,
           0.2843822240829468,
           0.2885585129261017,
           0.02875795029103756,
           -0.0005819390644319355,
           -0.0020016462076455355,
           0.04431937262415886,
           0.06243719160556793,
           0.1199231669306755,
           0.034278206527233124,
           -0.009704682976007462,
           0.0008506610756739974,
           -0.0010851183906197548
          ],
          [
           -0.003118927124887705,
           -0.0009226239053532481,
           0.06237279623746872,
           0.061472874134778976,
           0.15945935249328613,
           0.08461211621761322,
           0.0014613291714340448,
           -0.0048100887797772884,
           -0.0021429790649563074,
           0.3737702965736389,
           0.03896854445338249,
           0.019290175288915634,
           0.030651405453681946,
           -0.0009362877462990582,
           -0.0018829460022971034,
           0.0031067347154021263,
           0.23562085628509521,
           0.24722322821617126,
           0.07166343182325363,
           0.006621982902288437,
           -0.0013000959297642112,
           -0.0016182881081476808,
           0.004541927482932806,
           0.11218845844268799,
           0.17919427156448364,
           0.16137243807315826,
           -0.0029484445694833994,
           -0.005961984861642122,
           0.0007548040011897683,
           0.007471733260899782,
           0.26859310269355774,
           0.3019346296787262,
           0.27566322684288025,
           0.007623086217790842,
           0.004066706169396639,
           0.006612312979996204,
           0.04724539443850517,
           0.42948970198631287,
           0.2187376767396927,
           0.22182002663612366,
           -0.007145903073251247,
           -0.003011298133060336,
           -0.003626871155574918,
           0.03541805222630501,
           0.04492401331663132,
           0.06121087819337845,
           0.02453610673546791,
           -0.008670646697282791,
           -0.0011436976492404938,
           -0.0010549878934398293
          ],
          [
           -0.0043088714592158794,
           -0.0018743271939456463,
           0.06893367320299149,
           0.031199920922517776,
           0.08434577286243439,
           0.07237409055233002,
           0.00015555745630990714,
           0.0018352277111262083,
           -0.0006259435904212296,
           0.2705460786819458,
           0.10741053521633148,
           0.03501633554697037,
           0.05820483714342117,
           0.0014536915114149451,
           -0.0007682576542720199,
           0.004236278124153614,
           0.380283921957016,
           0.16342762112617493,
           -0.000014855036170047242,
           0.018755044788122177,
           -0.00031980371568351984,
           -0.005747708026319742,
           -0.0008592797676101327,
           0.12116657942533493,
           0.088835708796978,
           0.09523080289363861,
           -0.006188244093209505,
           -0.011474324390292168,
           0.00144668435677886,
           0.006665707100182772,
           0.08881594985723495,
           0.15477435290813446,
           0.1100739985704422,
           0.00955157820135355,
           0.0016013309359550476,
           0.003364805830642581,
           0.042193278670310974,
           0.2315729856491089,
           0.041001442819833755,
           0.04915734753012657,
           -0.006314091384410858,
           -0.010175629518926144,
           -0.004503388423472643,
           0.028666507452726364,
           0.015154099091887474,
           0.03730064630508423,
           0.006677479017525911,
           -0.0033238143660128117,
           -0.004055494908243418,
           -0.00244498485699296
          ],
          [
           0.0021903470624238253,
           -0.0014337212778627872,
           0.08806248009204865,
           0.020456576719880104,
           0.06860847771167755,
           0.09106411039829254,
           -0.0018530256347730756,
           0.0020366115495562553,
           0.001277673291042447,
           0.33433404564857483,
           0.05867108702659607,
           0.05889930948615074,
           0.11973915994167328,
           0.012853110209107399,
           -0.0005986859905533493,
           0.0040654451586306095,
           0.35602638125419617,
           0.09041034430265427,
           -0.005179853178560734,
           0.012248538434505463,
           0.008379361592233181,
           -0.003948917146772146,
           0.0019287022296339273,
           0.05969090014696121,
           0.08587374538183212,
           0.10662293434143066,
           0.0044358400627970695,
           -0.0189890805631876,
           0.00374388974159956,
           0.0028907060623168945,
           0.03050495684146881,
           0.05454173684120178,
           0.08895756304264069,
           0.007279318291693926,
           0.001605745404958725,
           0.0028703855350613594,
           0.04108237475156784,
           0.1526867151260376,
           0.02389719896018505,
           0.02142670936882496,
           0.00708578247576952,
           -0.008784862235188484,
           -0.008707083761692047,
           0.016687531024217606,
           0.004446210339665413,
           0.02087167650461197,
           0.006283540278673172,
           -0.008583268150687218,
           -0.0035642278380692005,
           -0.003788735019043088
          ],
          [
           -0.0018625552766025066,
           -0.00071549421409145,
           0.08436980843544006,
           0.006998053751885891,
           0.05901717022061348,
           0.05894303321838379,
           -0.0016636239597573876,
           0.0008068667375482619,
           0.0016022417694330215,
           0.41154494881629944,
           0.06607695668935776,
           0.027109600603580475,
           0.10312008857727051,
           0.009453479200601578,
           -0.0014937019441276789,
           0.0035512647591531277,
           0.194974884390831,
           0.07358764857053757,
           0.000808478333055973,
           0.007046332582831383,
           0.0200029369443655,
           -0.0032988691236823797,
           0.0037544702645391226,
           0.04530218616127968,
           0.06378345936536789,
           0.10506498068571091,
           0.0021162822376936674,
           -0.002786650788038969,
           0.002869754796847701,
           0.003419531276449561,
           0.021493135020136833,
           0.04660774767398834,
           0.09912142157554626,
           0.0034194611944258213,
           0.007398789282888174,
           0.005775596015155315,
           0.059294719249010086,
           0.10383705794811249,
           0.012462745420634747,
           0.0012131379917263985,
           0.007733027450740337,
           -0.011556237004697323,
           -0.008418671786785126,
           0.011383302509784698,
           0.0107700414955616,
           0.030553726479411125,
           0.017352715134620667,
           -0.012931659817695618,
           -0.0012703859247267246,
           -0.0028304450679570436
          ],
          [
           0.009500076062977314,
           -0.002193710533902049,
           0.06010887399315834,
           0.02731834165751934,
           0.058221444487571716,
           0.024680592119693756,
           0.00363661115989089,
           0.002038433449342847,
           0.0037024777848273516,
           0.19934667646884918,
           0.05226786807179451,
           0.004960601218044758,
           0.050633180886507034,
           0.009449765086174011,
           0.0014289563987404108,
           0.009089671075344086,
           0.21221758425235748,
           0.1101849228143692,
           -0.0012750806054100394,
           0.0011848993599414825,
           0.01767279952764511,
           -0.0018101423047482967,
           0.006056790705770254,
           0.03342039883136749,
           0.06518130749464035,
           0.09909781068563461,
           0.002213750733062625,
           -0.0015885779866948724,
           0.005910132545977831,
           0.005624523386359215,
           0.05427560955286026,
           0.025383614003658295,
           0.07782343775033951,
           -0.0025364274624735117,
           0.0028637286741286516,
           0.0024759562220424414,
           0.034467607736587524,
           0.06314785033464432,
           0.003640535054728389,
           -0.004975666292011738,
           0.006511060521006584,
           -0.008775122463703156,
           -0.006503773387521505,
           0.00751664862036705,
           -0.0012556009460240602,
           0.027355970814824104,
           0.010175559669733047,
           -0.009028078056871891,
           -0.006225802004337311,
           -0.005978521425276995
          ],
          [
           0.05165642872452736,
           0.0034837862476706505,
           0.05027960240840912,
           0.03473423048853874,
           0.14055800437927246,
           0.021800115704536438,
           0.013625011779367924,
           -0.000015135320609260816,
           0.0013860029866918921,
           0.15523485839366913,
           0.039372362196445465,
           0.028089752420783043,
           0.0509101040661335,
           0.00884091854095459,
           0.0007004289655014873,
           -0.0009772792691364884,
           0.34777429699897766,
           0.10007452964782715,
           0.010838640853762627,
           0.0049379682168364525,
           0.013138789683580399,
           -0.0008610315271653235,
           0.007612995803356171,
           0.05215701460838318,
           0.05946548283100128,
           0.07344217598438263,
           0.0007269157795235515,
           0.012602956965565681,
           0.006270367186516523,
           0.005875517148524523,
           0.028858711943030357,
           0.022796595469117165,
           0.05977078154683113,
           0.0024480680003762245,
           -0.002070736140012741,
           0.005205569323152304,
           0.031984854489564896,
           0.029079224914312363,
           0.004575001075863838,
           -0.003968747332692146,
           0.005328263156116009,
           -0.0075422246009111404,
           -0.0020033277105540037,
           0.0008095294469967484,
           -0.003087325021624565,
           0.017178097739815712,
           0.007745289709419012,
           -0.001251116394996643,
           -0.0087435906752944,
           -0.0026033450849354267
          ],
          [
           0.07010771334171295,
           0.002460260409861803,
           0.04336941987276077,
           0.018340013921260834,
           0.08324720710515976,
           0.025951048359274864,
           0.01802056096494198,
           -0.0038468940183520317,
           0.0028035377617925406,
           0.09212785214185715,
           0.0200644601136446,
           0.03798628970980644,
           0.0320676788687706,
           0.010187892243266106,
           0.0025382493622601032,
           -0.005608827341347933,
           0.2516355812549591,
           0.04983276128768921,
           0.015551331453025341,
           -0.0006150826229713857,
           -0.0008444947889074683,
           0.002203800715506077,
           0.007400400936603546,
           0.017130309715867043,
           0.06229375675320625,
           0.07320737093687057,
           0.004344537854194641,
           0.016623135656118393,
           0.005738668609410524,
           0.004681648686528206,
           0.03114449419081211,
           0.018751120194792747,
           0.04029330611228943,
           -0.0013728296617045999,
           -0.010121394880115986,
           -0.0007844440406188369,
           0.022555481642484665,
           0.025602376088500023,
           0.0036045885644853115,
           0.0071807983331382275,
           0.006712514441460371,
           0.003857965115457773,
           0.006552753038704395,
           0.00463505182415247,
           0.000752842053771019,
           0.03148441016674042,
           0.004755854140967131,
           -0.0018235257593914866,
           -0.009003273211419582,
           -0.004753962159156799
          ],
          [
           0.11600949615240097,
           0.01110813394188881,
           0.04146678373217583,
           0.03377817943692207,
           0.07622553408145905,
           0.024701403453946114,
           0.018064705654978752,
           -0.0016266264719888568,
           0.0028197942301630974,
           0.0944131463766098,
           0.06536068767309189,
           0.11948844790458679,
           0.023623641580343246,
           0.011385474354028702,
           0.0012124372879043221,
           -0.01519382931292057,
           0.2013884037733078,
           0.021103892475366592,
           0.04528060555458069,
           0.008793901652097702,
           0.005081824027001858,
           0.0006811594939790666,
           0.004062081687152386,
           0.047198306769132614,
           0.08010298013687134,
           0.12165090441703796,
           0.006610070820897818,
           -0.0015050534857437015,
           0.0023222207091748714,
           0.010226922109723091,
           0.05427364632487297,
           0.03503483161330223,
           0.0333600677549839,
           0.009390135295689106,
           -0.014675864949822426,
           -0.002485275734215975,
           0.03565678372979164,
           0.035027194768190384,
           0.0019135669572278857,
           0.0167384035885334,
           0.0032154147047549486,
           -0.0025397208519279957,
           0.00403846800327301,
           0.002497678156942129,
           0.006361038889735937,
           0.039445798844099045,
           -0.0017221331363543868,
           -0.003288428531959653,
           -0.0155970873311162,
           -0.0031096076127141714
          ],
          [
           0.1583072543144226,
           0.004775263834744692,
           0.0312543660402298,
           0.03957536071538925,
           0.08436182141304016,
           0.0247751884162426,
           0.015744656324386597,
           -0.005719679407775402,
           0.00040206697303801775,
           0.10111536085605621,
           0.09997103363275528,
           0.1560862809419632,
           0.049396008253097534,
           0.0022880961187183857,
           -0.00003181220017722808,
           -0.01212451234459877,
           0.22270043194293976,
           0.024770213291049004,
           0.04135663062334061,
           0.016628602519631386,
           0.00009284397674491629,
           -0.0008655160781927407,
           0.004173214081674814,
           0.10724474489688873,
           0.0896448940038681,
           0.11913101375102997,
           0.0044367508962750435,
           -0.0030091959051787853,
           0.0014735215809196234,
           0.008679686114192009,
           0.10055605322122574,
           0.05858819559216499,
           0.027720339596271515,
           0.010773895308375359,
           0.0021711476147174835,
           -0.0020220368169248104,
           0.03816195949912071,
           0.0634557381272316,
           0.0007081367657519877,
           0.02069488726556301,
           0.008309781551361084,
           -0.007630303502082825,
           0.0010802834294736385,
           0.0027087319176644087,
           0.002492212690412998,
           0.03422628343105316,
           -0.0030829806346446276,
           -0.0007597089861519635,
           -0.009303737431764603,
           -0.0027146178763359785
          ],
          [
           0.28594157099723816,
           0.0017304716166108847,
           0.054562970995903015,
           0.07708825170993805,
           0.16220179200172424,
           0.03620662912726402,
           0.015522181987762451,
           -0.004744852893054485,
           0.00027180512552149594,
           0.1245773509144783,
           0.1377539038658142,
           0.1930091828107834,
           0.1097080186009407,
           0.000275308673735708,
           0.00009389503975398839,
           0.020237814635038376,
           0.2942447364330292,
           0.08649562299251556,
           0.24237218499183655,
           0.007189627271145582,
           0.005784495268017054,
           0.0006119293975643814,
           0.0019376713316887617,
           0.1096411719918251,
           0.3273812234401703,
           0.2296319156885147,
           0.00618298863992095,
           0.004017236176878214,
           0.001881054020486772,
           0.0029750014655292034,
           0.1215151771903038,
           0.16586482524871826,
           0.12219543009996414,
           0.04175645858049393,
           0.0035127957817167044,
           0.0033698510378599167,
           0.013418862596154213,
           0.10068323463201523,
           0.044659074395895004,
           0.10923181474208832,
           0.009001241065561771,
           0.0015200485941022635,
           0.00444389833137393,
           -0.0026773400604724884,
           0.002178434981033206,
           0.012235715053975582,
           -0.0009453268721699715,
           0.00026598924887366593,
           0.0007104491232894361,
           0.000690969405695796
          ]
         ]
        }
       ],
       "layout": {
        "coloraxis": {
         "colorbar": {
          "title": {
           "text": "Difference"
          }
         },
         "colorscale": [
          [
           0,
           "#440154"
          ],
          [
           0.1111111111111111,
           "#482878"
          ],
          [
           0.2222222222222222,
           "#3e4989"
          ],
          [
           0.3333333333333333,
           "#31688e"
          ],
          [
           0.4444444444444444,
           "#26828e"
          ],
          [
           0.5555555555555556,
           "#1f9e89"
          ],
          [
           0.6666666666666666,
           "#35b779"
          ],
          [
           0.7777777777777778,
           "#6ece58"
          ],
          [
           0.8888888888888888,
           "#b5de2b"
          ],
          [
           1,
           "#fde725"
          ]
         ]
        },
        "margin": {
         "t": 60
        },
        "template": {
         "data": {
          "bar": [
           {
            "error_x": {
             "color": "#2a3f5f"
            },
            "error_y": {
             "color": "#2a3f5f"
            },
            "marker": {
             "line": {
              "color": "#E5ECF6",
              "width": 0.5
             },
             "pattern": {
              "fillmode": "overlay",
              "size": 10,
              "solidity": 0.2
             }
            },
            "type": "bar"
           }
          ],
          "barpolar": [
           {
            "marker": {
             "line": {
              "color": "#E5ECF6",
              "width": 0.5
             },
             "pattern": {
              "fillmode": "overlay",
              "size": 10,
              "solidity": 0.2
             }
            },
            "type": "barpolar"
           }
          ],
          "carpet": [
           {
            "aaxis": {
             "endlinecolor": "#2a3f5f",
             "gridcolor": "white",
             "linecolor": "white",
             "minorgridcolor": "white",
             "startlinecolor": "#2a3f5f"
            },
            "baxis": {
             "endlinecolor": "#2a3f5f",
             "gridcolor": "white",
             "linecolor": "white",
             "minorgridcolor": "white",
             "startlinecolor": "#2a3f5f"
            },
            "type": "carpet"
           }
          ],
          "choropleth": [
           {
            "colorbar": {
             "outlinewidth": 0,
             "ticks": ""
            },
            "type": "choropleth"
           }
          ],
          "contour": [
           {
            "colorbar": {
             "outlinewidth": 0,
             "ticks": ""
            },
            "colorscale": [
             [
              0,
              "#0d0887"
             ],
             [
              0.1111111111111111,
              "#46039f"
             ],
             [
              0.2222222222222222,
              "#7201a8"
             ],
             [
              0.3333333333333333,
              "#9c179e"
             ],
             [
              0.4444444444444444,
              "#bd3786"
             ],
             [
              0.5555555555555556,
              "#d8576b"
             ],
             [
              0.6666666666666666,
              "#ed7953"
             ],
             [
              0.7777777777777778,
              "#fb9f3a"
             ],
             [
              0.8888888888888888,
              "#fdca26"
             ],
             [
              1,
              "#f0f921"
             ]
            ],
            "type": "contour"
           }
          ],
          "contourcarpet": [
           {
            "colorbar": {
             "outlinewidth": 0,
             "ticks": ""
            },
            "type": "contourcarpet"
           }
          ],
          "heatmap": [
           {
            "colorbar": {
             "outlinewidth": 0,
             "ticks": ""
            },
            "colorscale": [
             [
              0,
              "#0d0887"
             ],
             [
              0.1111111111111111,
              "#46039f"
             ],
             [
              0.2222222222222222,
              "#7201a8"
             ],
             [
              0.3333333333333333,
              "#9c179e"
             ],
             [
              0.4444444444444444,
              "#bd3786"
             ],
             [
              0.5555555555555556,
              "#d8576b"
             ],
             [
              0.6666666666666666,
              "#ed7953"
             ],
             [
              0.7777777777777778,
              "#fb9f3a"
             ],
             [
              0.8888888888888888,
              "#fdca26"
             ],
             [
              1,
              "#f0f921"
             ]
            ],
            "type": "heatmap"
           }
          ],
          "heatmapgl": [
           {
            "colorbar": {
             "outlinewidth": 0,
             "ticks": ""
            },
            "colorscale": [
             [
              0,
              "#0d0887"
             ],
             [
              0.1111111111111111,
              "#46039f"
             ],
             [
              0.2222222222222222,
              "#7201a8"
             ],
             [
              0.3333333333333333,
              "#9c179e"
             ],
             [
              0.4444444444444444,
              "#bd3786"
             ],
             [
              0.5555555555555556,
              "#d8576b"
             ],
             [
              0.6666666666666666,
              "#ed7953"
             ],
             [
              0.7777777777777778,
              "#fb9f3a"
             ],
             [
              0.8888888888888888,
              "#fdca26"
             ],
             [
              1,
              "#f0f921"
             ]
            ],
            "type": "heatmapgl"
           }
          ],
          "histogram": [
           {
            "marker": {
             "pattern": {
              "fillmode": "overlay",
              "size": 10,
              "solidity": 0.2
             }
            },
            "type": "histogram"
           }
          ],
          "histogram2d": [
           {
            "colorbar": {
             "outlinewidth": 0,
             "ticks": ""
            },
            "colorscale": [
             [
              0,
              "#0d0887"
             ],
             [
              0.1111111111111111,
              "#46039f"
             ],
             [
              0.2222222222222222,
              "#7201a8"
             ],
             [
              0.3333333333333333,
              "#9c179e"
             ],
             [
              0.4444444444444444,
              "#bd3786"
             ],
             [
              0.5555555555555556,
              "#d8576b"
             ],
             [
              0.6666666666666666,
              "#ed7953"
             ],
             [
              0.7777777777777778,
              "#fb9f3a"
             ],
             [
              0.8888888888888888,
              "#fdca26"
             ],
             [
              1,
              "#f0f921"
             ]
            ],
            "type": "histogram2d"
           }
          ],
          "histogram2dcontour": [
           {
            "colorbar": {
             "outlinewidth": 0,
             "ticks": ""
            },
            "colorscale": [
             [
              0,
              "#0d0887"
             ],
             [
              0.1111111111111111,
              "#46039f"
             ],
             [
              0.2222222222222222,
              "#7201a8"
             ],
             [
              0.3333333333333333,
              "#9c179e"
             ],
             [
              0.4444444444444444,
              "#bd3786"
             ],
             [
              0.5555555555555556,
              "#d8576b"
             ],
             [
              0.6666666666666666,
              "#ed7953"
             ],
             [
              0.7777777777777778,
              "#fb9f3a"
             ],
             [
              0.8888888888888888,
              "#fdca26"
             ],
             [
              1,
              "#f0f921"
             ]
            ],
            "type": "histogram2dcontour"
           }
          ],
          "mesh3d": [
           {
            "colorbar": {
             "outlinewidth": 0,
             "ticks": ""
            },
            "type": "mesh3d"
           }
          ],
          "parcoords": [
           {
            "line": {
             "colorbar": {
              "outlinewidth": 0,
              "ticks": ""
             }
            },
            "type": "parcoords"
           }
          ],
          "pie": [
           {
            "automargin": true,
            "type": "pie"
           }
          ],
          "scatter": [
           {
            "fillpattern": {
             "fillmode": "overlay",
             "size": 10,
             "solidity": 0.2
            },
            "type": "scatter"
           }
          ],
          "scatter3d": [
           {
            "line": {
             "colorbar": {
              "outlinewidth": 0,
              "ticks": ""
             }
            },
            "marker": {
             "colorbar": {
              "outlinewidth": 0,
              "ticks": ""
             }
            },
            "type": "scatter3d"
           }
          ],
          "scattercarpet": [
           {
            "marker": {
             "colorbar": {
              "outlinewidth": 0,
              "ticks": ""
             }
            },
            "type": "scattercarpet"
           }
          ],
          "scattergeo": [
           {
            "marker": {
             "colorbar": {
              "outlinewidth": 0,
              "ticks": ""
             }
            },
            "type": "scattergeo"
           }
          ],
          "scattergl": [
           {
            "marker": {
             "colorbar": {
              "outlinewidth": 0,
              "ticks": ""
             }
            },
            "type": "scattergl"
           }
          ],
          "scattermapbox": [
           {
            "marker": {
             "colorbar": {
              "outlinewidth": 0,
              "ticks": ""
             }
            },
            "type": "scattermapbox"
           }
          ],
          "scatterpolar": [
           {
            "marker": {
             "colorbar": {
              "outlinewidth": 0,
              "ticks": ""
             }
            },
            "type": "scatterpolar"
           }
          ],
          "scatterpolargl": [
           {
            "marker": {
             "colorbar": {
              "outlinewidth": 0,
              "ticks": ""
             }
            },
            "type": "scatterpolargl"
           }
          ],
          "scatterternary": [
           {
            "marker": {
             "colorbar": {
              "outlinewidth": 0,
              "ticks": ""
             }
            },
            "type": "scatterternary"
           }
          ],
          "surface": [
           {
            "colorbar": {
             "outlinewidth": 0,
             "ticks": ""
            },
            "colorscale": [
             [
              0,
              "#0d0887"
             ],
             [
              0.1111111111111111,
              "#46039f"
             ],
             [
              0.2222222222222222,
              "#7201a8"
             ],
             [
              0.3333333333333333,
              "#9c179e"
             ],
             [
              0.4444444444444444,
              "#bd3786"
             ],
             [
              0.5555555555555556,
              "#d8576b"
             ],
             [
              0.6666666666666666,
              "#ed7953"
             ],
             [
              0.7777777777777778,
              "#fb9f3a"
             ],
             [
              0.8888888888888888,
              "#fdca26"
             ],
             [
              1,
              "#f0f921"
             ]
            ],
            "type": "surface"
           }
          ],
          "table": [
           {
            "cells": {
             "fill": {
              "color": "#EBF0F8"
             },
             "line": {
              "color": "white"
             }
            },
            "header": {
             "fill": {
              "color": "#C8D4E3"
             },
             "line": {
              "color": "white"
             }
            },
            "type": "table"
           }
          ]
         },
         "layout": {
          "annotationdefaults": {
           "arrowcolor": "#2a3f5f",
           "arrowhead": 0,
           "arrowwidth": 1
          },
          "autotypenumbers": "strict",
          "coloraxis": {
           "colorbar": {
            "outlinewidth": 0,
            "ticks": ""
           }
          },
          "colorscale": {
           "diverging": [
            [
             0,
             "#8e0152"
            ],
            [
             0.1,
             "#c51b7d"
            ],
            [
             0.2,
             "#de77ae"
            ],
            [
             0.3,
             "#f1b6da"
            ],
            [
             0.4,
             "#fde0ef"
            ],
            [
             0.5,
             "#f7f7f7"
            ],
            [
             0.6,
             "#e6f5d0"
            ],
            [
             0.7,
             "#b8e186"
            ],
            [
             0.8,
             "#7fbc41"
            ],
            [
             0.9,
             "#4d9221"
            ],
            [
             1,
             "#276419"
            ]
           ],
           "sequential": [
            [
             0,
             "#0d0887"
            ],
            [
             0.1111111111111111,
             "#46039f"
            ],
            [
             0.2222222222222222,
             "#7201a8"
            ],
            [
             0.3333333333333333,
             "#9c179e"
            ],
            [
             0.4444444444444444,
             "#bd3786"
            ],
            [
             0.5555555555555556,
             "#d8576b"
            ],
            [
             0.6666666666666666,
             "#ed7953"
            ],
            [
             0.7777777777777778,
             "#fb9f3a"
            ],
            [
             0.8888888888888888,
             "#fdca26"
            ],
            [
             1,
             "#f0f921"
            ]
           ],
           "sequentialminus": [
            [
             0,
             "#0d0887"
            ],
            [
             0.1111111111111111,
             "#46039f"
            ],
            [
             0.2222222222222222,
             "#7201a8"
            ],
            [
             0.3333333333333333,
             "#9c179e"
            ],
            [
             0.4444444444444444,
             "#bd3786"
            ],
            [
             0.5555555555555556,
             "#d8576b"
            ],
            [
             0.6666666666666666,
             "#ed7953"
            ],
            [
             0.7777777777777778,
             "#fb9f3a"
            ],
            [
             0.8888888888888888,
             "#fdca26"
            ],
            [
             1,
             "#f0f921"
            ]
           ]
          },
          "colorway": [
           "#636efa",
           "#EF553B",
           "#00cc96",
           "#ab63fa",
           "#FFA15A",
           "#19d3f3",
           "#FF6692",
           "#B6E880",
           "#FF97FF",
           "#FECB52"
          ],
          "font": {
           "color": "#2a3f5f"
          },
          "geo": {
           "bgcolor": "white",
           "lakecolor": "white",
           "landcolor": "#E5ECF6",
           "showlakes": true,
           "showland": true,
           "subunitcolor": "white"
          },
          "hoverlabel": {
           "align": "left"
          },
          "hovermode": "closest",
          "mapbox": {
           "style": "light"
          },
          "paper_bgcolor": "white",
          "plot_bgcolor": "#E5ECF6",
          "polar": {
           "angularaxis": {
            "gridcolor": "white",
            "linecolor": "white",
            "ticks": ""
           },
           "bgcolor": "#E5ECF6",
           "radialaxis": {
            "gridcolor": "white",
            "linecolor": "white",
            "ticks": ""
           }
          },
          "scene": {
           "xaxis": {
            "backgroundcolor": "#E5ECF6",
            "gridcolor": "white",
            "gridwidth": 2,
            "linecolor": "white",
            "showbackground": true,
            "ticks": "",
            "zerolinecolor": "white"
           },
           "yaxis": {
            "backgroundcolor": "#E5ECF6",
            "gridcolor": "white",
            "gridwidth": 2,
            "linecolor": "white",
            "showbackground": true,
            "ticks": "",
            "zerolinecolor": "white"
           },
           "zaxis": {
            "backgroundcolor": "#E5ECF6",
            "gridcolor": "white",
            "gridwidth": 2,
            "linecolor": "white",
            "showbackground": true,
            "ticks": "",
            "zerolinecolor": "white"
           }
          },
          "shapedefaults": {
           "line": {
            "color": "#2a3f5f"
           }
          },
          "ternary": {
           "aaxis": {
            "gridcolor": "white",
            "linecolor": "white",
            "ticks": ""
           },
           "baxis": {
            "gridcolor": "white",
            "linecolor": "white",
            "ticks": ""
           },
           "bgcolor": "#E5ECF6",
           "caxis": {
            "gridcolor": "white",
            "linecolor": "white",
            "ticks": ""
           }
          },
          "title": {
           "x": 0.05
          },
          "xaxis": {
           "automargin": true,
           "gridcolor": "white",
           "linecolor": "white",
           "ticks": "",
           "title": {
            "standoff": 15
           },
           "zerolinecolor": "white",
           "zerolinewidth": 2
          },
          "yaxis": {
           "automargin": true,
           "gridcolor": "white",
           "linecolor": "white",
           "ticks": "",
           "title": {
            "standoff": 15
           },
           "zerolinecolor": "white",
           "zerolinewidth": 2
          }
         }
        },
        "title": {
         "text": "Normalized Patched MLP Difference per Layer and Patch"
        },
        "xaxis": {
         "anchor": "y",
         "constrain": "domain",
         "domain": [
          0,
          1
         ],
         "scaleanchor": "y",
         "side": "top",
         "title": {
          "text": "Patch Number"
         }
        },
        "yaxis": {
         "anchor": "x",
         "autorange": "reversed",
         "constrain": "domain",
         "domain": [
          0,
          1
         ],
         "title": {
          "text": "Layer Number"
         }
        }
       }
      },
      "text/html": [
       "<div>                            <div id=\"59fa20a6-4624-48e6-b77f-29b336c2accf\" class=\"plotly-graph-div\" style=\"height:525px; width:100%;\"></div>            <script type=\"text/javascript\">                require([\"plotly\"], function(Plotly) {                    window.PLOTLYENV=window.PLOTLYENV || {};                                    if (document.getElementById(\"59fa20a6-4624-48e6-b77f-29b336c2accf\")) {                    Plotly.newPlot(                        \"59fa20a6-4624-48e6-b77f-29b336c2accf\",                        [{\"coloraxis\":\"coloraxis\",\"name\":\"0\",\"x\":[0,1,2,3,4,5,6,7,8,9,10,11,12,13,14,15,16,17,18,19,20,21,22,23,24,25,26,27,28,29,30,31,32,33,34,35,36,37,38,39,40,41,42,43,44,45,46,47,48,49],\"y\":[0,1,2,3,4,5,6,7,8,9,10,11],\"z\":[[0.0,0.0005737407482229173,0.07096601277589798,0.08988852798938751,0.10110779106616974,0.08215795457363129,0.0,0.0,-0.0019763505551964045,0.33818191289901733,0.030360611155629158,0.05445632338523865,0.02357599325478077,0.0,0.0,0.0011392130982130766,0.225495845079422,0.3056744635105133,0.06742603331804276,0.007779064122587442,0.0,0.0,-0.0008554959786124527,0.14908605813980103,0.16579657793045044,0.17765116691589355,-0.0016510812565684319,0.0,0.0,0.012603867799043655,0.20780296623706818,0.2556954622268677,0.3077552020549774,0.0017803621012717485,0.0,0.0,0.046901483088731766,0.36560794711112976,0.2753533720970154,0.2947825789451599,0.029325874522328377,0.0,0.0,0.046351708471775055,0.06382907927036285,0.12363454699516296,0.03532583639025688,-0.0053771729581058025,0.0,0.0],[-0.0009435050305910408,-0.0014855737099424005,0.0665668174624443,0.08730662614107132,0.11663194000720978,0.08443988114595413,0.0011439078953117132,-0.005396932829171419,-0.0024817720986902714,0.3477419316768646,0.03003253974020481,0.05476358160376549,0.029914960265159607,0.00013446611410472542,-0.0011445385171100497,0.00049911520909518,0.23283521831035614,0.35538405179977417,0.07024918496608734,0.00955283921211958,-0.0054266429506242275,-0.0007191378972493112,0.0009448363562114537,0.17457324266433716,0.1534566581249237,0.18365401029586792,0.0043670302256941795,-0.002040465362370014,0.00020790044800378382,0.010357183404266834,0.21893002092838287,0.277593731880188,0.3205096125602722,0.0037448706571012735,0.0017852670280262828,0.00029913277830928564,0.0466717928647995,0.34135591983795166,0.2843822240829468,0.2885585129261017,0.02875795029103756,-0.0005819390644319355,-0.0020016462076455355,0.04431937262415886,0.06243719160556793,0.1199231669306755,0.034278206527233124,-0.009704682976007462,0.0008506610756739974,-0.0010851183906197548],[-0.003118927124887705,-0.0009226239053532481,0.06237279623746872,0.061472874134778976,0.15945935249328613,0.08461211621761322,0.0014613291714340448,-0.0048100887797772884,-0.0021429790649563074,0.3737702965736389,0.03896854445338249,0.019290175288915634,0.030651405453681946,-0.0009362877462990582,-0.0018829460022971034,0.0031067347154021263,0.23562085628509521,0.24722322821617126,0.07166343182325363,0.006621982902288437,-0.0013000959297642112,-0.0016182881081476808,0.004541927482932806,0.11218845844268799,0.17919427156448364,0.16137243807315826,-0.0029484445694833994,-0.005961984861642122,0.0007548040011897683,0.007471733260899782,0.26859310269355774,0.3019346296787262,0.27566322684288025,0.007623086217790842,0.004066706169396639,0.006612312979996204,0.04724539443850517,0.42948970198631287,0.2187376767396927,0.22182002663612366,-0.007145903073251247,-0.003011298133060336,-0.003626871155574918,0.03541805222630501,0.04492401331663132,0.06121087819337845,0.02453610673546791,-0.008670646697282791,-0.0011436976492404938,-0.0010549878934398293],[-0.0043088714592158794,-0.0018743271939456463,0.06893367320299149,0.031199920922517776,0.08434577286243439,0.07237409055233002,0.00015555745630990714,0.0018352277111262083,-0.0006259435904212296,0.2705460786819458,0.10741053521633148,0.03501633554697037,0.05820483714342117,0.0014536915114149451,-0.0007682576542720199,0.004236278124153614,0.380283921957016,0.16342762112617493,-1.4855036170047242e-05,0.018755044788122177,-0.00031980371568351984,-0.005747708026319742,-0.0008592797676101327,0.12116657942533493,0.088835708796978,0.09523080289363861,-0.006188244093209505,-0.011474324390292168,0.00144668435677886,0.006665707100182772,0.08881594985723495,0.15477435290813446,0.1100739985704422,0.00955157820135355,0.0016013309359550476,0.003364805830642581,0.042193278670310974,0.2315729856491089,0.041001442819833755,0.04915734753012657,-0.006314091384410858,-0.010175629518926144,-0.004503388423472643,0.028666507452726364,0.015154099091887474,0.03730064630508423,0.006677479017525911,-0.0033238143660128117,-0.004055494908243418,-0.00244498485699296],[0.0021903470624238253,-0.0014337212778627872,0.08806248009204865,0.020456576719880104,0.06860847771167755,0.09106411039829254,-0.0018530256347730756,0.0020366115495562553,0.001277673291042447,0.33433404564857483,0.05867108702659607,0.05889930948615074,0.11973915994167328,0.012853110209107399,-0.0005986859905533493,0.0040654451586306095,0.35602638125419617,0.09041034430265427,-0.005179853178560734,0.012248538434505463,0.008379361592233181,-0.003948917146772146,0.0019287022296339273,0.05969090014696121,0.08587374538183212,0.10662293434143066,0.0044358400627970695,-0.0189890805631876,0.00374388974159956,0.0028907060623168945,0.03050495684146881,0.05454173684120178,0.08895756304264069,0.007279318291693926,0.001605745404958725,0.0028703855350613594,0.04108237475156784,0.1526867151260376,0.02389719896018505,0.02142670936882496,0.00708578247576952,-0.008784862235188484,-0.008707083761692047,0.016687531024217606,0.004446210339665413,0.02087167650461197,0.006283540278673172,-0.008583268150687218,-0.0035642278380692005,-0.003788735019043088],[-0.0018625552766025066,-0.00071549421409145,0.08436980843544006,0.006998053751885891,0.05901717022061348,0.05894303321838379,-0.0016636239597573876,0.0008068667375482619,0.0016022417694330215,0.41154494881629944,0.06607695668935776,0.027109600603580475,0.10312008857727051,0.009453479200601578,-0.0014937019441276789,0.0035512647591531277,0.194974884390831,0.07358764857053757,0.000808478333055973,0.007046332582831383,0.0200029369443655,-0.0032988691236823797,0.0037544702645391226,0.04530218616127968,0.06378345936536789,0.10506498068571091,0.0021162822376936674,-0.002786650788038969,0.002869754796847701,0.003419531276449561,0.021493135020136833,0.04660774767398834,0.09912142157554626,0.0034194611944258213,0.007398789282888174,0.005775596015155315,0.059294719249010086,0.10383705794811249,0.012462745420634747,0.0012131379917263985,0.007733027450740337,-0.011556237004697323,-0.008418671786785126,0.011383302509784698,0.0107700414955616,0.030553726479411125,0.017352715134620667,-0.012931659817695618,-0.0012703859247267246,-0.0028304450679570436],[0.009500076062977314,-0.002193710533902049,0.06010887399315834,0.02731834165751934,0.058221444487571716,0.024680592119693756,0.00363661115989089,0.002038433449342847,0.0037024777848273516,0.19934667646884918,0.05226786807179451,0.004960601218044758,0.050633180886507034,0.009449765086174011,0.0014289563987404108,0.009089671075344086,0.21221758425235748,0.1101849228143692,-0.0012750806054100394,0.0011848993599414825,0.01767279952764511,-0.0018101423047482967,0.006056790705770254,0.03342039883136749,0.06518130749464035,0.09909781068563461,0.002213750733062625,-0.0015885779866948724,0.005910132545977831,0.005624523386359215,0.05427560955286026,0.025383614003658295,0.07782343775033951,-0.0025364274624735117,0.0028637286741286516,0.0024759562220424414,0.034467607736587524,0.06314785033464432,0.003640535054728389,-0.004975666292011738,0.006511060521006584,-0.008775122463703156,-0.006503773387521505,0.00751664862036705,-0.0012556009460240602,0.027355970814824104,0.010175559669733047,-0.009028078056871891,-0.006225802004337311,-0.005978521425276995],[0.05165642872452736,0.0034837862476706505,0.05027960240840912,0.03473423048853874,0.14055800437927246,0.021800115704536438,0.013625011779367924,-1.5135320609260816e-05,0.0013860029866918921,0.15523485839366913,0.039372362196445465,0.028089752420783043,0.0509101040661335,0.00884091854095459,0.0007004289655014873,-0.0009772792691364884,0.34777429699897766,0.10007452964782715,0.010838640853762627,0.0049379682168364525,0.013138789683580399,-0.0008610315271653235,0.007612995803356171,0.05215701460838318,0.05946548283100128,0.07344217598438263,0.0007269157795235515,0.012602956965565681,0.006270367186516523,0.005875517148524523,0.028858711943030357,0.022796595469117165,0.05977078154683113,0.0024480680003762245,-0.002070736140012741,0.005205569323152304,0.031984854489564896,0.029079224914312363,0.004575001075863838,-0.003968747332692146,0.005328263156116009,-0.0075422246009111404,-0.0020033277105540037,0.0008095294469967484,-0.003087325021624565,0.017178097739815712,0.007745289709419012,-0.001251116394996643,-0.0087435906752944,-0.0026033450849354267],[0.07010771334171295,0.002460260409861803,0.04336941987276077,0.018340013921260834,0.08324720710515976,0.025951048359274864,0.01802056096494198,-0.0038468940183520317,0.0028035377617925406,0.09212785214185715,0.0200644601136446,0.03798628970980644,0.0320676788687706,0.010187892243266106,0.0025382493622601032,-0.005608827341347933,0.2516355812549591,0.04983276128768921,0.015551331453025341,-0.0006150826229713857,-0.0008444947889074683,0.002203800715506077,0.007400400936603546,0.017130309715867043,0.06229375675320625,0.07320737093687057,0.004344537854194641,0.016623135656118393,0.005738668609410524,0.004681648686528206,0.03114449419081211,0.018751120194792747,0.04029330611228943,-0.0013728296617045999,-0.010121394880115986,-0.0007844440406188369,0.022555481642484665,0.025602376088500023,0.0036045885644853115,0.0071807983331382275,0.006712514441460371,0.003857965115457773,0.006552753038704395,0.00463505182415247,0.000752842053771019,0.03148441016674042,0.004755854140967131,-0.0018235257593914866,-0.009003273211419582,-0.004753962159156799],[0.11600949615240097,0.01110813394188881,0.04146678373217583,0.03377817943692207,0.07622553408145905,0.024701403453946114,0.018064705654978752,-0.0016266264719888568,0.0028197942301630974,0.0944131463766098,0.06536068767309189,0.11948844790458679,0.023623641580343246,0.011385474354028702,0.0012124372879043221,-0.01519382931292057,0.2013884037733078,0.021103892475366592,0.04528060555458069,0.008793901652097702,0.005081824027001858,0.0006811594939790666,0.004062081687152386,0.047198306769132614,0.08010298013687134,0.12165090441703796,0.006610070820897818,-0.0015050534857437015,0.0023222207091748714,0.010226922109723091,0.05427364632487297,0.03503483161330223,0.0333600677549839,0.009390135295689106,-0.014675864949822426,-0.002485275734215975,0.03565678372979164,0.035027194768190384,0.0019135669572278857,0.0167384035885334,0.0032154147047549486,-0.0025397208519279957,0.00403846800327301,0.002497678156942129,0.006361038889735937,0.039445798844099045,-0.0017221331363543868,-0.003288428531959653,-0.0155970873311162,-0.0031096076127141714],[0.1583072543144226,0.004775263834744692,0.0312543660402298,0.03957536071538925,0.08436182141304016,0.0247751884162426,0.015744656324386597,-0.005719679407775402,0.00040206697303801775,0.10111536085605621,0.09997103363275528,0.1560862809419632,0.049396008253097534,0.0022880961187183857,-3.181220017722808e-05,-0.01212451234459877,0.22270043194293976,0.024770213291049004,0.04135663062334061,0.016628602519631386,9.284397674491629e-05,-0.0008655160781927407,0.004173214081674814,0.10724474489688873,0.0896448940038681,0.11913101375102997,0.0044367508962750435,-0.0030091959051787853,0.0014735215809196234,0.008679686114192009,0.10055605322122574,0.05858819559216499,0.027720339596271515,0.010773895308375359,0.0021711476147174835,-0.0020220368169248104,0.03816195949912071,0.0634557381272316,0.0007081367657519877,0.02069488726556301,0.008309781551361084,-0.007630303502082825,0.0010802834294736385,0.0027087319176644087,0.002492212690412998,0.03422628343105316,-0.0030829806346446276,-0.0007597089861519635,-0.009303737431764603,-0.0027146178763359785],[0.28594157099723816,0.0017304716166108847,0.054562970995903015,0.07708825170993805,0.16220179200172424,0.03620662912726402,0.015522181987762451,-0.004744852893054485,0.00027180512552149594,0.1245773509144783,0.1377539038658142,0.1930091828107834,0.1097080186009407,0.000275308673735708,9.389503975398839e-05,0.020237814635038376,0.2942447364330292,0.08649562299251556,0.24237218499183655,0.007189627271145582,0.005784495268017054,0.0006119293975643814,0.0019376713316887617,0.1096411719918251,0.3273812234401703,0.2296319156885147,0.00618298863992095,0.004017236176878214,0.001881054020486772,0.0029750014655292034,0.1215151771903038,0.16586482524871826,0.12219543009996414,0.04175645858049393,0.0035127957817167044,0.0033698510378599167,0.013418862596154213,0.10068323463201523,0.044659074395895004,0.10923181474208832,0.009001241065561771,0.0015200485941022635,0.00444389833137393,-0.0026773400604724884,0.002178434981033206,0.012235715053975582,-0.0009453268721699715,0.00026598924887366593,0.0007104491232894361,0.000690969405695796]],\"type\":\"heatmap\",\"xaxis\":\"x\",\"yaxis\":\"y\",\"hovertemplate\":\"Layer: %{y}\\u003cbr\\u003ePatch: %{x}\\u003cbr\\u003eDifference: %{z}\\u003cextra\\u003e\\u003c\\u002fextra\\u003e\",\"text\":[[\"Layer: 0, Patch: 0\",\"Layer: 0, Patch: 1\",\"Layer: 0, Patch: 2\",\"Layer: 0, Patch: 3\",\"Layer: 0, Patch: 4\",\"Layer: 0, Patch: 5\",\"Layer: 0, Patch: 6\",\"Layer: 0, Patch: 7\",\"Layer: 0, Patch: 8\",\"Layer: 0, Patch: 9\",\"Layer: 0, Patch: 10\",\"Layer: 0, Patch: 11\",\"Layer: 0, Patch: 12\",\"Layer: 0, Patch: 13\",\"Layer: 0, Patch: 14\",\"Layer: 0, Patch: 15\",\"Layer: 0, Patch: 16\",\"Layer: 0, Patch: 17\",\"Layer: 0, Patch: 18\",\"Layer: 0, Patch: 19\",\"Layer: 0, Patch: 20\",\"Layer: 0, Patch: 21\",\"Layer: 0, Patch: 22\",\"Layer: 0, Patch: 23\",\"Layer: 0, Patch: 24\",\"Layer: 0, Patch: 25\",\"Layer: 0, Patch: 26\",\"Layer: 0, Patch: 27\",\"Layer: 0, Patch: 28\",\"Layer: 0, Patch: 29\",\"Layer: 0, Patch: 30\",\"Layer: 0, Patch: 31\",\"Layer: 0, Patch: 32\",\"Layer: 0, Patch: 33\",\"Layer: 0, Patch: 34\",\"Layer: 0, Patch: 35\",\"Layer: 0, Patch: 36\",\"Layer: 0, Patch: 37\",\"Layer: 0, Patch: 38\",\"Layer: 0, Patch: 39\",\"Layer: 0, Patch: 40\",\"Layer: 0, Patch: 41\",\"Layer: 0, Patch: 42\",\"Layer: 0, Patch: 43\",\"Layer: 0, Patch: 44\",\"Layer: 0, Patch: 45\",\"Layer: 0, Patch: 46\",\"Layer: 0, Patch: 47\",\"Layer: 0, Patch: 48\",\"Layer: 0, Patch: 49\"],[\"Layer: 1, Patch: 0\",\"Layer: 1, Patch: 1\",\"Layer: 1, Patch: 2\",\"Layer: 1, Patch: 3\",\"Layer: 1, Patch: 4\",\"Layer: 1, Patch: 5\",\"Layer: 1, Patch: 6\",\"Layer: 1, Patch: 7\",\"Layer: 1, Patch: 8\",\"Layer: 1, Patch: 9\",\"Layer: 1, Patch: 10\",\"Layer: 1, Patch: 11\",\"Layer: 1, Patch: 12\",\"Layer: 1, Patch: 13\",\"Layer: 1, Patch: 14\",\"Layer: 1, Patch: 15\",\"Layer: 1, Patch: 16\",\"Layer: 1, Patch: 17\",\"Layer: 1, Patch: 18\",\"Layer: 1, Patch: 19\",\"Layer: 1, Patch: 20\",\"Layer: 1, Patch: 21\",\"Layer: 1, Patch: 22\",\"Layer: 1, Patch: 23\",\"Layer: 1, Patch: 24\",\"Layer: 1, Patch: 25\",\"Layer: 1, Patch: 26\",\"Layer: 1, Patch: 27\",\"Layer: 1, Patch: 28\",\"Layer: 1, Patch: 29\",\"Layer: 1, Patch: 30\",\"Layer: 1, Patch: 31\",\"Layer: 1, Patch: 32\",\"Layer: 1, Patch: 33\",\"Layer: 1, Patch: 34\",\"Layer: 1, Patch: 35\",\"Layer: 1, Patch: 36\",\"Layer: 1, Patch: 37\",\"Layer: 1, Patch: 38\",\"Layer: 1, Patch: 39\",\"Layer: 1, Patch: 40\",\"Layer: 1, Patch: 41\",\"Layer: 1, Patch: 42\",\"Layer: 1, Patch: 43\",\"Layer: 1, Patch: 44\",\"Layer: 1, Patch: 45\",\"Layer: 1, Patch: 46\",\"Layer: 1, Patch: 47\",\"Layer: 1, Patch: 48\",\"Layer: 1, Patch: 49\"],[\"Layer: 2, Patch: 0\",\"Layer: 2, Patch: 1\",\"Layer: 2, Patch: 2\",\"Layer: 2, Patch: 3\",\"Layer: 2, Patch: 4\",\"Layer: 2, Patch: 5\",\"Layer: 2, Patch: 6\",\"Layer: 2, Patch: 7\",\"Layer: 2, Patch: 8\",\"Layer: 2, Patch: 9\",\"Layer: 2, Patch: 10\",\"Layer: 2, Patch: 11\",\"Layer: 2, Patch: 12\",\"Layer: 2, Patch: 13\",\"Layer: 2, Patch: 14\",\"Layer: 2, Patch: 15\",\"Layer: 2, Patch: 16\",\"Layer: 2, Patch: 17\",\"Layer: 2, Patch: 18\",\"Layer: 2, Patch: 19\",\"Layer: 2, Patch: 20\",\"Layer: 2, Patch: 21\",\"Layer: 2, Patch: 22\",\"Layer: 2, Patch: 23\",\"Layer: 2, Patch: 24\",\"Layer: 2, Patch: 25\",\"Layer: 2, Patch: 26\",\"Layer: 2, Patch: 27\",\"Layer: 2, Patch: 28\",\"Layer: 2, Patch: 29\",\"Layer: 2, Patch: 30\",\"Layer: 2, Patch: 31\",\"Layer: 2, Patch: 32\",\"Layer: 2, Patch: 33\",\"Layer: 2, Patch: 34\",\"Layer: 2, Patch: 35\",\"Layer: 2, Patch: 36\",\"Layer: 2, Patch: 37\",\"Layer: 2, Patch: 38\",\"Layer: 2, Patch: 39\",\"Layer: 2, Patch: 40\",\"Layer: 2, Patch: 41\",\"Layer: 2, Patch: 42\",\"Layer: 2, Patch: 43\",\"Layer: 2, Patch: 44\",\"Layer: 2, Patch: 45\",\"Layer: 2, Patch: 46\",\"Layer: 2, Patch: 47\",\"Layer: 2, Patch: 48\",\"Layer: 2, Patch: 49\"],[\"Layer: 3, Patch: 0\",\"Layer: 3, Patch: 1\",\"Layer: 3, Patch: 2\",\"Layer: 3, Patch: 3\",\"Layer: 3, Patch: 4\",\"Layer: 3, Patch: 5\",\"Layer: 3, Patch: 6\",\"Layer: 3, Patch: 7\",\"Layer: 3, Patch: 8\",\"Layer: 3, Patch: 9\",\"Layer: 3, Patch: 10\",\"Layer: 3, Patch: 11\",\"Layer: 3, Patch: 12\",\"Layer: 3, Patch: 13\",\"Layer: 3, Patch: 14\",\"Layer: 3, Patch: 15\",\"Layer: 3, Patch: 16\",\"Layer: 3, Patch: 17\",\"Layer: 3, Patch: 18\",\"Layer: 3, Patch: 19\",\"Layer: 3, Patch: 20\",\"Layer: 3, Patch: 21\",\"Layer: 3, Patch: 22\",\"Layer: 3, Patch: 23\",\"Layer: 3, Patch: 24\",\"Layer: 3, Patch: 25\",\"Layer: 3, Patch: 26\",\"Layer: 3, Patch: 27\",\"Layer: 3, Patch: 28\",\"Layer: 3, Patch: 29\",\"Layer: 3, Patch: 30\",\"Layer: 3, Patch: 31\",\"Layer: 3, Patch: 32\",\"Layer: 3, Patch: 33\",\"Layer: 3, Patch: 34\",\"Layer: 3, Patch: 35\",\"Layer: 3, Patch: 36\",\"Layer: 3, Patch: 37\",\"Layer: 3, Patch: 38\",\"Layer: 3, Patch: 39\",\"Layer: 3, Patch: 40\",\"Layer: 3, Patch: 41\",\"Layer: 3, Patch: 42\",\"Layer: 3, Patch: 43\",\"Layer: 3, Patch: 44\",\"Layer: 3, Patch: 45\",\"Layer: 3, Patch: 46\",\"Layer: 3, Patch: 47\",\"Layer: 3, Patch: 48\",\"Layer: 3, Patch: 49\"],[\"Layer: 4, Patch: 0\",\"Layer: 4, Patch: 1\",\"Layer: 4, Patch: 2\",\"Layer: 4, Patch: 3\",\"Layer: 4, Patch: 4\",\"Layer: 4, Patch: 5\",\"Layer: 4, Patch: 6\",\"Layer: 4, Patch: 7\",\"Layer: 4, Patch: 8\",\"Layer: 4, Patch: 9\",\"Layer: 4, Patch: 10\",\"Layer: 4, Patch: 11\",\"Layer: 4, Patch: 12\",\"Layer: 4, Patch: 13\",\"Layer: 4, Patch: 14\",\"Layer: 4, Patch: 15\",\"Layer: 4, Patch: 16\",\"Layer: 4, Patch: 17\",\"Layer: 4, Patch: 18\",\"Layer: 4, Patch: 19\",\"Layer: 4, Patch: 20\",\"Layer: 4, Patch: 21\",\"Layer: 4, Patch: 22\",\"Layer: 4, Patch: 23\",\"Layer: 4, Patch: 24\",\"Layer: 4, Patch: 25\",\"Layer: 4, Patch: 26\",\"Layer: 4, Patch: 27\",\"Layer: 4, Patch: 28\",\"Layer: 4, Patch: 29\",\"Layer: 4, Patch: 30\",\"Layer: 4, Patch: 31\",\"Layer: 4, Patch: 32\",\"Layer: 4, Patch: 33\",\"Layer: 4, Patch: 34\",\"Layer: 4, Patch: 35\",\"Layer: 4, Patch: 36\",\"Layer: 4, Patch: 37\",\"Layer: 4, Patch: 38\",\"Layer: 4, Patch: 39\",\"Layer: 4, Patch: 40\",\"Layer: 4, Patch: 41\",\"Layer: 4, Patch: 42\",\"Layer: 4, Patch: 43\",\"Layer: 4, Patch: 44\",\"Layer: 4, Patch: 45\",\"Layer: 4, Patch: 46\",\"Layer: 4, Patch: 47\",\"Layer: 4, Patch: 48\",\"Layer: 4, Patch: 49\"],[\"Layer: 5, Patch: 0\",\"Layer: 5, Patch: 1\",\"Layer: 5, Patch: 2\",\"Layer: 5, Patch: 3\",\"Layer: 5, Patch: 4\",\"Layer: 5, Patch: 5\",\"Layer: 5, Patch: 6\",\"Layer: 5, Patch: 7\",\"Layer: 5, Patch: 8\",\"Layer: 5, Patch: 9\",\"Layer: 5, Patch: 10\",\"Layer: 5, Patch: 11\",\"Layer: 5, Patch: 12\",\"Layer: 5, Patch: 13\",\"Layer: 5, Patch: 14\",\"Layer: 5, Patch: 15\",\"Layer: 5, Patch: 16\",\"Layer: 5, Patch: 17\",\"Layer: 5, Patch: 18\",\"Layer: 5, Patch: 19\",\"Layer: 5, Patch: 20\",\"Layer: 5, Patch: 21\",\"Layer: 5, Patch: 22\",\"Layer: 5, Patch: 23\",\"Layer: 5, Patch: 24\",\"Layer: 5, Patch: 25\",\"Layer: 5, Patch: 26\",\"Layer: 5, Patch: 27\",\"Layer: 5, Patch: 28\",\"Layer: 5, Patch: 29\",\"Layer: 5, Patch: 30\",\"Layer: 5, Patch: 31\",\"Layer: 5, Patch: 32\",\"Layer: 5, Patch: 33\",\"Layer: 5, Patch: 34\",\"Layer: 5, Patch: 35\",\"Layer: 5, Patch: 36\",\"Layer: 5, Patch: 37\",\"Layer: 5, Patch: 38\",\"Layer: 5, Patch: 39\",\"Layer: 5, Patch: 40\",\"Layer: 5, Patch: 41\",\"Layer: 5, Patch: 42\",\"Layer: 5, Patch: 43\",\"Layer: 5, Patch: 44\",\"Layer: 5, Patch: 45\",\"Layer: 5, Patch: 46\",\"Layer: 5, Patch: 47\",\"Layer: 5, Patch: 48\",\"Layer: 5, Patch: 49\"],[\"Layer: 6, Patch: 0\",\"Layer: 6, Patch: 1\",\"Layer: 6, Patch: 2\",\"Layer: 6, Patch: 3\",\"Layer: 6, Patch: 4\",\"Layer: 6, Patch: 5\",\"Layer: 6, Patch: 6\",\"Layer: 6, Patch: 7\",\"Layer: 6, Patch: 8\",\"Layer: 6, Patch: 9\",\"Layer: 6, Patch: 10\",\"Layer: 6, Patch: 11\",\"Layer: 6, Patch: 12\",\"Layer: 6, Patch: 13\",\"Layer: 6, Patch: 14\",\"Layer: 6, Patch: 15\",\"Layer: 6, Patch: 16\",\"Layer: 6, Patch: 17\",\"Layer: 6, Patch: 18\",\"Layer: 6, Patch: 19\",\"Layer: 6, Patch: 20\",\"Layer: 6, Patch: 21\",\"Layer: 6, Patch: 22\",\"Layer: 6, Patch: 23\",\"Layer: 6, Patch: 24\",\"Layer: 6, Patch: 25\",\"Layer: 6, Patch: 26\",\"Layer: 6, Patch: 27\",\"Layer: 6, Patch: 28\",\"Layer: 6, Patch: 29\",\"Layer: 6, Patch: 30\",\"Layer: 6, Patch: 31\",\"Layer: 6, Patch: 32\",\"Layer: 6, Patch: 33\",\"Layer: 6, Patch: 34\",\"Layer: 6, Patch: 35\",\"Layer: 6, Patch: 36\",\"Layer: 6, Patch: 37\",\"Layer: 6, Patch: 38\",\"Layer: 6, Patch: 39\",\"Layer: 6, Patch: 40\",\"Layer: 6, Patch: 41\",\"Layer: 6, Patch: 42\",\"Layer: 6, Patch: 43\",\"Layer: 6, Patch: 44\",\"Layer: 6, Patch: 45\",\"Layer: 6, Patch: 46\",\"Layer: 6, Patch: 47\",\"Layer: 6, Patch: 48\",\"Layer: 6, Patch: 49\"],[\"Layer: 7, Patch: 0\",\"Layer: 7, Patch: 1\",\"Layer: 7, Patch: 2\",\"Layer: 7, Patch: 3\",\"Layer: 7, Patch: 4\",\"Layer: 7, Patch: 5\",\"Layer: 7, Patch: 6\",\"Layer: 7, Patch: 7\",\"Layer: 7, Patch: 8\",\"Layer: 7, Patch: 9\",\"Layer: 7, Patch: 10\",\"Layer: 7, Patch: 11\",\"Layer: 7, Patch: 12\",\"Layer: 7, Patch: 13\",\"Layer: 7, Patch: 14\",\"Layer: 7, Patch: 15\",\"Layer: 7, Patch: 16\",\"Layer: 7, Patch: 17\",\"Layer: 7, Patch: 18\",\"Layer: 7, Patch: 19\",\"Layer: 7, Patch: 20\",\"Layer: 7, Patch: 21\",\"Layer: 7, Patch: 22\",\"Layer: 7, Patch: 23\",\"Layer: 7, Patch: 24\",\"Layer: 7, Patch: 25\",\"Layer: 7, Patch: 26\",\"Layer: 7, Patch: 27\",\"Layer: 7, Patch: 28\",\"Layer: 7, Patch: 29\",\"Layer: 7, Patch: 30\",\"Layer: 7, Patch: 31\",\"Layer: 7, Patch: 32\",\"Layer: 7, Patch: 33\",\"Layer: 7, Patch: 34\",\"Layer: 7, Patch: 35\",\"Layer: 7, Patch: 36\",\"Layer: 7, Patch: 37\",\"Layer: 7, Patch: 38\",\"Layer: 7, Patch: 39\",\"Layer: 7, Patch: 40\",\"Layer: 7, Patch: 41\",\"Layer: 7, Patch: 42\",\"Layer: 7, Patch: 43\",\"Layer: 7, Patch: 44\",\"Layer: 7, Patch: 45\",\"Layer: 7, Patch: 46\",\"Layer: 7, Patch: 47\",\"Layer: 7, Patch: 48\",\"Layer: 7, Patch: 49\"],[\"Layer: 8, Patch: 0\",\"Layer: 8, Patch: 1\",\"Layer: 8, Patch: 2\",\"Layer: 8, Patch: 3\",\"Layer: 8, Patch: 4\",\"Layer: 8, Patch: 5\",\"Layer: 8, Patch: 6\",\"Layer: 8, Patch: 7\",\"Layer: 8, Patch: 8\",\"Layer: 8, Patch: 9\",\"Layer: 8, Patch: 10\",\"Layer: 8, Patch: 11\",\"Layer: 8, Patch: 12\",\"Layer: 8, Patch: 13\",\"Layer: 8, Patch: 14\",\"Layer: 8, Patch: 15\",\"Layer: 8, Patch: 16\",\"Layer: 8, Patch: 17\",\"Layer: 8, Patch: 18\",\"Layer: 8, Patch: 19\",\"Layer: 8, Patch: 20\",\"Layer: 8, Patch: 21\",\"Layer: 8, Patch: 22\",\"Layer: 8, Patch: 23\",\"Layer: 8, Patch: 24\",\"Layer: 8, Patch: 25\",\"Layer: 8, Patch: 26\",\"Layer: 8, Patch: 27\",\"Layer: 8, Patch: 28\",\"Layer: 8, Patch: 29\",\"Layer: 8, Patch: 30\",\"Layer: 8, Patch: 31\",\"Layer: 8, Patch: 32\",\"Layer: 8, Patch: 33\",\"Layer: 8, Patch: 34\",\"Layer: 8, Patch: 35\",\"Layer: 8, Patch: 36\",\"Layer: 8, Patch: 37\",\"Layer: 8, Patch: 38\",\"Layer: 8, Patch: 39\",\"Layer: 8, Patch: 40\",\"Layer: 8, Patch: 41\",\"Layer: 8, Patch: 42\",\"Layer: 8, Patch: 43\",\"Layer: 8, Patch: 44\",\"Layer: 8, Patch: 45\",\"Layer: 8, Patch: 46\",\"Layer: 8, Patch: 47\",\"Layer: 8, Patch: 48\",\"Layer: 8, Patch: 49\"],[\"Layer: 9, Patch: 0\",\"Layer: 9, Patch: 1\",\"Layer: 9, Patch: 2\",\"Layer: 9, Patch: 3\",\"Layer: 9, Patch: 4\",\"Layer: 9, Patch: 5\",\"Layer: 9, Patch: 6\",\"Layer: 9, Patch: 7\",\"Layer: 9, Patch: 8\",\"Layer: 9, Patch: 9\",\"Layer: 9, Patch: 10\",\"Layer: 9, Patch: 11\",\"Layer: 9, Patch: 12\",\"Layer: 9, Patch: 13\",\"Layer: 9, Patch: 14\",\"Layer: 9, Patch: 15\",\"Layer: 9, Patch: 16\",\"Layer: 9, Patch: 17\",\"Layer: 9, Patch: 18\",\"Layer: 9, Patch: 19\",\"Layer: 9, Patch: 20\",\"Layer: 9, Patch: 21\",\"Layer: 9, Patch: 22\",\"Layer: 9, Patch: 23\",\"Layer: 9, Patch: 24\",\"Layer: 9, Patch: 25\",\"Layer: 9, Patch: 26\",\"Layer: 9, Patch: 27\",\"Layer: 9, Patch: 28\",\"Layer: 9, Patch: 29\",\"Layer: 9, Patch: 30\",\"Layer: 9, Patch: 31\",\"Layer: 9, Patch: 32\",\"Layer: 9, Patch: 33\",\"Layer: 9, Patch: 34\",\"Layer: 9, Patch: 35\",\"Layer: 9, Patch: 36\",\"Layer: 9, Patch: 37\",\"Layer: 9, Patch: 38\",\"Layer: 9, Patch: 39\",\"Layer: 9, Patch: 40\",\"Layer: 9, Patch: 41\",\"Layer: 9, Patch: 42\",\"Layer: 9, Patch: 43\",\"Layer: 9, Patch: 44\",\"Layer: 9, Patch: 45\",\"Layer: 9, Patch: 46\",\"Layer: 9, Patch: 47\",\"Layer: 9, Patch: 48\",\"Layer: 9, Patch: 49\"],[\"Layer: 10, Patch: 0\",\"Layer: 10, Patch: 1\",\"Layer: 10, Patch: 2\",\"Layer: 10, Patch: 3\",\"Layer: 10, Patch: 4\",\"Layer: 10, Patch: 5\",\"Layer: 10, Patch: 6\",\"Layer: 10, Patch: 7\",\"Layer: 10, Patch: 8\",\"Layer: 10, Patch: 9\",\"Layer: 10, Patch: 10\",\"Layer: 10, Patch: 11\",\"Layer: 10, Patch: 12\",\"Layer: 10, Patch: 13\",\"Layer: 10, Patch: 14\",\"Layer: 10, Patch: 15\",\"Layer: 10, Patch: 16\",\"Layer: 10, Patch: 17\",\"Layer: 10, Patch: 18\",\"Layer: 10, Patch: 19\",\"Layer: 10, Patch: 20\",\"Layer: 10, Patch: 21\",\"Layer: 10, Patch: 22\",\"Layer: 10, Patch: 23\",\"Layer: 10, Patch: 24\",\"Layer: 10, Patch: 25\",\"Layer: 10, Patch: 26\",\"Layer: 10, Patch: 27\",\"Layer: 10, Patch: 28\",\"Layer: 10, Patch: 29\",\"Layer: 10, Patch: 30\",\"Layer: 10, Patch: 31\",\"Layer: 10, Patch: 32\",\"Layer: 10, Patch: 33\",\"Layer: 10, Patch: 34\",\"Layer: 10, Patch: 35\",\"Layer: 10, Patch: 36\",\"Layer: 10, Patch: 37\",\"Layer: 10, Patch: 38\",\"Layer: 10, Patch: 39\",\"Layer: 10, Patch: 40\",\"Layer: 10, Patch: 41\",\"Layer: 10, Patch: 42\",\"Layer: 10, Patch: 43\",\"Layer: 10, Patch: 44\",\"Layer: 10, Patch: 45\",\"Layer: 10, Patch: 46\",\"Layer: 10, Patch: 47\",\"Layer: 10, Patch: 48\",\"Layer: 10, Patch: 49\"],[\"Layer: 11, Patch: 0\",\"Layer: 11, Patch: 1\",\"Layer: 11, Patch: 2\",\"Layer: 11, Patch: 3\",\"Layer: 11, Patch: 4\",\"Layer: 11, Patch: 5\",\"Layer: 11, Patch: 6\",\"Layer: 11, Patch: 7\",\"Layer: 11, Patch: 8\",\"Layer: 11, Patch: 9\",\"Layer: 11, Patch: 10\",\"Layer: 11, Patch: 11\",\"Layer: 11, Patch: 12\",\"Layer: 11, Patch: 13\",\"Layer: 11, Patch: 14\",\"Layer: 11, Patch: 15\",\"Layer: 11, Patch: 16\",\"Layer: 11, Patch: 17\",\"Layer: 11, Patch: 18\",\"Layer: 11, Patch: 19\",\"Layer: 11, Patch: 20\",\"Layer: 11, Patch: 21\",\"Layer: 11, Patch: 22\",\"Layer: 11, Patch: 23\",\"Layer: 11, Patch: 24\",\"Layer: 11, Patch: 25\",\"Layer: 11, Patch: 26\",\"Layer: 11, Patch: 27\",\"Layer: 11, Patch: 28\",\"Layer: 11, Patch: 29\",\"Layer: 11, Patch: 30\",\"Layer: 11, Patch: 31\",\"Layer: 11, Patch: 32\",\"Layer: 11, Patch: 33\",\"Layer: 11, Patch: 34\",\"Layer: 11, Patch: 35\",\"Layer: 11, Patch: 36\",\"Layer: 11, Patch: 37\",\"Layer: 11, Patch: 38\",\"Layer: 11, Patch: 39\",\"Layer: 11, Patch: 40\",\"Layer: 11, Patch: 41\",\"Layer: 11, Patch: 42\",\"Layer: 11, Patch: 43\",\"Layer: 11, Patch: 44\",\"Layer: 11, Patch: 45\",\"Layer: 11, Patch: 46\",\"Layer: 11, Patch: 47\",\"Layer: 11, Patch: 48\",\"Layer: 11, Patch: 49\"]]}],                        {\"template\":{\"data\":{\"histogram2dcontour\":[{\"type\":\"histogram2dcontour\",\"colorbar\":{\"outlinewidth\":0,\"ticks\":\"\"},\"colorscale\":[[0.0,\"#0d0887\"],[0.1111111111111111,\"#46039f\"],[0.2222222222222222,\"#7201a8\"],[0.3333333333333333,\"#9c179e\"],[0.4444444444444444,\"#bd3786\"],[0.5555555555555556,\"#d8576b\"],[0.6666666666666666,\"#ed7953\"],[0.7777777777777778,\"#fb9f3a\"],[0.8888888888888888,\"#fdca26\"],[1.0,\"#f0f921\"]]}],\"choropleth\":[{\"type\":\"choropleth\",\"colorbar\":{\"outlinewidth\":0,\"ticks\":\"\"}}],\"histogram2d\":[{\"type\":\"histogram2d\",\"colorbar\":{\"outlinewidth\":0,\"ticks\":\"\"},\"colorscale\":[[0.0,\"#0d0887\"],[0.1111111111111111,\"#46039f\"],[0.2222222222222222,\"#7201a8\"],[0.3333333333333333,\"#9c179e\"],[0.4444444444444444,\"#bd3786\"],[0.5555555555555556,\"#d8576b\"],[0.6666666666666666,\"#ed7953\"],[0.7777777777777778,\"#fb9f3a\"],[0.8888888888888888,\"#fdca26\"],[1.0,\"#f0f921\"]]}],\"heatmap\":[{\"type\":\"heatmap\",\"colorbar\":{\"outlinewidth\":0,\"ticks\":\"\"},\"colorscale\":[[0.0,\"#0d0887\"],[0.1111111111111111,\"#46039f\"],[0.2222222222222222,\"#7201a8\"],[0.3333333333333333,\"#9c179e\"],[0.4444444444444444,\"#bd3786\"],[0.5555555555555556,\"#d8576b\"],[0.6666666666666666,\"#ed7953\"],[0.7777777777777778,\"#fb9f3a\"],[0.8888888888888888,\"#fdca26\"],[1.0,\"#f0f921\"]]}],\"heatmapgl\":[{\"type\":\"heatmapgl\",\"colorbar\":{\"outlinewidth\":0,\"ticks\":\"\"},\"colorscale\":[[0.0,\"#0d0887\"],[0.1111111111111111,\"#46039f\"],[0.2222222222222222,\"#7201a8\"],[0.3333333333333333,\"#9c179e\"],[0.4444444444444444,\"#bd3786\"],[0.5555555555555556,\"#d8576b\"],[0.6666666666666666,\"#ed7953\"],[0.7777777777777778,\"#fb9f3a\"],[0.8888888888888888,\"#fdca26\"],[1.0,\"#f0f921\"]]}],\"contourcarpet\":[{\"type\":\"contourcarpet\",\"colorbar\":{\"outlinewidth\":0,\"ticks\":\"\"}}],\"contour\":[{\"type\":\"contour\",\"colorbar\":{\"outlinewidth\":0,\"ticks\":\"\"},\"colorscale\":[[0.0,\"#0d0887\"],[0.1111111111111111,\"#46039f\"],[0.2222222222222222,\"#7201a8\"],[0.3333333333333333,\"#9c179e\"],[0.4444444444444444,\"#bd3786\"],[0.5555555555555556,\"#d8576b\"],[0.6666666666666666,\"#ed7953\"],[0.7777777777777778,\"#fb9f3a\"],[0.8888888888888888,\"#fdca26\"],[1.0,\"#f0f921\"]]}],\"surface\":[{\"type\":\"surface\",\"colorbar\":{\"outlinewidth\":0,\"ticks\":\"\"},\"colorscale\":[[0.0,\"#0d0887\"],[0.1111111111111111,\"#46039f\"],[0.2222222222222222,\"#7201a8\"],[0.3333333333333333,\"#9c179e\"],[0.4444444444444444,\"#bd3786\"],[0.5555555555555556,\"#d8576b\"],[0.6666666666666666,\"#ed7953\"],[0.7777777777777778,\"#fb9f3a\"],[0.8888888888888888,\"#fdca26\"],[1.0,\"#f0f921\"]]}],\"mesh3d\":[{\"type\":\"mesh3d\",\"colorbar\":{\"outlinewidth\":0,\"ticks\":\"\"}}],\"scatter\":[{\"fillpattern\":{\"fillmode\":\"overlay\",\"size\":10,\"solidity\":0.2},\"type\":\"scatter\"}],\"parcoords\":[{\"type\":\"parcoords\",\"line\":{\"colorbar\":{\"outlinewidth\":0,\"ticks\":\"\"}}}],\"scatterpolargl\":[{\"type\":\"scatterpolargl\",\"marker\":{\"colorbar\":{\"outlinewidth\":0,\"ticks\":\"\"}}}],\"bar\":[{\"error_x\":{\"color\":\"#2a3f5f\"},\"error_y\":{\"color\":\"#2a3f5f\"},\"marker\":{\"line\":{\"color\":\"#E5ECF6\",\"width\":0.5},\"pattern\":{\"fillmode\":\"overlay\",\"size\":10,\"solidity\":0.2}},\"type\":\"bar\"}],\"scattergeo\":[{\"type\":\"scattergeo\",\"marker\":{\"colorbar\":{\"outlinewidth\":0,\"ticks\":\"\"}}}],\"scatterpolar\":[{\"type\":\"scatterpolar\",\"marker\":{\"colorbar\":{\"outlinewidth\":0,\"ticks\":\"\"}}}],\"histogram\":[{\"marker\":{\"pattern\":{\"fillmode\":\"overlay\",\"size\":10,\"solidity\":0.2}},\"type\":\"histogram\"}],\"scattergl\":[{\"type\":\"scattergl\",\"marker\":{\"colorbar\":{\"outlinewidth\":0,\"ticks\":\"\"}}}],\"scatter3d\":[{\"type\":\"scatter3d\",\"line\":{\"colorbar\":{\"outlinewidth\":0,\"ticks\":\"\"}},\"marker\":{\"colorbar\":{\"outlinewidth\":0,\"ticks\":\"\"}}}],\"scattermapbox\":[{\"type\":\"scattermapbox\",\"marker\":{\"colorbar\":{\"outlinewidth\":0,\"ticks\":\"\"}}}],\"scatterternary\":[{\"type\":\"scatterternary\",\"marker\":{\"colorbar\":{\"outlinewidth\":0,\"ticks\":\"\"}}}],\"scattercarpet\":[{\"type\":\"scattercarpet\",\"marker\":{\"colorbar\":{\"outlinewidth\":0,\"ticks\":\"\"}}}],\"carpet\":[{\"aaxis\":{\"endlinecolor\":\"#2a3f5f\",\"gridcolor\":\"white\",\"linecolor\":\"white\",\"minorgridcolor\":\"white\",\"startlinecolor\":\"#2a3f5f\"},\"baxis\":{\"endlinecolor\":\"#2a3f5f\",\"gridcolor\":\"white\",\"linecolor\":\"white\",\"minorgridcolor\":\"white\",\"startlinecolor\":\"#2a3f5f\"},\"type\":\"carpet\"}],\"table\":[{\"cells\":{\"fill\":{\"color\":\"#EBF0F8\"},\"line\":{\"color\":\"white\"}},\"header\":{\"fill\":{\"color\":\"#C8D4E3\"},\"line\":{\"color\":\"white\"}},\"type\":\"table\"}],\"barpolar\":[{\"marker\":{\"line\":{\"color\":\"#E5ECF6\",\"width\":0.5},\"pattern\":{\"fillmode\":\"overlay\",\"size\":10,\"solidity\":0.2}},\"type\":\"barpolar\"}],\"pie\":[{\"automargin\":true,\"type\":\"pie\"}]},\"layout\":{\"autotypenumbers\":\"strict\",\"colorway\":[\"#636efa\",\"#EF553B\",\"#00cc96\",\"#ab63fa\",\"#FFA15A\",\"#19d3f3\",\"#FF6692\",\"#B6E880\",\"#FF97FF\",\"#FECB52\"],\"font\":{\"color\":\"#2a3f5f\"},\"hovermode\":\"closest\",\"hoverlabel\":{\"align\":\"left\"},\"paper_bgcolor\":\"white\",\"plot_bgcolor\":\"#E5ECF6\",\"polar\":{\"bgcolor\":\"#E5ECF6\",\"angularaxis\":{\"gridcolor\":\"white\",\"linecolor\":\"white\",\"ticks\":\"\"},\"radialaxis\":{\"gridcolor\":\"white\",\"linecolor\":\"white\",\"ticks\":\"\"}},\"ternary\":{\"bgcolor\":\"#E5ECF6\",\"aaxis\":{\"gridcolor\":\"white\",\"linecolor\":\"white\",\"ticks\":\"\"},\"baxis\":{\"gridcolor\":\"white\",\"linecolor\":\"white\",\"ticks\":\"\"},\"caxis\":{\"gridcolor\":\"white\",\"linecolor\":\"white\",\"ticks\":\"\"}},\"coloraxis\":{\"colorbar\":{\"outlinewidth\":0,\"ticks\":\"\"}},\"colorscale\":{\"sequential\":[[0.0,\"#0d0887\"],[0.1111111111111111,\"#46039f\"],[0.2222222222222222,\"#7201a8\"],[0.3333333333333333,\"#9c179e\"],[0.4444444444444444,\"#bd3786\"],[0.5555555555555556,\"#d8576b\"],[0.6666666666666666,\"#ed7953\"],[0.7777777777777778,\"#fb9f3a\"],[0.8888888888888888,\"#fdca26\"],[1.0,\"#f0f921\"]],\"sequentialminus\":[[0.0,\"#0d0887\"],[0.1111111111111111,\"#46039f\"],[0.2222222222222222,\"#7201a8\"],[0.3333333333333333,\"#9c179e\"],[0.4444444444444444,\"#bd3786\"],[0.5555555555555556,\"#d8576b\"],[0.6666666666666666,\"#ed7953\"],[0.7777777777777778,\"#fb9f3a\"],[0.8888888888888888,\"#fdca26\"],[1.0,\"#f0f921\"]],\"diverging\":[[0,\"#8e0152\"],[0.1,\"#c51b7d\"],[0.2,\"#de77ae\"],[0.3,\"#f1b6da\"],[0.4,\"#fde0ef\"],[0.5,\"#f7f7f7\"],[0.6,\"#e6f5d0\"],[0.7,\"#b8e186\"],[0.8,\"#7fbc41\"],[0.9,\"#4d9221\"],[1,\"#276419\"]]},\"xaxis\":{\"gridcolor\":\"white\",\"linecolor\":\"white\",\"ticks\":\"\",\"title\":{\"standoff\":15},\"zerolinecolor\":\"white\",\"automargin\":true,\"zerolinewidth\":2},\"yaxis\":{\"gridcolor\":\"white\",\"linecolor\":\"white\",\"ticks\":\"\",\"title\":{\"standoff\":15},\"zerolinecolor\":\"white\",\"automargin\":true,\"zerolinewidth\":2},\"scene\":{\"xaxis\":{\"backgroundcolor\":\"#E5ECF6\",\"gridcolor\":\"white\",\"linecolor\":\"white\",\"showbackground\":true,\"ticks\":\"\",\"zerolinecolor\":\"white\",\"gridwidth\":2},\"yaxis\":{\"backgroundcolor\":\"#E5ECF6\",\"gridcolor\":\"white\",\"linecolor\":\"white\",\"showbackground\":true,\"ticks\":\"\",\"zerolinecolor\":\"white\",\"gridwidth\":2},\"zaxis\":{\"backgroundcolor\":\"#E5ECF6\",\"gridcolor\":\"white\",\"linecolor\":\"white\",\"showbackground\":true,\"ticks\":\"\",\"zerolinecolor\":\"white\",\"gridwidth\":2}},\"shapedefaults\":{\"line\":{\"color\":\"#2a3f5f\"}},\"annotationdefaults\":{\"arrowcolor\":\"#2a3f5f\",\"arrowhead\":0,\"arrowwidth\":1},\"geo\":{\"bgcolor\":\"white\",\"landcolor\":\"#E5ECF6\",\"subunitcolor\":\"white\",\"showland\":true,\"showlakes\":true,\"lakecolor\":\"white\"},\"title\":{\"x\":0.05},\"mapbox\":{\"style\":\"light\"}}},\"xaxis\":{\"anchor\":\"y\",\"domain\":[0.0,1.0],\"scaleanchor\":\"y\",\"constrain\":\"domain\",\"title\":{\"text\":\"Patch Number\"},\"side\":\"top\"},\"yaxis\":{\"anchor\":\"x\",\"domain\":[0.0,1.0],\"autorange\":\"reversed\",\"constrain\":\"domain\",\"title\":{\"text\":\"Layer Number\"}},\"coloraxis\":{\"colorbar\":{\"title\":{\"text\":\"Difference\"}},\"colorscale\":[[0.0,\"#440154\"],[0.1111111111111111,\"#482878\"],[0.2222222222222222,\"#3e4989\"],[0.3333333333333333,\"#31688e\"],[0.4444444444444444,\"#26828e\"],[0.5555555555555556,\"#1f9e89\"],[0.6666666666666666,\"#35b779\"],[0.7777777777777778,\"#6ece58\"],[0.8888888888888888,\"#b5de2b\"],[1.0,\"#fde725\"]]},\"margin\":{\"t\":60},\"title\":{\"text\":\"Normalized Patched MLP Difference per Layer and Patch\"}},                        {\"responsive\": true}                    ).then(function(){\n",
       "                            \n",
       "var gd = document.getElementById('59fa20a6-4624-48e6-b77f-29b336c2accf');\n",
       "var x = new MutationObserver(function (mutations, observer) {{\n",
       "        var display = window.getComputedStyle(gd).display;\n",
       "        if (!display || display === 'none') {{\n",
       "            console.log([gd, 'removed!']);\n",
       "            Plotly.purge(gd);\n",
       "            observer.disconnect();\n",
       "        }}\n",
       "}});\n",
       "\n",
       "// Listen for the removal of the full notebook cells\n",
       "var notebookContainer = gd.closest('#notebook-container');\n",
       "if (notebookContainer) {{\n",
       "    x.observe(notebookContainer, {childList: true});\n",
       "}}\n",
       "\n",
       "// Listen for the clearing of the current output cell\n",
       "var outputEl = gd.closest('.output');\n",
       "if (outputEl) {{\n",
       "    x.observe(outputEl, {childList: true});\n",
       "}}\n",
       "\n",
       "                        })                };                });            </script>        </div>"
      ]
     },
     "metadata": {},
     "output_type": "display_data"
    }
   ],
   "source": [
    "import plotly.express as px\n",
    "import numpy as np\n",
    "\n",
    "# Assuming patched_mlp_diff is a 2D numpy array with shape (n_layers, n_patches)\n",
    "# For demonstration, let's create a dummy 2D array if not already defined\n",
    "# This should be replaced with: patched_mlp_diff.detach().numpy() if you have the tensor\n",
    "n_layers = 12  # Example number of layers\n",
    "n_patches = 50  # Example number of patches\n",
    "\n",
    "# Create a text label array to display layer and patch numbers\n",
    "text_labels = np.array([['Layer: {}, Patch: {}'.format(i, j) for j in range(n_patches)] for i in range(n_layers)])\n",
    "\n",
    "fig = px.imshow(\n",
    "patched_residual_stream,\n",
    "labels=dict(x=\"Patch Number\", y=\"Layer Number\", color=\"Difference\"),\n",
    "    x=np.arange(n_patches),\n",
    "    y=np.arange(n_layers),\n",
    "    text_auto=False,\n",
    "    color_continuous_scale='viridis'  # or any other color scale\n",
    ")\n",
    "\n",
    "# Update traces to show custom text (layer and patch numbers)\n",
    "for i in range(len(fig.data)):\n",
    "    fig.data[i].text = text_labels\n",
    "    fig.data[i].hovertemplate = 'Layer: %{y}<br>Patch: %{x}<br>Difference: %{z}<extra></extra>'\n",
    "\n",
    "fig.update_layout(\n",
    "    title=\"Normalized Patched Residual Difference per Layer and Patch\",\n",
    "    xaxis_title=\"Patch Number\",\n",
    "    yaxis_title=\"Layer Number\"\n",
    ")\n",
    "\n",
    "fig.update_xaxes(side=\"top\")  # Move the x-axis to the top\n",
    "\n",
    "# Save the plot as HTML file\n",
    "file_path = \"/home/mila/s/sonia.joseph/prisma-development/html/activation_patching_residual.html\"\n",
    "fig.write_html(file_path)\n",
    "\n",
    "file_path\n",
    "\n",
    "fig.show()\n"
   ]
  },
  {
   "cell_type": "markdown",
   "metadata": {},
   "source": [
    "# Patch attn + mlp layers"
   ]
  },
  {
   "cell_type": "code",
   "execution_count": 5,
   "metadata": {},
   "outputs": [
    {
     "ename": "KeyboardInterrupt",
     "evalue": "",
     "output_type": "error",
     "traceback": [
      "\u001b[0;31m---------------------------------------------------------------------------\u001b[0m",
      "\u001b[0;31mKeyboardInterrupt\u001b[0m                         Traceback (most recent call last)",
      "Cell \u001b[0;32mIn[5], line 30\u001b[0m\n\u001b[1;32m     28\u001b[0m \u001b[38;5;28;01mfor\u001b[39;00m position \u001b[38;5;129;01min\u001b[39;00m \u001b[38;5;28mrange\u001b[39m(\u001b[38;5;241m50\u001b[39m):\n\u001b[1;32m     29\u001b[0m     hook_fn \u001b[38;5;241m=\u001b[39m partial(patch_residual_component, pos\u001b[38;5;241m=\u001b[39mposition, clean_cache\u001b[38;5;241m=\u001b[39mcache)\n\u001b[0;32m---> 30\u001b[0m     patched_attn_logits \u001b[38;5;241m=\u001b[39m \u001b[43mprisma_model\u001b[49m\u001b[38;5;241;43m.\u001b[39;49m\u001b[43mrun_with_hooks\u001b[49m\u001b[43m(\u001b[49m\n\u001b[1;32m     31\u001b[0m \u001b[43m        \u001b[49m\u001b[43mimage_cuda\u001b[49m\u001b[43m,\u001b[49m\n\u001b[1;32m     32\u001b[0m \u001b[43m        \u001b[49m\u001b[43mfwd_hooks\u001b[49m\u001b[38;5;241;43m=\u001b[39;49m\u001b[43m[\u001b[49m\u001b[43m(\u001b[49m\u001b[43mprisma_utils\u001b[49m\u001b[38;5;241;43m.\u001b[39;49m\u001b[43mget_act_name\u001b[49m\u001b[43m(\u001b[49m\u001b[38;5;124;43m\"\u001b[39;49m\u001b[38;5;124;43mattn_out\u001b[39;49m\u001b[38;5;124;43m\"\u001b[39;49m\u001b[43m,\u001b[49m\u001b[43m \u001b[49m\u001b[43mlayer\u001b[49m\u001b[43m)\u001b[49m\u001b[43m,\u001b[49m\u001b[43m \u001b[49m\u001b[43mhook_fn\u001b[49m\u001b[43m)\u001b[49m\u001b[43m]\u001b[49m\u001b[43m,\u001b[49m\n\u001b[1;32m     33\u001b[0m \u001b[43m        \u001b[49m\u001b[38;5;66;43;03m# return_type=\"logits\",\u001b[39;49;00m\n\u001b[1;32m     34\u001b[0m \u001b[43m    \u001b[49m\u001b[43m)\u001b[49m\n\u001b[1;32m     35\u001b[0m     patched_attn_logit_diff \u001b[38;5;241m=\u001b[39m logits_to_ave_logit_diff(\n\u001b[1;32m     36\u001b[0m         patched_attn_logits, answer_tokens\n\u001b[1;32m     37\u001b[0m     )\n\u001b[1;32m     39\u001b[0m     patched_attn_diff[layer, position] \u001b[38;5;241m=\u001b[39m normalize_patched_logit_diff(\n\u001b[1;32m     40\u001b[0m         patched_attn_logit_diff\n\u001b[1;32m     41\u001b[0m     )\n",
      "File \u001b[0;32m~/ViT-Planetarium/src/vit_prisma/prisma_tools/hooked_root_module.py:159\u001b[0m, in \u001b[0;36mHookedRootModule.run_with_hooks\u001b[0;34m(self, fwd_hooks, bwd_hooks, reset_hooks_end, clear_contexts, *model_args)\u001b[0m\n\u001b[1;32m    153\u001b[0m     logging\u001b[38;5;241m.\u001b[39mwarning(\n\u001b[1;32m    154\u001b[0m         \u001b[38;5;124m\"\u001b[39m\u001b[38;5;124mWARNING: Hooks will be reset at the end of run_with_hooks. This removes the backward hooks before a backward pass can occur.\u001b[39m\u001b[38;5;124m\"\u001b[39m\n\u001b[1;32m    155\u001b[0m     )\n\u001b[1;32m    156\u001b[0m \u001b[38;5;28;01mwith\u001b[39;00m \u001b[38;5;28mself\u001b[39m\u001b[38;5;241m.\u001b[39mhooks(\n\u001b[1;32m    157\u001b[0m     fwd_hooks, bwd_hooks,reset_hooks_end, clear_contexts\n\u001b[1;32m    158\u001b[0m ) \u001b[38;5;28;01mas\u001b[39;00m hooked_model:\n\u001b[0;32m--> 159\u001b[0m     \u001b[38;5;28;01mreturn\u001b[39;00m \u001b[43mhooked_model\u001b[49m\u001b[38;5;241;43m.\u001b[39;49m\u001b[43mforward\u001b[49m\u001b[43m(\u001b[49m\u001b[38;5;241;43m*\u001b[39;49m\u001b[43mmodel_args\u001b[49m\u001b[43m)\u001b[49m\n",
      "File \u001b[0;32m~/ViT-Planetarium/src/vit_prisma/models/base_vit.py:152\u001b[0m, in \u001b[0;36mHookedViT.forward\u001b[0;34m(self, input)\u001b[0m\n\u001b[1;32m    149\u001b[0m     residual \u001b[38;5;241m=\u001b[39m \u001b[38;5;28mself\u001b[39m\u001b[38;5;241m.\u001b[39mhook_ln_pre(residual)\n\u001b[1;32m    151\u001b[0m \u001b[38;5;28;01mfor\u001b[39;00m block \u001b[38;5;129;01min\u001b[39;00m \u001b[38;5;28mself\u001b[39m\u001b[38;5;241m.\u001b[39mblocks:\n\u001b[0;32m--> 152\u001b[0m     residual \u001b[38;5;241m=\u001b[39m \u001b[43mblock\u001b[49m\u001b[43m(\u001b[49m\u001b[43mresidual\u001b[49m\u001b[43m)\u001b[49m\n\u001b[1;32m    154\u001b[0m x \u001b[38;5;241m=\u001b[39m \u001b[38;5;28mself\u001b[39m\u001b[38;5;241m.\u001b[39mln_final(residual)\n\u001b[1;32m    156\u001b[0m \u001b[38;5;28;01mif\u001b[39;00m \u001b[38;5;28mself\u001b[39m\u001b[38;5;241m.\u001b[39mcfg\u001b[38;5;241m.\u001b[39mclassification_type \u001b[38;5;241m==\u001b[39m \u001b[38;5;124m'\u001b[39m\u001b[38;5;124mgaap\u001b[39m\u001b[38;5;124m'\u001b[39m:  \u001b[38;5;66;03m# GAAP\u001b[39;00m\n",
      "File \u001b[0;32m~/vit-phase-transitions/env/lib/python3.9/site-packages/torch/nn/modules/module.py:1518\u001b[0m, in \u001b[0;36mModule._wrapped_call_impl\u001b[0;34m(self, *args, **kwargs)\u001b[0m\n\u001b[1;32m   1516\u001b[0m     \u001b[38;5;28;01mreturn\u001b[39;00m \u001b[38;5;28mself\u001b[39m\u001b[38;5;241m.\u001b[39m_compiled_call_impl(\u001b[38;5;241m*\u001b[39margs, \u001b[38;5;241m*\u001b[39m\u001b[38;5;241m*\u001b[39mkwargs)  \u001b[38;5;66;03m# type: ignore[misc]\u001b[39;00m\n\u001b[1;32m   1517\u001b[0m \u001b[38;5;28;01melse\u001b[39;00m:\n\u001b[0;32m-> 1518\u001b[0m     \u001b[38;5;28;01mreturn\u001b[39;00m \u001b[38;5;28;43mself\u001b[39;49m\u001b[38;5;241;43m.\u001b[39;49m\u001b[43m_call_impl\u001b[49m\u001b[43m(\u001b[49m\u001b[38;5;241;43m*\u001b[39;49m\u001b[43margs\u001b[49m\u001b[43m,\u001b[49m\u001b[43m \u001b[49m\u001b[38;5;241;43m*\u001b[39;49m\u001b[38;5;241;43m*\u001b[39;49m\u001b[43mkwargs\u001b[49m\u001b[43m)\u001b[49m\n",
      "File \u001b[0;32m~/vit-phase-transitions/env/lib/python3.9/site-packages/torch/nn/modules/module.py:1527\u001b[0m, in \u001b[0;36mModule._call_impl\u001b[0;34m(self, *args, **kwargs)\u001b[0m\n\u001b[1;32m   1522\u001b[0m \u001b[38;5;66;03m# If we don't have any hooks, we want to skip the rest of the logic in\u001b[39;00m\n\u001b[1;32m   1523\u001b[0m \u001b[38;5;66;03m# this function, and just call forward.\u001b[39;00m\n\u001b[1;32m   1524\u001b[0m \u001b[38;5;28;01mif\u001b[39;00m \u001b[38;5;129;01mnot\u001b[39;00m (\u001b[38;5;28mself\u001b[39m\u001b[38;5;241m.\u001b[39m_backward_hooks \u001b[38;5;129;01mor\u001b[39;00m \u001b[38;5;28mself\u001b[39m\u001b[38;5;241m.\u001b[39m_backward_pre_hooks \u001b[38;5;129;01mor\u001b[39;00m \u001b[38;5;28mself\u001b[39m\u001b[38;5;241m.\u001b[39m_forward_hooks \u001b[38;5;129;01mor\u001b[39;00m \u001b[38;5;28mself\u001b[39m\u001b[38;5;241m.\u001b[39m_forward_pre_hooks\n\u001b[1;32m   1525\u001b[0m         \u001b[38;5;129;01mor\u001b[39;00m _global_backward_pre_hooks \u001b[38;5;129;01mor\u001b[39;00m _global_backward_hooks\n\u001b[1;32m   1526\u001b[0m         \u001b[38;5;129;01mor\u001b[39;00m _global_forward_hooks \u001b[38;5;129;01mor\u001b[39;00m _global_forward_pre_hooks):\n\u001b[0;32m-> 1527\u001b[0m     \u001b[38;5;28;01mreturn\u001b[39;00m \u001b[43mforward_call\u001b[49m\u001b[43m(\u001b[49m\u001b[38;5;241;43m*\u001b[39;49m\u001b[43margs\u001b[49m\u001b[43m,\u001b[49m\u001b[43m \u001b[49m\u001b[38;5;241;43m*\u001b[39;49m\u001b[38;5;241;43m*\u001b[39;49m\u001b[43mkwargs\u001b[49m\u001b[43m)\u001b[49m\n\u001b[1;32m   1529\u001b[0m \u001b[38;5;28;01mtry\u001b[39;00m:\n\u001b[1;32m   1530\u001b[0m     result \u001b[38;5;241m=\u001b[39m \u001b[38;5;28;01mNone\u001b[39;00m\n",
      "File \u001b[0;32m~/ViT-Planetarium/src/vit_prisma/models/layers/transformer_block.py:109\u001b[0m, in \u001b[0;36mTransformerBlock.forward\u001b[0;34m(self, resid_pre)\u001b[0m\n\u001b[1;32m    103\u001b[0m     key_input \u001b[38;5;241m=\u001b[39m attn_in\n\u001b[1;32m    104\u001b[0m     value_input \u001b[38;5;241m=\u001b[39m attn_in\n\u001b[1;32m    106\u001b[0m attn_out \u001b[38;5;241m=\u001b[39m \u001b[38;5;28mself\u001b[39m\u001b[38;5;241m.\u001b[39mattn(\n\u001b[1;32m    107\u001b[0m         query_input \u001b[38;5;241m=\u001b[39m \u001b[38;5;28mself\u001b[39m\u001b[38;5;241m.\u001b[39mln1(query_input),\n\u001b[1;32m    108\u001b[0m         key_input \u001b[38;5;241m=\u001b[39m \u001b[38;5;28mself\u001b[39m\u001b[38;5;241m.\u001b[39mln1(key_input),\n\u001b[0;32m--> 109\u001b[0m         value_input \u001b[38;5;241m=\u001b[39m \u001b[38;5;28;43mself\u001b[39;49m\u001b[38;5;241;43m.\u001b[39;49m\u001b[43mln1\u001b[49m\u001b[43m(\u001b[49m\u001b[43mvalue_input\u001b[49m\u001b[43m)\u001b[49m,\n\u001b[1;32m    110\u001b[0m     )\n\u001b[1;32m    112\u001b[0m \u001b[38;5;66;03m# Take hook fn\u001b[39;00m\n\u001b[1;32m    114\u001b[0m attn_out \u001b[38;5;241m=\u001b[39m \u001b[38;5;28mself\u001b[39m\u001b[38;5;241m.\u001b[39mhook_attn_out(\n\u001b[1;32m    115\u001b[0m     attn_out\n\u001b[1;32m    116\u001b[0m )\n",
      "File \u001b[0;32m~/vit-phase-transitions/env/lib/python3.9/site-packages/torch/nn/modules/module.py:1518\u001b[0m, in \u001b[0;36mModule._wrapped_call_impl\u001b[0;34m(self, *args, **kwargs)\u001b[0m\n\u001b[1;32m   1516\u001b[0m     \u001b[38;5;28;01mreturn\u001b[39;00m \u001b[38;5;28mself\u001b[39m\u001b[38;5;241m.\u001b[39m_compiled_call_impl(\u001b[38;5;241m*\u001b[39margs, \u001b[38;5;241m*\u001b[39m\u001b[38;5;241m*\u001b[39mkwargs)  \u001b[38;5;66;03m# type: ignore[misc]\u001b[39;00m\n\u001b[1;32m   1517\u001b[0m \u001b[38;5;28;01melse\u001b[39;00m:\n\u001b[0;32m-> 1518\u001b[0m     \u001b[38;5;28;01mreturn\u001b[39;00m \u001b[38;5;28;43mself\u001b[39;49m\u001b[38;5;241;43m.\u001b[39;49m\u001b[43m_call_impl\u001b[49m\u001b[43m(\u001b[49m\u001b[38;5;241;43m*\u001b[39;49m\u001b[43margs\u001b[49m\u001b[43m,\u001b[49m\u001b[43m \u001b[49m\u001b[38;5;241;43m*\u001b[39;49m\u001b[38;5;241;43m*\u001b[39;49m\u001b[43mkwargs\u001b[49m\u001b[43m)\u001b[49m\n",
      "File \u001b[0;32m~/vit-phase-transitions/env/lib/python3.9/site-packages/torch/nn/modules/module.py:1527\u001b[0m, in \u001b[0;36mModule._call_impl\u001b[0;34m(self, *args, **kwargs)\u001b[0m\n\u001b[1;32m   1522\u001b[0m \u001b[38;5;66;03m# If we don't have any hooks, we want to skip the rest of the logic in\u001b[39;00m\n\u001b[1;32m   1523\u001b[0m \u001b[38;5;66;03m# this function, and just call forward.\u001b[39;00m\n\u001b[1;32m   1524\u001b[0m \u001b[38;5;28;01mif\u001b[39;00m \u001b[38;5;129;01mnot\u001b[39;00m (\u001b[38;5;28mself\u001b[39m\u001b[38;5;241m.\u001b[39m_backward_hooks \u001b[38;5;129;01mor\u001b[39;00m \u001b[38;5;28mself\u001b[39m\u001b[38;5;241m.\u001b[39m_backward_pre_hooks \u001b[38;5;129;01mor\u001b[39;00m \u001b[38;5;28mself\u001b[39m\u001b[38;5;241m.\u001b[39m_forward_hooks \u001b[38;5;129;01mor\u001b[39;00m \u001b[38;5;28mself\u001b[39m\u001b[38;5;241m.\u001b[39m_forward_pre_hooks\n\u001b[1;32m   1525\u001b[0m         \u001b[38;5;129;01mor\u001b[39;00m _global_backward_pre_hooks \u001b[38;5;129;01mor\u001b[39;00m _global_backward_hooks\n\u001b[1;32m   1526\u001b[0m         \u001b[38;5;129;01mor\u001b[39;00m _global_forward_hooks \u001b[38;5;129;01mor\u001b[39;00m _global_forward_pre_hooks):\n\u001b[0;32m-> 1527\u001b[0m     \u001b[38;5;28;01mreturn\u001b[39;00m \u001b[43mforward_call\u001b[49m\u001b[43m(\u001b[49m\u001b[38;5;241;43m*\u001b[39;49m\u001b[43margs\u001b[49m\u001b[43m,\u001b[49m\u001b[43m \u001b[49m\u001b[38;5;241;43m*\u001b[39;49m\u001b[38;5;241;43m*\u001b[39;49m\u001b[43mkwargs\u001b[49m\u001b[43m)\u001b[49m\n\u001b[1;32m   1529\u001b[0m \u001b[38;5;28;01mtry\u001b[39;00m:\n\u001b[1;32m   1530\u001b[0m     result \u001b[38;5;241m=\u001b[39m \u001b[38;5;28;01mNone\u001b[39;00m\n",
      "File \u001b[0;32m~/ViT-Planetarium/src/vit_prisma/models/layers/layer_norm.py:93\u001b[0m, in \u001b[0;36mLayerNorm.forward\u001b[0;34m(self, x)\u001b[0m\n\u001b[1;32m     89\u001b[0m scale: Float[torch\u001b[38;5;241m.\u001b[39mTensor, \u001b[38;5;124m\"\u001b[39m\u001b[38;5;124mbatch pos 1\u001b[39m\u001b[38;5;124m\"\u001b[39m] \u001b[38;5;241m=\u001b[39m \u001b[38;5;28mself\u001b[39m\u001b[38;5;241m.\u001b[39mhook_scale(\n\u001b[1;32m     90\u001b[0m     (x\u001b[38;5;241m.\u001b[39mpow(\u001b[38;5;241m2\u001b[39m)\u001b[38;5;241m.\u001b[39mmean(\u001b[38;5;241m-\u001b[39m\u001b[38;5;241m1\u001b[39m, keepdim\u001b[38;5;241m=\u001b[39m\u001b[38;5;28;01mTrue\u001b[39;00m) \u001b[38;5;241m+\u001b[39m \u001b[38;5;28mself\u001b[39m\u001b[38;5;241m.\u001b[39meps)\u001b[38;5;241m.\u001b[39msqrt()\n\u001b[1;32m     91\u001b[0m )\n\u001b[1;32m     92\u001b[0m x \u001b[38;5;241m=\u001b[39m x \u001b[38;5;241m/\u001b[39m scale  \u001b[38;5;66;03m# [batch, pos, length]\u001b[39;00m\n\u001b[0;32m---> 93\u001b[0m \u001b[38;5;28;01mreturn\u001b[39;00m \u001b[38;5;28mself\u001b[39m\u001b[38;5;241m.\u001b[39mhook_normalized(\u001b[43mx\u001b[49m\u001b[43m \u001b[49m\u001b[38;5;241;43m*\u001b[39;49m\u001b[43m \u001b[49m\u001b[38;5;28;43mself\u001b[39;49m\u001b[38;5;241;43m.\u001b[39;49m\u001b[43mw\u001b[49m\u001b[43m \u001b[49m\u001b[38;5;241;43m+\u001b[39;49m\u001b[43m \u001b[49m\u001b[38;5;28;43mself\u001b[39;49m\u001b[38;5;241;43m.\u001b[39;49m\u001b[43mb\u001b[49m)\u001b[38;5;241m.\u001b[39mto(\u001b[38;5;28mself\u001b[39m\u001b[38;5;241m.\u001b[39mcfg\u001b[38;5;241m.\u001b[39mdtype)\n",
      "\u001b[0;31mKeyboardInterrupt\u001b[0m: "
     ]
    }
   ],
   "source": [
    "from vit_prisma.utils import prisma_utils\n",
    "\n",
    "# Do activation patching\n",
    "def patch_residual_component(\n",
    "        corrupted_residual_component,\n",
    "        hook,\n",
    "        pos,\n",
    "        clean_cache\n",
    "):\n",
    "    corrupted_residual_component[:, pos, :] = clean_cache[hook.name][:, pos, :]\n",
    "    return corrupted_residual_component\n",
    "\n",
    "def normalize_patched_logit_diff(patched_logit_diff):\n",
    "    # Subtract corrupted logit diff to measure the improvement, divide by the total improvement from clean to corrupted to normalise\n",
    "    # 0 means zero change, negative means actively made worse, 1 means totally recovered clean performance, >1 means actively *improved* on clean performance\n",
    "    return (patched_logit_diff - corrupted_logit_diff) / (\n",
    "        original_average_logit_diff - corrupted_logit_diff)\n",
    "\n",
    "patched_attn_diff = torch.zeros(\n",
    "    prisma_model.cfg.n_layers, 50, dtype=torch.float32\n",
    ")\n",
    "patched_mlp_diff = torch.zeros(\n",
    "    prisma_model.cfg.n_layers, 50, dtype=torch.float32\n",
    ")\n",
    "\n",
    "image_cuda = crop_out_dog.unsqueeze(0)\n",
    "for layer in range(prisma_model.cfg.n_layers):\n",
    "    for position in range(50):\n",
    "        hook_fn = partial(patch_residual_component, pos=position, clean_cache=cache)\n",
    "        patched_attn_logits = prisma_model.run_with_hooks(\n",
    "            image_cuda,\n",
    "            fwd_hooks=[(prisma_utils.get_act_name(\"attn_out\", layer), hook_fn)],\n",
    "            # return_type=\"logits\",\n",
    "        )\n",
    "        patched_attn_logit_diff = logits_to_ave_logit_diff(\n",
    "            patched_attn_logits, answer_tokens\n",
    "        )\n",
    "\n",
    "        patched_attn_diff[layer, position] = normalize_patched_logit_diff(\n",
    "            patched_attn_logit_diff\n",
    "        )\n",
    "\n",
    "        del patched_attn_logits, patched_attn_logit_diff\n",
    "\n",
    "        # patched_mlp_logits = prisma_model.run_with_hooks(\n",
    "        #     image_cuda,\n",
    "        #     fwd_hooks=[(prisma_utils.get_act_name(\"mlp_out\", layer), hook_fn)],\n",
    "        #     # return_type=\"logits\",\n",
    "        # )\n",
    "        # patched_mlp_logit_diff = logits_to_ave_logit_diff(\n",
    "        #     patched_mlp_logits, answer_tokens\n",
    "        # )\n",
    "\n",
    "        # del patched_mlp_logits\n",
    "\n",
    "       \n",
    "        # patched_mlp_diff[layer, position] = normalize_patched_logit_diff(\n",
    "        #     patched_mlp_logit_diff\n",
    "        # )"
   ]
  },
  {
   "cell_type": "code",
   "execution_count": null,
   "metadata": {},
   "outputs": [
    {
     "data": {
      "text/plain": [
       "<matplotlib.image.AxesImage at 0x7f490db88820>"
      ]
     },
     "execution_count": 23,
     "metadata": {},
     "output_type": "execute_result"
    },
    {
     "data": {
      "image/png": "[encoded data removed]",
      "text/plain": [
       "<Figure size 640x480 with 1 Axes>"
      ]
     },
     "metadata": {},
     "output_type": "display_data"
    }
   ],
   "source": [
    "plt.figure()\n",
    "plt.imshow(patched_attn_diff.detach().numpy())"
   ]
  },
  {
   "cell_type": "code",
   "execution_count": 6,
   "metadata": {},
   "outputs": [
    {
     "name": "stderr",
     "output_type": "stream",
     "text": [
      "  0%|          | 0/12 [00:00<?, ?it/s]"
     ]
    },
    {
     "name": "stderr",
     "output_type": "stream",
     "text": [
      "100%|██████████| 12/12 [08:01<00:00, 40.09s/it]\n"
     ]
    }
   ],
   "source": [
    "from vit_prisma.utils import prisma_utils\n",
    "from tqdm import tqdm\n",
    "\n",
    "# Do activation patching\n",
    "def patch_residual_component(\n",
    "        corrupted_residual_component,\n",
    "        hook,\n",
    "        pos,\n",
    "        clean_cache\n",
    "):\n",
    "    corrupted_residual_component[:, pos, :] = clean_cache[hook.name][:, pos, :]\n",
    "    return corrupted_residual_component\n",
    "\n",
    "def normalize_patched_logit_diff(patched_logit_diff):\n",
    "    # Subtract corrupted logit diff to measure the improvement, divide by the total improvement from clean to corrupted to normalise\n",
    "    # 0 means zero change, negative means actively made worse, 1 means totally recovered clean performance, >1 means actively *improved* on clean performance\n",
    "    return (patched_logit_diff - corrupted_logit_diff) / (\n",
    "        original_average_logit_diff - corrupted_logit_diff)\n",
    "\n",
    "patched_attn_diff = torch.zeros(\n",
    "    prisma_model.cfg.n_layers, 50, dtype=torch.float32\n",
    ")\n",
    "patched_mlp_diff = torch.zeros(\n",
    "    prisma_model.cfg.n_layers, 50, dtype=torch.float32\n",
    ")\n",
    "\n",
    "image_cuda = crop_out_dog.unsqueeze(0)\n",
    "for layer in tqdm(range(prisma_model.cfg.n_layers)):\n",
    "    for position in range(50):\n",
    "        hook_fn = partial(patch_residual_component, pos=position, clean_cache=cache)\n",
    "\n",
    "        patched_mlp_logits = prisma_model.run_with_hooks(\n",
    "            image_cuda,\n",
    "            fwd_hooks=[(prisma_utils.get_act_name(\"mlp_out\", layer), hook_fn)],\n",
    "            # return_type=\"logits\",\n",
    "        )\n",
    "        patched_mlp_logit_diff = logits_to_ave_logit_diff(\n",
    "            patched_mlp_logits, answer_tokens\n",
    "        )\n",
    "\n",
    "\n",
    "       \n",
    "        patched_mlp_diff[layer, position] = normalize_patched_logit_diff(\n",
    "            patched_mlp_logit_diff\n",
    "        )\n",
    "\n",
    "        del patched_mlp_logits, patched_mlp_logit_diff\n"
   ]
  },
  {
   "cell_type": "code",
   "execution_count": 10,
   "metadata": {},
   "outputs": [
    {
     "data": {
      "text/plain": [
       "<matplotlib.colorbar.Colorbar at 0x7f234c22cd60>"
      ]
     },
     "execution_count": 10,
     "metadata": {},
     "output_type": "execute_result"
    },
    {
     "data": {
      "image/png": "[encoded data removed]",
      "text/plain": [
       "<Figure size 640x480 with 2 Axes>"
      ]
     },
     "metadata": {},
     "output_type": "display_data"
    }
   ],
   "source": [
    "np_mlp_diff = patched_mlp_diff.detach().numpy()\n",
    "plt.figure()\n",
    "plt.imshow(patched_mlp_diff.detach().numpy())\n",
    "plt.colorbar()\n",
    "\n",
    "# Turn into interactive so you can hover over the patch number\n",
    "\n"
   ]
  },
  {
   "cell_type": "code",
   "execution_count": 13,
   "metadata": {},
   "outputs": [
    {
     "data": {
      "application/vnd.plotly.v1+json": {
       "config": {
        "plotlyServerURL": "https://plot.ly"
       },
       "data": [
        {
         "coloraxis": "coloraxis",
         "hovertemplate": "Layer: %{y}<br>Patch: %{x}<br>Difference: %{z}<extra></extra>",
         "name": "0",
         "text": [
          [
           "Layer: 0, Patch: 0",
           "Layer: 0, Patch: 1",
           "Layer: 0, Patch: 2",
           "Layer: 0, Patch: 3",
           "Layer: 0, Patch: 4",
           "Layer: 0, Patch: 5",
           "Layer: 0, Patch: 6",
           "Layer: 0, Patch: 7",
           "Layer: 0, Patch: 8",
           "Layer: 0, Patch: 9",
           "Layer: 0, Patch: 10",
           "Layer: 0, Patch: 11",
           "Layer: 0, Patch: 12",
           "Layer: 0, Patch: 13",
           "Layer: 0, Patch: 14",
           "Layer: 0, Patch: 15",
           "Layer: 0, Patch: 16",
           "Layer: 0, Patch: 17",
           "Layer: 0, Patch: 18",
           "Layer: 0, Patch: 19",
           "Layer: 0, Patch: 20",
           "Layer: 0, Patch: 21",
           "Layer: 0, Patch: 22",
           "Layer: 0, Patch: 23",
           "Layer: 0, Patch: 24",
           "Layer: 0, Patch: 25",
           "Layer: 0, Patch: 26",
           "Layer: 0, Patch: 27",
           "Layer: 0, Patch: 28",
           "Layer: 0, Patch: 29",
           "Layer: 0, Patch: 30",
           "Layer: 0, Patch: 31",
           "Layer: 0, Patch: 32",
           "Layer: 0, Patch: 33",
           "Layer: 0, Patch: 34",
           "Layer: 0, Patch: 35",
           "Layer: 0, Patch: 36",
           "Layer: 0, Patch: 37",
           "Layer: 0, Patch: 38",
           "Layer: 0, Patch: 39",
           "Layer: 0, Patch: 40",
           "Layer: 0, Patch: 41",
           "Layer: 0, Patch: 42",
           "Layer: 0, Patch: 43",
           "Layer: 0, Patch: 44",
           "Layer: 0, Patch: 45",
           "Layer: 0, Patch: 46",
           "Layer: 0, Patch: 47",
           "Layer: 0, Patch: 48",
           "Layer: 0, Patch: 49"
          ],
          [
           "Layer: 1, Patch: 0",
           "Layer: 1, Patch: 1",
           "Layer: 1, Patch: 2",
           "Layer: 1, Patch: 3",
           "Layer: 1, Patch: 4",
           "Layer: 1, Patch: 5",
           "Layer: 1, Patch: 6",
           "Layer: 1, Patch: 7",
           "Layer: 1, Patch: 8",
           "Layer: 1, Patch: 9",
           "Layer: 1, Patch: 10",
           "Layer: 1, Patch: 11",
           "Layer: 1, Patch: 12",
           "Layer: 1, Patch: 13",
           "Layer: 1, Patch: 14",
           "Layer: 1, Patch: 15",
           "Layer: 1, Patch: 16",
           "Layer: 1, Patch: 17",
           "Layer: 1, Patch: 18",
           "Layer: 1, Patch: 19",
           "Layer: 1, Patch: 20",
           "Layer: 1, Patch: 21",
           "Layer: 1, Patch: 22",
           "Layer: 1, Patch: 23",
           "Layer: 1, Patch: 24",
           "Layer: 1, Patch: 25",
           "Layer: 1, Patch: 26",
           "Layer: 1, Patch: 27",
           "Layer: 1, Patch: 28",
           "Layer: 1, Patch: 29",
           "Layer: 1, Patch: 30",
           "Layer: 1, Patch: 31",
           "Layer: 1, Patch: 32",
           "Layer: 1, Patch: 33",
           "Layer: 1, Patch: 34",
           "Layer: 1, Patch: 35",
           "Layer: 1, Patch: 36",
           "Layer: 1, Patch: 37",
           "Layer: 1, Patch: 38",
           "Layer: 1, Patch: 39",
           "Layer: 1, Patch: 40",
           "Layer: 1, Patch: 41",
           "Layer: 1, Patch: 42",
           "Layer: 1, Patch: 43",
           "Layer: 1, Patch: 44",
           "Layer: 1, Patch: 45",
           "Layer: 1, Patch: 46",
           "Layer: 1, Patch: 47",
           "Layer: 1, Patch: 48",
           "Layer: 1, Patch: 49"
          ],
          [
           "Layer: 2, Patch: 0",
           "Layer: 2, Patch: 1",
           "Layer: 2, Patch: 2",
           "Layer: 2, Patch: 3",
           "Layer: 2, Patch: 4",
           "Layer: 2, Patch: 5",
           "Layer: 2, Patch: 6",
           "Layer: 2, Patch: 7",
           "Layer: 2, Patch: 8",
           "Layer: 2, Patch: 9",
           "Layer: 2, Patch: 10",
           "Layer: 2, Patch: 11",
           "Layer: 2, Patch: 12",
           "Layer: 2, Patch: 13",
           "Layer: 2, Patch: 14",
           "Layer: 2, Patch: 15",
           "Layer: 2, Patch: 16",
           "Layer: 2, Patch: 17",
           "Layer: 2, Patch: 18",
           "Layer: 2, Patch: 19",
           "Layer: 2, Patch: 20",
           "Layer: 2, Patch: 21",
           "Layer: 2, Patch: 22",
           "Layer: 2, Patch: 23",
           "Layer: 2, Patch: 24",
           "Layer: 2, Patch: 25",
           "Layer: 2, Patch: 26",
           "Layer: 2, Patch: 27",
           "Layer: 2, Patch: 28",
           "Layer: 2, Patch: 29",
           "Layer: 2, Patch: 30",
           "Layer: 2, Patch: 31",
           "Layer: 2, Patch: 32",
           "Layer: 2, Patch: 33",
           "Layer: 2, Patch: 34",
           "Layer: 2, Patch: 35",
           "Layer: 2, Patch: 36",
           "Layer: 2, Patch: 37",
           "Layer: 2, Patch: 38",
           "Layer: 2, Patch: 39",
           "Layer: 2, Patch: 40",
           "Layer: 2, Patch: 41",
           "Layer: 2, Patch: 42",
           "Layer: 2, Patch: 43",
           "Layer: 2, Patch: 44",
           "Layer: 2, Patch: 45",
           "Layer: 2, Patch: 46",
           "Layer: 2, Patch: 47",
           "Layer: 2, Patch: 48",
           "Layer: 2, Patch: 49"
          ],
          [
           "Layer: 3, Patch: 0",
           "Layer: 3, Patch: 1",
           "Layer: 3, Patch: 2",
           "Layer: 3, Patch: 3",
           "Layer: 3, Patch: 4",
           "Layer: 3, Patch: 5",
           "Layer: 3, Patch: 6",
           "Layer: 3, Patch: 7",
           "Layer: 3, Patch: 8",
           "Layer: 3, Patch: 9",
           "Layer: 3, Patch: 10",
           "Layer: 3, Patch: 11",
           "Layer: 3, Patch: 12",
           "Layer: 3, Patch: 13",
           "Layer: 3, Patch: 14",
           "Layer: 3, Patch: 15",
           "Layer: 3, Patch: 16",
           "Layer: 3, Patch: 17",
           "Layer: 3, Patch: 18",
           "Layer: 3, Patch: 19",
           "Layer: 3, Patch: 20",
           "Layer: 3, Patch: 21",
           "Layer: 3, Patch: 22",
           "Layer: 3, Patch: 23",
           "Layer: 3, Patch: 24",
           "Layer: 3, Patch: 25",
           "Layer: 3, Patch: 26",
           "Layer: 3, Patch: 27",
           "Layer: 3, Patch: 28",
           "Layer: 3, Patch: 29",
           "Layer: 3, Patch: 30",
           "Layer: 3, Patch: 31",
           "Layer: 3, Patch: 32",
           "Layer: 3, Patch: 33",
           "Layer: 3, Patch: 34",
           "Layer: 3, Patch: 35",
           "Layer: 3, Patch: 36",
           "Layer: 3, Patch: 37",
           "Layer: 3, Patch: 38",
           "Layer: 3, Patch: 39",
           "Layer: 3, Patch: 40",
           "Layer: 3, Patch: 41",
           "Layer: 3, Patch: 42",
           "Layer: 3, Patch: 43",
           "Layer: 3, Patch: 44",
           "Layer: 3, Patch: 45",
           "Layer: 3, Patch: 46",
           "Layer: 3, Patch: 47",
           "Layer: 3, Patch: 48",
           "Layer: 3, Patch: 49"
          ],
          [
           "Layer: 4, Patch: 0",
           "Layer: 4, Patch: 1",
           "Layer: 4, Patch: 2",
           "Layer: 4, Patch: 3",
           "Layer: 4, Patch: 4",
           "Layer: 4, Patch: 5",
           "Layer: 4, Patch: 6",
           "Layer: 4, Patch: 7",
           "Layer: 4, Patch: 8",
           "Layer: 4, Patch: 9",
           "Layer: 4, Patch: 10",
           "Layer: 4, Patch: 11",
           "Layer: 4, Patch: 12",
           "Layer: 4, Patch: 13",
           "Layer: 4, Patch: 14",
           "Layer: 4, Patch: 15",
           "Layer: 4, Patch: 16",
           "Layer: 4, Patch: 17",
           "Layer: 4, Patch: 18",
           "Layer: 4, Patch: 19",
           "Layer: 4, Patch: 20",
           "Layer: 4, Patch: 21",
           "Layer: 4, Patch: 22",
           "Layer: 4, Patch: 23",
           "Layer: 4, Patch: 24",
           "Layer: 4, Patch: 25",
           "Layer: 4, Patch: 26",
           "Layer: 4, Patch: 27",
           "Layer: 4, Patch: 28",
           "Layer: 4, Patch: 29",
           "Layer: 4, Patch: 30",
           "Layer: 4, Patch: 31",
           "Layer: 4, Patch: 32",
           "Layer: 4, Patch: 33",
           "Layer: 4, Patch: 34",
           "Layer: 4, Patch: 35",
           "Layer: 4, Patch: 36",
           "Layer: 4, Patch: 37",
           "Layer: 4, Patch: 38",
           "Layer: 4, Patch: 39",
           "Layer: 4, Patch: 40",
           "Layer: 4, Patch: 41",
           "Layer: 4, Patch: 42",
           "Layer: 4, Patch: 43",
           "Layer: 4, Patch: 44",
           "Layer: 4, Patch: 45",
           "Layer: 4, Patch: 46",
           "Layer: 4, Patch: 47",
           "Layer: 4, Patch: 48",
           "Layer: 4, Patch: 49"
          ],
          [
           "Layer: 5, Patch: 0",
           "Layer: 5, Patch: 1",
           "Layer: 5, Patch: 2",
           "Layer: 5, Patch: 3",
           "Layer: 5, Patch: 4",
           "Layer: 5, Patch: 5",
           "Layer: 5, Patch: 6",
           "Layer: 5, Patch: 7",
           "Layer: 5, Patch: 8",
           "Layer: 5, Patch: 9",
           "Layer: 5, Patch: 10",
           "Layer: 5, Patch: 11",
           "Layer: 5, Patch: 12",
           "Layer: 5, Patch: 13",
           "Layer: 5, Patch: 14",
           "Layer: 5, Patch: 15",
           "Layer: 5, Patch: 16",
           "Layer: 5, Patch: 17",
           "Layer: 5, Patch: 18",
           "Layer: 5, Patch: 19",
           "Layer: 5, Patch: 20",
           "Layer: 5, Patch: 21",
           "Layer: 5, Patch: 22",
           "Layer: 5, Patch: 23",
           "Layer: 5, Patch: 24",
           "Layer: 5, Patch: 25",
           "Layer: 5, Patch: 26",
           "Layer: 5, Patch: 27",
           "Layer: 5, Patch: 28",
           "Layer: 5, Patch: 29",
           "Layer: 5, Patch: 30",
           "Layer: 5, Patch: 31",
           "Layer: 5, Patch: 32",
           "Layer: 5, Patch: 33",
           "Layer: 5, Patch: 34",
           "Layer: 5, Patch: 35",
           "Layer: 5, Patch: 36",
           "Layer: 5, Patch: 37",
           "Layer: 5, Patch: 38",
           "Layer: 5, Patch: 39",
           "Layer: 5, Patch: 40",
           "Layer: 5, Patch: 41",
           "Layer: 5, Patch: 42",
           "Layer: 5, Patch: 43",
           "Layer: 5, Patch: 44",
           "Layer: 5, Patch: 45",
           "Layer: 5, Patch: 46",
           "Layer: 5, Patch: 47",
           "Layer: 5, Patch: 48",
           "Layer: 5, Patch: 49"
          ],
          [
           "Layer: 6, Patch: 0",
           "Layer: 6, Patch: 1",
           "Layer: 6, Patch: 2",
           "Layer: 6, Patch: 3",
           "Layer: 6, Patch: 4",
           "Layer: 6, Patch: 5",
           "Layer: 6, Patch: 6",
           "Layer: 6, Patch: 7",
           "Layer: 6, Patch: 8",
           "Layer: 6, Patch: 9",
           "Layer: 6, Patch: 10",
           "Layer: 6, Patch: 11",
           "Layer: 6, Patch: 12",
           "Layer: 6, Patch: 13",
           "Layer: 6, Patch: 14",
           "Layer: 6, Patch: 15",
           "Layer: 6, Patch: 16",
           "Layer: 6, Patch: 17",
           "Layer: 6, Patch: 18",
           "Layer: 6, Patch: 19",
           "Layer: 6, Patch: 20",
           "Layer: 6, Patch: 21",
           "Layer: 6, Patch: 22",
           "Layer: 6, Patch: 23",
           "Layer: 6, Patch: 24",
           "Layer: 6, Patch: 25",
           "Layer: 6, Patch: 26",
           "Layer: 6, Patch: 27",
           "Layer: 6, Patch: 28",
           "Layer: 6, Patch: 29",
           "Layer: 6, Patch: 30",
           "Layer: 6, Patch: 31",
           "Layer: 6, Patch: 32",
           "Layer: 6, Patch: 33",
           "Layer: 6, Patch: 34",
           "Layer: 6, Patch: 35",
           "Layer: 6, Patch: 36",
           "Layer: 6, Patch: 37",
           "Layer: 6, Patch: 38",
           "Layer: 6, Patch: 39",
           "Layer: 6, Patch: 40",
           "Layer: 6, Patch: 41",
           "Layer: 6, Patch: 42",
           "Layer: 6, Patch: 43",
           "Layer: 6, Patch: 44",
           "Layer: 6, Patch: 45",
           "Layer: 6, Patch: 46",
           "Layer: 6, Patch: 47",
           "Layer: 6, Patch: 48",
           "Layer: 6, Patch: 49"
          ],
          [
           "Layer: 7, Patch: 0",
           "Layer: 7, Patch: 1",
           "Layer: 7, Patch: 2",
           "Layer: 7, Patch: 3",
           "Layer: 7, Patch: 4",
           "Layer: 7, Patch: 5",
           "Layer: 7, Patch: 6",
           "Layer: 7, Patch: 7",
           "Layer: 7, Patch: 8",
           "Layer: 7, Patch: 9",
           "Layer: 7, Patch: 10",
           "Layer: 7, Patch: 11",
           "Layer: 7, Patch: 12",
           "Layer: 7, Patch: 13",
           "Layer: 7, Patch: 14",
           "Layer: 7, Patch: 15",
           "Layer: 7, Patch: 16",
           "Layer: 7, Patch: 17",
           "Layer: 7, Patch: 18",
           "Layer: 7, Patch: 19",
           "Layer: 7, Patch: 20",
           "Layer: 7, Patch: 21",
           "Layer: 7, Patch: 22",
           "Layer: 7, Patch: 23",
           "Layer: 7, Patch: 24",
           "Layer: 7, Patch: 25",
           "Layer: 7, Patch: 26",
           "Layer: 7, Patch: 27",
           "Layer: 7, Patch: 28",
           "Layer: 7, Patch: 29",
           "Layer: 7, Patch: 30",
           "Layer: 7, Patch: 31",
           "Layer: 7, Patch: 32",
           "Layer: 7, Patch: 33",
           "Layer: 7, Patch: 34",
           "Layer: 7, Patch: 35",
           "Layer: 7, Patch: 36",
           "Layer: 7, Patch: 37",
           "Layer: 7, Patch: 38",
           "Layer: 7, Patch: 39",
           "Layer: 7, Patch: 40",
           "Layer: 7, Patch: 41",
           "Layer: 7, Patch: 42",
           "Layer: 7, Patch: 43",
           "Layer: 7, Patch: 44",
           "Layer: 7, Patch: 45",
           "Layer: 7, Patch: 46",
           "Layer: 7, Patch: 47",
           "Layer: 7, Patch: 48",
           "Layer: 7, Patch: 49"
          ],
          [
           "Layer: 8, Patch: 0",
           "Layer: 8, Patch: 1",
           "Layer: 8, Patch: 2",
           "Layer: 8, Patch: 3",
           "Layer: 8, Patch: 4",
           "Layer: 8, Patch: 5",
           "Layer: 8, Patch: 6",
           "Layer: 8, Patch: 7",
           "Layer: 8, Patch: 8",
           "Layer: 8, Patch: 9",
           "Layer: 8, Patch: 10",
           "Layer: 8, Patch: 11",
           "Layer: 8, Patch: 12",
           "Layer: 8, Patch: 13",
           "Layer: 8, Patch: 14",
           "Layer: 8, Patch: 15",
           "Layer: 8, Patch: 16",
           "Layer: 8, Patch: 17",
           "Layer: 8, Patch: 18",
           "Layer: 8, Patch: 19",
           "Layer: 8, Patch: 20",
           "Layer: 8, Patch: 21",
           "Layer: 8, Patch: 22",
           "Layer: 8, Patch: 23",
           "Layer: 8, Patch: 24",
           "Layer: 8, Patch: 25",
           "Layer: 8, Patch: 26",
           "Layer: 8, Patch: 27",
           "Layer: 8, Patch: 28",
           "Layer: 8, Patch: 29",
           "Layer: 8, Patch: 30",
           "Layer: 8, Patch: 31",
           "Layer: 8, Patch: 32",
           "Layer: 8, Patch: 33",
           "Layer: 8, Patch: 34",
           "Layer: 8, Patch: 35",
           "Layer: 8, Patch: 36",
           "Layer: 8, Patch: 37",
           "Layer: 8, Patch: 38",
           "Layer: 8, Patch: 39",
           "Layer: 8, Patch: 40",
           "Layer: 8, Patch: 41",
           "Layer: 8, Patch: 42",
           "Layer: 8, Patch: 43",
           "Layer: 8, Patch: 44",
           "Layer: 8, Patch: 45",
           "Layer: 8, Patch: 46",
           "Layer: 8, Patch: 47",
           "Layer: 8, Patch: 48",
           "Layer: 8, Patch: 49"
          ],
          [
           "Layer: 9, Patch: 0",
           "Layer: 9, Patch: 1",
           "Layer: 9, Patch: 2",
           "Layer: 9, Patch: 3",
           "Layer: 9, Patch: 4",
           "Layer: 9, Patch: 5",
           "Layer: 9, Patch: 6",
           "Layer: 9, Patch: 7",
           "Layer: 9, Patch: 8",
           "Layer: 9, Patch: 9",
           "Layer: 9, Patch: 10",
           "Layer: 9, Patch: 11",
           "Layer: 9, Patch: 12",
           "Layer: 9, Patch: 13",
           "Layer: 9, Patch: 14",
           "Layer: 9, Patch: 15",
           "Layer: 9, Patch: 16",
           "Layer: 9, Patch: 17",
           "Layer: 9, Patch: 18",
           "Layer: 9, Patch: 19",
           "Layer: 9, Patch: 20",
           "Layer: 9, Patch: 21",
           "Layer: 9, Patch: 22",
           "Layer: 9, Patch: 23",
           "Layer: 9, Patch: 24",
           "Layer: 9, Patch: 25",
           "Layer: 9, Patch: 26",
           "Layer: 9, Patch: 27",
           "Layer: 9, Patch: 28",
           "Layer: 9, Patch: 29",
           "Layer: 9, Patch: 30",
           "Layer: 9, Patch: 31",
           "Layer: 9, Patch: 32",
           "Layer: 9, Patch: 33",
           "Layer: 9, Patch: 34",
           "Layer: 9, Patch: 35",
           "Layer: 9, Patch: 36",
           "Layer: 9, Patch: 37",
           "Layer: 9, Patch: 38",
           "Layer: 9, Patch: 39",
           "Layer: 9, Patch: 40",
           "Layer: 9, Patch: 41",
           "Layer: 9, Patch: 42",
           "Layer: 9, Patch: 43",
           "Layer: 9, Patch: 44",
           "Layer: 9, Patch: 45",
           "Layer: 9, Patch: 46",
           "Layer: 9, Patch: 47",
           "Layer: 9, Patch: 48",
           "Layer: 9, Patch: 49"
          ],
          [
           "Layer: 10, Patch: 0",
           "Layer: 10, Patch: 1",
           "Layer: 10, Patch: 2",
           "Layer: 10, Patch: 3",
           "Layer: 10, Patch: 4",
           "Layer: 10, Patch: 5",
           "Layer: 10, Patch: 6",
           "Layer: 10, Patch: 7",
           "Layer: 10, Patch: 8",
           "Layer: 10, Patch: 9",
           "Layer: 10, Patch: 10",
           "Layer: 10, Patch: 11",
           "Layer: 10, Patch: 12",
           "Layer: 10, Patch: 13",
           "Layer: 10, Patch: 14",
           "Layer: 10, Patch: 15",
           "Layer: 10, Patch: 16",
           "Layer: 10, Patch: 17",
           "Layer: 10, Patch: 18",
           "Layer: 10, Patch: 19",
           "Layer: 10, Patch: 20",
           "Layer: 10, Patch: 21",
           "Layer: 10, Patch: 22",
           "Layer: 10, Patch: 23",
           "Layer: 10, Patch: 24",
           "Layer: 10, Patch: 25",
           "Layer: 10, Patch: 26",
           "Layer: 10, Patch: 27",
           "Layer: 10, Patch: 28",
           "Layer: 10, Patch: 29",
           "Layer: 10, Patch: 30",
           "Layer: 10, Patch: 31",
           "Layer: 10, Patch: 32",
           "Layer: 10, Patch: 33",
           "Layer: 10, Patch: 34",
           "Layer: 10, Patch: 35",
           "Layer: 10, Patch: 36",
           "Layer: 10, Patch: 37",
           "Layer: 10, Patch: 38",
           "Layer: 10, Patch: 39",
           "Layer: 10, Patch: 40",
           "Layer: 10, Patch: 41",
           "Layer: 10, Patch: 42",
           "Layer: 10, Patch: 43",
           "Layer: 10, Patch: 44",
           "Layer: 10, Patch: 45",
           "Layer: 10, Patch: 46",
           "Layer: 10, Patch: 47",
           "Layer: 10, Patch: 48",
           "Layer: 10, Patch: 49"
          ],
          [
           "Layer: 11, Patch: 0",
           "Layer: 11, Patch: 1",
           "Layer: 11, Patch: 2",
           "Layer: 11, Patch: 3",
           "Layer: 11, Patch: 4",
           "Layer: 11, Patch: 5",
           "Layer: 11, Patch: 6",
           "Layer: 11, Patch: 7",
           "Layer: 11, Patch: 8",
           "Layer: 11, Patch: 9",
           "Layer: 11, Patch: 10",
           "Layer: 11, Patch: 11",
           "Layer: 11, Patch: 12",
           "Layer: 11, Patch: 13",
           "Layer: 11, Patch: 14",
           "Layer: 11, Patch: 15",
           "Layer: 11, Patch: 16",
           "Layer: 11, Patch: 17",
           "Layer: 11, Patch: 18",
           "Layer: 11, Patch: 19",
           "Layer: 11, Patch: 20",
           "Layer: 11, Patch: 21",
           "Layer: 11, Patch: 22",
           "Layer: 11, Patch: 23",
           "Layer: 11, Patch: 24",
           "Layer: 11, Patch: 25",
           "Layer: 11, Patch: 26",
           "Layer: 11, Patch: 27",
           "Layer: 11, Patch: 28",
           "Layer: 11, Patch: 29",
           "Layer: 11, Patch: 30",
           "Layer: 11, Patch: 31",
           "Layer: 11, Patch: 32",
           "Layer: 11, Patch: 33",
           "Layer: 11, Patch: 34",
           "Layer: 11, Patch: 35",
           "Layer: 11, Patch: 36",
           "Layer: 11, Patch: 37",
           "Layer: 11, Patch: 38",
           "Layer: 11, Patch: 39",
           "Layer: 11, Patch: 40",
           "Layer: 11, Patch: 41",
           "Layer: 11, Patch: 42",
           "Layer: 11, Patch: 43",
           "Layer: 11, Patch: 44",
           "Layer: 11, Patch: 45",
           "Layer: 11, Patch: 46",
           "Layer: 11, Patch: 47",
           "Layer: 11, Patch: 48",
           "Layer: 11, Patch: 49"
          ]
         ],
         "type": "heatmap",
         "x": [
          0,
          1,
          2,
          3,
          4,
          5,
          6,
          7,
          8,
          9,
          10,
          11,
          12,
          13,
          14,
          15,
          16,
          17,
          18,
          19,
          20,
          21,
          22,
          23,
          24,
          25,
          26,
          27,
          28,
          29,
          30,
          31,
          32,
          33,
          34,
          35,
          36,
          37,
          38,
          39,
          40,
          41,
          42,
          43,
          44,
          45,
          46,
          47,
          48,
          49
         ],
         "xaxis": "x",
         "y": [
          0,
          1,
          2,
          3,
          4,
          5,
          6,
          7,
          8,
          9,
          10,
          11
         ],
         "yaxis": "y",
         "z": [
          [
           -0.0007824820349924266,
           -0.004422946833074093,
           0.03232070431113243,
           0.05844118446111679,
           0.0729307308793068,
           0.032490137964487076,
           0.0012045892653986812,
           -0.0031487070955336094,
           0.006791414227336645,
           0.07636890560388565,
           0.019510898739099503,
           0.036402758210897446,
           0.056394413113594055,
           -0.00020446696726139635,
           0.00021574838319793344,
           0.022462917491793633,
           0.10831178724765778,
           0.0827241986989975,
           0.24232999980449677,
           -0.006412541028112173,
           -0.004389453213661909,
           -0.00003293333429610357,
           0.021208226680755615,
           0.10695409029722214,
           0.020056191831827164,
           0.07409573346376419,
           0.007411612197756767,
           -0.00010433560964884236,
           0.00014834015746600926,
           0.028481310233473778,
           0.09391501545906067,
           0.13290899991989136,
           0.12711335718631744,
           0.0008800908690318465,
           0.0013009367976337671,
           -0.0006288164877332747,
           0.04505651816725731,
           0.06105784326791763,
           0.10722848773002625,
           0.04689076542854309,
           -0.009605673141777515,
           0.00079355324851349,
           -0.00117761199362576,
           -0.009818969294428825,
           0.0014914596686139703,
           0.05967485532164574,
           -0.0016537439078092575,
           -0.012296326458454132,
           0.0008927035960368812,
           -0.0008289390825666487
          ],
          [
           0.0000030831208732706727,
           -0.005822193343192339,
           0.0024816319346427917,
           0.008076375350356102,
           0.029621083289384842,
           0.048693690448999405,
           0.0009894715622067451,
           -0.0037428385112434626,
           0.001701672445051372,
           0.012818214483559132,
           0.006816289387643337,
           0.03869624808430672,
           0.015638500452041626,
           -0.0015786979347467422,
           -0.0012394145596772432,
           0.004590135999023914,
           0.06699319928884506,
           0.04620273783802986,
           0.04427992179989815,
           -0.004737775772809982,
           -0.005089811980724335,
           -0.0005532099748961627,
           0.002878443570807576,
           0.01819889061152935,
           0.03444637730717659,
           0.07335003465414047,
           -0.009683031588792801,
           -0.0036464210133999586,
           -0.00018218440527562052,
           0.0036949801724404097,
           0.09431925415992737,
           0.06290806829929352,
           0.08821558207273483,
           -0.005656685680150986,
           0.000010020142326538917,
           0.0042544263415038586,
           -0.006728070322424173,
           0.008829987607896328,
           0.005880492273718119,
           0.009364979341626167,
           -0.010595494881272316,
           -0.0014319694600999355,
           0.00034811237128451467,
           -0.0008392395102418959,
           0.005188892129808664,
           0.011054529808461666,
           0.012042389251291752,
           -0.0010675305966287851,
           0.00008716823504073545,
           0.00020341589697636664
          ],
          [
           -0.0008492596098221838,
           -0.0046621691435575485,
           -0.010427464731037617,
           0.005766416899859905,
           0.034869253635406494,
           -0.006497326772660017,
           0.0003625469689723104,
           0.0037814476527273655,
           0.0020150996278971434,
           0.044626351445913315,
           0.002094910480082035,
           -0.012181339785456657,
           0.005165839102119207,
           0.0005434000631794333,
           -0.0005840411758981645,
           0.003614748828113079,
           0.012499602511525154,
           0.01297965832054615,
           0.0073562562465667725,
           0.0028197241481393576,
           0.003976034466177225,
           -0.004745273385196924,
           0.002677059732377529,
           0.005645544733852148,
           0.04016970098018646,
           0.01016890350729227,
           0.00791247934103012,
           -0.0033225531224161386,
           -0.0009334148489870131,
           0.00264181406237185,
           0.02578168734908104,
           0.007353383116424084,
           0.01890065148472786,
           -0.004939159378409386,
           0.004382586106657982,
           0.0029147404711693525,
           0.006307574454694986,
           0.030868414789438248,
           0.012293733656406403,
           0.014128470793366432,
           0.015389817766845226,
           -0.0020200046710669994,
           -0.0023850041907280684,
           -0.00358188571408391,
           0.013220071792602539,
           -0.0002896732185035944,
           0.008832930587232113,
           -0.0010778310243040323,
           -0.0021476037800312042,
           -0.00006593674333998933
          ],
          [
           -0.0008214414701797068,
           -0.005972915794700384,
           -0.008456159383058548,
           -0.0036116656847298145,
           -0.0026370491832494736,
           -0.003517630510032177,
           -0.0007266355096362531,
           0.0024738539941608906,
           -0.002373932860791683,
           -0.0038296564016491175,
           0.0012197947362437844,
           -0.00828301440924406,
           -0.017995616421103477,
           0.007208546623587608,
           0.0003331171756144613,
           0.0034722245763987303,
           -0.003202031133696437,
           0.00003636681140051223,
           0.0014023995026946068,
           -0.007983951829373837,
           -0.010525563731789589,
           -0.004439343698322773,
           0.0036925976164638996,
           -0.0034350871574133635,
           0.0019814656116068363,
           -0.012203272432088852,
           0.00260691880248487,
           -0.00879446230828762,
           0.00044495039037428796,
           0.00273970328271389,
           0.0025556969922035933,
           -0.0001306122139794752,
           0.006539719644933939,
           -0.006229025311768055,
           -0.0056333523243665695,
           0.002377296332269907,
           0.0005054216017015278,
           0.004037837032228708,
           0.007671155035495758,
           -0.004361635074019432,
           -0.005863254889845848,
           0.001218323246575892,
           -0.0016599101945757866,
           0.011299707926809788,
           -0.0012805461883544922,
           0.0006169744883663952,
           -0.002508539240807295,
           -0.004388822242617607,
           -0.004856545943766832,
           -0.002330418908968568
          ],
          [
           0.0019065598025918007,
           -0.002562563866376877,
           -0.0018720849184319377,
           -0.001751562929712236,
           -0.006248714867979288,
           -0.010322288610041142,
           -0.0003600945055950433,
           0.0023683272302150726,
           -0.002598580438643694,
           0.0005445212009362876,
           0.0001683804439380765,
           -0.009174596518278122,
           0.0033041946589946747,
           -0.000825085153337568,
           0.0004834193387068808,
           0.002850625431165099,
           0.005151964724063873,
           -0.0013981952797621489,
           -0.005944536998867989,
           0.0018825255101546645,
           0.010434051975607872,
           -0.003918296191841364,
           0.0012183933285996318,
           0.001354541047476232,
           0.0030044312588870525,
           -0.0005197861464694142,
           0.004217358771711588,
           0.0033521230798214674,
           -0.0010698429541662335,
           0.0009413328371010721,
           0.000739948998671025,
           0.0005055617657490075,
           0.0018912142841145396,
           0.0017898917431011796,
           0.0038179545663297176,
           0.0019383019534870982,
           0.0003517560544423759,
           0.006604394875466824,
           0.0008273274288512766,
           0.005758919287472963,
           -0.0034899525344371796,
           0.001173477852717042,
           -0.0010980113875120878,
           0.0009559776517562568,
           0.002526897704228759,
           0.0021476037800312042,
           0.004584530368447304,
           -0.009433859027922153,
           -0.0018158180173486471,
           0.0017901720711961389
          ],
          [
           0.0010290616191923618,
           -0.005796827841550112,
           -0.004524549935013056,
           -0.002796670887619257,
           -0.0020413764286786318,
           -0.01044344063848257,
           0.004239501431584358,
           -0.0009983005002140999,
           0.0008760267519392073,
           -0.0016042739152908325,
           0.0027874214574694633,
           -0.007387017365545034,
           -0.01597890444099903,
           0.0024713315069675446,
           0.0013752119848504663,
           0.0008403606479987502,
           0.018038848415017128,
           -0.001611140789464116,
           -0.007203221321105957,
           0.00022373646788764745,
           0.003450292395427823,
           -0.0018855385715141892,
           -0.0001559778902446851,
           -0.00010531660518608987,
           0.0008876585052348673,
           0.001223298255354166,
           0.0021902769804000854,
           -0.0033366375137120485,
           0.006260907277464867,
           0.0015913808019831777,
           0.0021857223473489285,
           0.0011939385440200567,
           -0.0032848550472408533,
           0.002064219443127513,
           -0.002082858234643936,
           0.005428815260529518,
           -0.0008911620243452489,
           0.00008443546539638191,
           0.001383200054988265,
           0.0004006655653938651,
           -0.000059770500229205936,
           -0.0019297533435747027,
           -0.0028471918776631355,
           -0.0026237356942147017,
           0.002826521173119545,
           0.00080518500180915,
           0.002848523436114192,
           -0.0006422701408155262,
           -0.002184180775657296,
           0.0018070591613650322
          ],
          [
           -0.017694590613245964,
           -0.0018024344462901354,
           -0.000947989581618458,
           -0.0004864323709625751,
           -0.00015121305477805436,
           0.035471584647893906,
           0.00010938071500277147,
           0.004833702929317951,
           -0.0032157651148736477,
           -0.003811157774180174,
           -0.004718856420367956,
           -0.0065578678622841835,
           -0.016212590038776398,
           0.003218918340280652,
           0.000060120855778222904,
           -0.009167169220745564,
           0.024257363751530647,
           0.0029097653459757566,
           -0.001442550215870142,
           0.002545466646552086,
           0.006915650330483913,
           -0.0029472531750798225,
           0.002187964739277959,
           -0.003545308718457818,
           -0.0009692911407910287,
           -0.005455161910504103,
           0.0015925720799714327,
           -0.006261538248509169,
           -0.0009355169604532421,
           0.0015334321651607752,
           -0.00008219319715863094,
           -0.00031174556352198124,
           0.00008079178223852068,
           0.0017185595352202654,
           0.0031631418969482183,
           -0.005502459593117237,
           0.0015527717769145966,
           -0.003343854798004031,
           -0.003294945228844881,
           0.0017263374757021666,
           0.003658333094790578,
           0.012269489467144012,
           0.007987525314092636,
           -0.0028517465107142925,
           -0.001636086031794548,
           -0.0011600942816585302,
           0.0005529297050088644,
           -0.000757817062549293,
           0.0006166942184790969,
           0.0001101515008485876
          ],
          [
           0.021426638588309288,
           -0.0007065251702442765,
           -0.0033494604285806417,
           -0.0017213623505085707,
           -0.008730767294764519,
           0.011765399016439915,
           0.004986878018826246,
           0.0012080929009243846,
           0.00108210532926023,
           -0.0037951816339045763,
           0.0000734343338990584,
           -0.003108486533164978,
           0.01370734442025423,
           0.005045597441494465,
           0.00011982128489762545,
           -0.011299427598714828,
           0.07834959775209427,
           -0.0011414553737267852,
           -0.008825292810797691,
           -0.0006695977644994855,
           -0.0025975992903113365,
           -0.0021896464750170708,
           0.0026006123516708612,
           -0.001007830142043531,
           0.0001906629913719371,
           -0.0010163787519559264,
           0.0009130241815000772,
           0.009696835651993752,
           -0.0008783390512689948,
           0.0011336775496602058,
           -0.0003898746508639306,
           -0.0019613553304225206,
           0.0007766661583445966,
           -0.0007551544113084674,
           0.002572443801909685,
           -0.005650309380143881,
           -0.00010055177699541673,
           -0.008554188534617424,
           -0.0038038003258407116,
           0.0017683099722489715,
           -0.004079809878021479,
           0.0023351137060672045,
           0.0001936760381795466,
           -0.001290145912207663,
           -0.0011665407801046968,
           -0.0005170533549971879,
           0.0004779537848662585,
           -0.0054407971911132336,
           -0.0011247084476053715,
           -0.004248050041496754
          ],
          [
           0.01530818548053503,
           0.0016769374487921596,
           -0.0002844178816303611,
           0.001442199805751443,
           0.004298921674489975,
           0.006246192380785942,
           0.0018015935784205794,
           0.005717857740819454,
           0.0006446525221690536,
           0.0034860987216234207,
           -0.0021213272120803595,
           0.0006309886812232435,
           -0.0054300762712955475,
           0.0028695445507764816,
           0.0011504945578053594,
           0.008847084827721119,
           0.08097578585147858,
           0.00019767008780036122,
           -0.002836120780557394,
           0.004775473847985268,
           0.006146061234176159,
           -0.0037040894385427237,
           0.0006553733837790787,
           0.0013411575928330421,
           0.0011125161545351148,
           0.00036345788976177573,
           0.0012298849178478122,
           0.003385476768016815,
           0.0002182709431508556,
           -0.0006852236110717058,
           0.0008345447713509202,
           0.0012568621896207333,
           0.0015191376442089677,
           0.0019308744231238961,
           0.01521639246493578,
           -0.00046029590885154903,
           -0.005234368145465851,
           -0.0006749231833964586,
           -0.002320819068700075,
           0.0046056220307946205,
           -0.0005370936705730855,
           -0.0016430231044068933,
           0.005081964191049337,
           0.0007307697087526321,
           -0.001090023317374289,
           -0.001750231604091823,
           -0.002668441040441394,
           0.0011013047769665718,
           -0.00007988085417309776,
           -0.0013815885176882148
          ],
          [
           -0.006234070286154747,
           0.00027902243891730905,
           -0.000303337030345574,
           0.0012876233085989952,
           -0.0008086885791271925,
           0.006129174027591944,
           0.003434106009081006,
           -0.002035140059888363,
           0.00034180597867816687,
           0.004936847370117903,
           0.003783759893849492,
           0.004300322849303484,
           -0.0074579291976988316,
           -0.0049229031428694725,
           -0.0002570902288425714,
           -0.0012327578151598573,
           0.014598577283322811,
           -0.0004004553484264761,
           0.00027047377079725266,
           0.0011790134012699127,
           0.006446595303714275,
           -0.0060333870351314545,
           0.0005292457062751055,
           0.010848380625247955,
           -0.001390697667375207,
           0.004483348224312067,
           0.0002578610146883875,
           0.006688760593533516,
           0.0004958919598720968,
           0.0013418582966551185,
           0.005415431689471006,
           0.0010404832428321242,
           0.0019345881883054972,
           0.0006699481164105237,
           0.00351538835093379,
           -0.004022281616926193,
           0.0020104050636291504,
           0.006763736251741648,
           -0.0007773668621666729,
           0.002006060676649213,
           0.0038873949088156223,
           -0.003290460677817464,
           -0.00009971093095373362,
           0.003358919871971011,
           -0.0005901373224332929,
           0.001026118639856577,
           -0.0008438641671091318,
           -0.002251449041068554,
           -0.00030747122946195304,
           -0.002067863242700696
          ],
          [
           -0.033829402178525925,
           0.0029745809733867645,
           0.015447486191987991,
           0.020981337875127792,
           0.027593091130256653,
           0.04535936191678047,
           0.002055530669167638,
           -0.00018022242875304073,
           0.0003062099567614496,
           0.0379081629216671,
           0.009024854749441147,
           0.018474619835615158,
           0.03781118243932724,
           0.00012507660721894354,
           0.00023817108012735844,
           0.0004170621687080711,
           0.18121162056922913,
           0.011295643635094166,
           0.014905838295817375,
           0.0045792050659656525,
           0.005006637889891863,
           0.00038616088568232954,
           0.0019074006704613566,
           0.044524889439344406,
           0.03375064209103584,
           0.04671691730618477,
           0.010009631514549255,
           -0.003207496600225568,
           0.0019621960818767548,
           0.0010166590800508857,
           0.018568024039268494,
           0.006223209202289581,
           0.027567654848098755,
           0.014632982201874256,
           0.004519504960626364,
           0.004655302036553621,
           0.0068029058165848255,
           0.04344761744141579,
           0.03013007901608944,
           0.012946374714374542,
           0.005941453855484724,
           0.001977331470698118,
           0.0010360687738284469,
           0.002172689186409116,
           0.00136694370303303,
           0.00345484702847898,
           0.0007421912741847336,
           0.0014005076372995973,
           0.0009137949673458934,
           0.001851974637247622
          ],
          [
           -0.07889650017023087,
           0,
           0,
           0,
           0,
           0,
           0,
           0,
           0,
           0,
           0,
           0,
           0,
           0,
           0,
           0,
           0,
           0,
           0,
           0,
           0,
           0,
           0,
           0,
           0,
           0,
           0,
           0,
           0,
           0,
           0,
           0,
           0,
           0,
           0,
           0,
           0,
           0,
           0,
           0,
           0,
           0,
           0,
           0,
           0,
           0,
           0,
           0,
           0,
           0
          ]
         ]
        }
       ],
       "layout": {
        "coloraxis": {
         "colorbar": {
          "title": {
           "text": "Difference"
          }
         },
         "colorscale": [
          [
           0,
           "#440154"
          ],
          [
           0.1111111111111111,
           "#482878"
          ],
          [
           0.2222222222222222,
           "#3e4989"
          ],
          [
           0.3333333333333333,
           "#31688e"
          ],
          [
           0.4444444444444444,
           "#26828e"
          ],
          [
           0.5555555555555556,
           "#1f9e89"
          ],
          [
           0.6666666666666666,
           "#35b779"
          ],
          [
           0.7777777777777778,
           "#6ece58"
          ],
          [
           0.8888888888888888,
           "#b5de2b"
          ],
          [
           1,
           "#fde725"
          ]
         ]
        },
        "margin": {
         "t": 60
        },
        "template": {
         "data": {
          "bar": [
           {
            "error_x": {
             "color": "#2a3f5f"
            },
            "error_y": {
             "color": "#2a3f5f"
            },
            "marker": {
             "line": {
              "color": "#E5ECF6",
              "width": 0.5
             },
             "pattern": {
              "fillmode": "overlay",
              "size": 10,
              "solidity": 0.2
             }
            },
            "type": "bar"
           }
          ],
          "barpolar": [
           {
            "marker": {
             "line": {
              "color": "#E5ECF6",
              "width": 0.5
             },
             "pattern": {
              "fillmode": "overlay",
              "size": 10,
              "solidity": 0.2
             }
            },
            "type": "barpolar"
           }
          ],
          "carpet": [
           {
            "aaxis": {
             "endlinecolor": "#2a3f5f",
             "gridcolor": "white",
             "linecolor": "white",
             "minorgridcolor": "white",
             "startlinecolor": "#2a3f5f"
            },
            "baxis": {
             "endlinecolor": "#2a3f5f",
             "gridcolor": "white",
             "linecolor": "white",
             "minorgridcolor": "white",
             "startlinecolor": "#2a3f5f"
            },
            "type": "carpet"
           }
          ],
          "choropleth": [
           {
            "colorbar": {
             "outlinewidth": 0,
             "ticks": ""
            },
            "type": "choropleth"
           }
          ],
          "contour": [
           {
            "colorbar": {
             "outlinewidth": 0,
             "ticks": ""
            },
            "colorscale": [
             [
              0,
              "#0d0887"
             ],
             [
              0.1111111111111111,
              "#46039f"
             ],
             [
              0.2222222222222222,
              "#7201a8"
             ],
             [
              0.3333333333333333,
              "#9c179e"
             ],
             [
              0.4444444444444444,
              "#bd3786"
             ],
             [
              0.5555555555555556,
              "#d8576b"
             ],
             [
              0.6666666666666666,
              "#ed7953"
             ],
             [
              0.7777777777777778,
              "#fb9f3a"
             ],
             [
              0.8888888888888888,
              "#fdca26"
             ],
             [
              1,
              "#f0f921"
             ]
            ],
            "type": "contour"
           }
          ],
          "contourcarpet": [
           {
            "colorbar": {
             "outlinewidth": 0,
             "ticks": ""
            },
            "type": "contourcarpet"
           }
          ],
          "heatmap": [
           {
            "colorbar": {
             "outlinewidth": 0,
             "ticks": ""
            },
            "colorscale": [
             [
              0,
              "#0d0887"
             ],
             [
              0.1111111111111111,
              "#46039f"
             ],
             [
              0.2222222222222222,
              "#7201a8"
             ],
             [
              0.3333333333333333,
              "#9c179e"
             ],
             [
              0.4444444444444444,
              "#bd3786"
             ],
             [
              0.5555555555555556,
              "#d8576b"
             ],
             [
              0.6666666666666666,
              "#ed7953"
             ],
             [
              0.7777777777777778,
              "#fb9f3a"
             ],
             [
              0.8888888888888888,
              "#fdca26"
             ],
             [
              1,
              "#f0f921"
             ]
            ],
            "type": "heatmap"
           }
          ],
          "heatmapgl": [
           {
            "colorbar": {
             "outlinewidth": 0,
             "ticks": ""
            },
            "colorscale": [
             [
              0,
              "#0d0887"
             ],
             [
              0.1111111111111111,
              "#46039f"
             ],
             [
              0.2222222222222222,
              "#7201a8"
             ],
             [
              0.3333333333333333,
              "#9c179e"
             ],
             [
              0.4444444444444444,
              "#bd3786"
             ],
             [
              0.5555555555555556,
              "#d8576b"
             ],
             [
              0.6666666666666666,
              "#ed7953"
             ],
             [
              0.7777777777777778,
              "#fb9f3a"
             ],
             [
              0.8888888888888888,
              "#fdca26"
             ],
             [
              1,
              "#f0f921"
             ]
            ],
            "type": "heatmapgl"
           }
          ],
          "histogram": [
           {
            "marker": {
             "pattern": {
              "fillmode": "overlay",
              "size": 10,
              "solidity": 0.2
             }
            },
            "type": "histogram"
           }
          ],
          "histogram2d": [
           {
            "colorbar": {
             "outlinewidth": 0,
             "ticks": ""
            },
            "colorscale": [
             [
              0,
              "#0d0887"
             ],
             [
              0.1111111111111111,
              "#46039f"
             ],
             [
              0.2222222222222222,
              "#7201a8"
             ],
             [
              0.3333333333333333,
              "#9c179e"
             ],
             [
              0.4444444444444444,
              "#bd3786"
             ],
             [
              0.5555555555555556,
              "#d8576b"
             ],
             [
              0.6666666666666666,
              "#ed7953"
             ],
             [
              0.7777777777777778,
              "#fb9f3a"
             ],
             [
              0.8888888888888888,
              "#fdca26"
             ],
             [
              1,
              "#f0f921"
             ]
            ],
            "type": "histogram2d"
           }
          ],
          "histogram2dcontour": [
           {
            "colorbar": {
             "outlinewidth": 0,
             "ticks": ""
            },
            "colorscale": [
             [
              0,
              "#0d0887"
             ],
             [
              0.1111111111111111,
              "#46039f"
             ],
             [
              0.2222222222222222,
              "#7201a8"
             ],
             [
              0.3333333333333333,
              "#9c179e"
             ],
             [
              0.4444444444444444,
              "#bd3786"
             ],
             [
              0.5555555555555556,
              "#d8576b"
             ],
             [
              0.6666666666666666,
              "#ed7953"
             ],
             [
              0.7777777777777778,
              "#fb9f3a"
             ],
             [
              0.8888888888888888,
              "#fdca26"
             ],
             [
              1,
              "#f0f921"
             ]
            ],
            "type": "histogram2dcontour"
           }
          ],
          "mesh3d": [
           {
            "colorbar": {
             "outlinewidth": 0,
             "ticks": ""
            },
            "type": "mesh3d"
           }
          ],
          "parcoords": [
           {
            "line": {
             "colorbar": {
              "outlinewidth": 0,
              "ticks": ""
             }
            },
            "type": "parcoords"
           }
          ],
          "pie": [
           {
            "automargin": true,
            "type": "pie"
           }
          ],
          "scatter": [
           {
            "fillpattern": {
             "fillmode": "overlay",
             "size": 10,
             "solidity": 0.2
            },
            "type": "scatter"
           }
          ],
          "scatter3d": [
           {
            "line": {
             "colorbar": {
              "outlinewidth": 0,
              "ticks": ""
             }
            },
            "marker": {
             "colorbar": {
              "outlinewidth": 0,
              "ticks": ""
             }
            },
            "type": "scatter3d"
           }
          ],
          "scattercarpet": [
           {
            "marker": {
             "colorbar": {
              "outlinewidth": 0,
              "ticks": ""
             }
            },
            "type": "scattercarpet"
           }
          ],
          "scattergeo": [
           {
            "marker": {
             "colorbar": {
              "outlinewidth": 0,
              "ticks": ""
             }
            },
            "type": "scattergeo"
           }
          ],
          "scattergl": [
           {
            "marker": {
             "colorbar": {
              "outlinewidth": 0,
              "ticks": ""
             }
            },
            "type": "scattergl"
           }
          ],
          "scattermapbox": [
           {
            "marker": {
             "colorbar": {
              "outlinewidth": 0,
              "ticks": ""
             }
            },
            "type": "scattermapbox"
           }
          ],
          "scatterpolar": [
           {
            "marker": {
             "colorbar": {
              "outlinewidth": 0,
              "ticks": ""
             }
            },
            "type": "scatterpolar"
           }
          ],
          "scatterpolargl": [
           {
            "marker": {
             "colorbar": {
              "outlinewidth": 0,
              "ticks": ""
             }
            },
            "type": "scatterpolargl"
           }
          ],
          "scatterternary": [
           {
            "marker": {
             "colorbar": {
              "outlinewidth": 0,
              "ticks": ""
             }
            },
            "type": "scatterternary"
           }
          ],
          "surface": [
           {
            "colorbar": {
             "outlinewidth": 0,
             "ticks": ""
            },
            "colorscale": [
             [
              0,
              "#0d0887"
             ],
             [
              0.1111111111111111,
              "#46039f"
             ],
             [
              0.2222222222222222,
              "#7201a8"
             ],
             [
              0.3333333333333333,
              "#9c179e"
             ],
             [
              0.4444444444444444,
              "#bd3786"
             ],
             [
              0.5555555555555556,
              "#d8576b"
             ],
             [
              0.6666666666666666,
              "#ed7953"
             ],
             [
              0.7777777777777778,
              "#fb9f3a"
             ],
             [
              0.8888888888888888,
              "#fdca26"
             ],
             [
              1,
              "#f0f921"
             ]
            ],
            "type": "surface"
           }
          ],
          "table": [
           {
            "cells": {
             "fill": {
              "color": "#EBF0F8"
             },
             "line": {
              "color": "white"
             }
            },
            "header": {
             "fill": {
              "color": "#C8D4E3"
             },
             "line": {
              "color": "white"
             }
            },
            "type": "table"
           }
          ]
         },
         "layout": {
          "annotationdefaults": {
           "arrowcolor": "#2a3f5f",
           "arrowhead": 0,
           "arrowwidth": 1
          },
          "autotypenumbers": "strict",
          "coloraxis": {
           "colorbar": {
            "outlinewidth": 0,
            "ticks": ""
           }
          },
          "colorscale": {
           "diverging": [
            [
             0,
             "#8e0152"
            ],
            [
             0.1,
             "#c51b7d"
            ],
            [
             0.2,
             "#de77ae"
            ],
            [
             0.3,
             "#f1b6da"
            ],
            [
             0.4,
             "#fde0ef"
            ],
            [
             0.5,
             "#f7f7f7"
            ],
            [
             0.6,
             "#e6f5d0"
            ],
            [
             0.7,
             "#b8e186"
            ],
            [
             0.8,
             "#7fbc41"
            ],
            [
             0.9,
             "#4d9221"
            ],
            [
             1,
             "#276419"
            ]
           ],
           "sequential": [
            [
             0,
             "#0d0887"
            ],
            [
             0.1111111111111111,
             "#46039f"
            ],
            [
             0.2222222222222222,
             "#7201a8"
            ],
            [
             0.3333333333333333,
             "#9c179e"
            ],
            [
             0.4444444444444444,
             "#bd3786"
            ],
            [
             0.5555555555555556,
             "#d8576b"
            ],
            [
             0.6666666666666666,
             "#ed7953"
            ],
            [
             0.7777777777777778,
             "#fb9f3a"
            ],
            [
             0.8888888888888888,
             "#fdca26"
            ],
            [
             1,
             "#f0f921"
            ]
           ],
           "sequentialminus": [
            [
             0,
             "#0d0887"
            ],
            [
             0.1111111111111111,
             "#46039f"
            ],
            [
             0.2222222222222222,
             "#7201a8"
            ],
            [
             0.3333333333333333,
             "#9c179e"
            ],
            [
             0.4444444444444444,
             "#bd3786"
            ],
            [
             0.5555555555555556,
             "#d8576b"
            ],
            [
             0.6666666666666666,
             "#ed7953"
            ],
            [
             0.7777777777777778,
             "#fb9f3a"
            ],
            [
             0.8888888888888888,
             "#fdca26"
            ],
            [
             1,
             "#f0f921"
            ]
           ]
          },
          "colorway": [
           "#636efa",
           "#EF553B",
           "#00cc96",
           "#ab63fa",
           "#FFA15A",
           "#19d3f3",
           "#FF6692",
           "#B6E880",
           "#FF97FF",
           "#FECB52"
          ],
          "font": {
           "color": "#2a3f5f"
          },
          "geo": {
           "bgcolor": "white",
           "lakecolor": "white",
           "landcolor": "#E5ECF6",
           "showlakes": true,
           "showland": true,
           "subunitcolor": "white"
          },
          "hoverlabel": {
           "align": "left"
          },
          "hovermode": "closest",
          "mapbox": {
           "style": "light"
          },
          "paper_bgcolor": "white",
          "plot_bgcolor": "#E5ECF6",
          "polar": {
           "angularaxis": {
            "gridcolor": "white",
            "linecolor": "white",
            "ticks": ""
           },
           "bgcolor": "#E5ECF6",
           "radialaxis": {
            "gridcolor": "white",
            "linecolor": "white",
            "ticks": ""
           }
          },
          "scene": {
           "xaxis": {
            "backgroundcolor": "#E5ECF6",
            "gridcolor": "white",
            "gridwidth": 2,
            "linecolor": "white",
            "showbackground": true,
            "ticks": "",
            "zerolinecolor": "white"
           },
           "yaxis": {
            "backgroundcolor": "#E5ECF6",
            "gridcolor": "white",
            "gridwidth": 2,
            "linecolor": "white",
            "showbackground": true,
            "ticks": "",
            "zerolinecolor": "white"
           },
           "zaxis": {
            "backgroundcolor": "#E5ECF6",
            "gridcolor": "white",
            "gridwidth": 2,
            "linecolor": "white",
            "showbackground": true,
            "ticks": "",
            "zerolinecolor": "white"
           }
          },
          "shapedefaults": {
           "line": {
            "color": "#2a3f5f"
           }
          },
          "ternary": {
           "aaxis": {
            "gridcolor": "white",
            "linecolor": "white",
            "ticks": ""
           },
           "baxis": {
            "gridcolor": "white",
            "linecolor": "white",
            "ticks": ""
           },
           "bgcolor": "#E5ECF6",
           "caxis": {
            "gridcolor": "white",
            "linecolor": "white",
            "ticks": ""
           }
          },
          "title": {
           "x": 0.05
          },
          "xaxis": {
           "automargin": true,
           "gridcolor": "white",
           "linecolor": "white",
           "ticks": "",
           "title": {
            "standoff": 15
           },
           "zerolinecolor": "white",
           "zerolinewidth": 2
          },
          "yaxis": {
           "automargin": true,
           "gridcolor": "white",
           "linecolor": "white",
           "ticks": "",
           "title": {
            "standoff": 15
           },
           "zerolinecolor": "white",
           "zerolinewidth": 2
          }
         }
        },
        "title": {
         "text": "Normalized Patched MLP Difference per Layer and Patch"
        },
        "xaxis": {
         "anchor": "y",
         "constrain": "domain",
         "domain": [
          0,
          1
         ],
         "scaleanchor": "y",
         "side": "top",
         "title": {
          "text": "Patch Number"
         }
        },
        "yaxis": {
         "anchor": "x",
         "autorange": "reversed",
         "constrain": "domain",
         "domain": [
          0,
          1
         ],
         "title": {
          "text": "Layer Number"
         }
        }
       }
      },
      "text/html": [
       "<div>                            <div id=\"86441c23-fc7a-414e-8115-52e75b0f5048\" class=\"plotly-graph-div\" style=\"height:525px; width:100%;\"></div>            <script type=\"text/javascript\">                require([\"plotly\"], function(Plotly) {                    window.PLOTLYENV=window.PLOTLYENV || {};                                    if (document.getElementById(\"86441c23-fc7a-414e-8115-52e75b0f5048\")) {                    Plotly.newPlot(                        \"86441c23-fc7a-414e-8115-52e75b0f5048\",                        [{\"coloraxis\":\"coloraxis\",\"name\":\"0\",\"x\":[0,1,2,3,4,5,6,7,8,9,10,11,12,13,14,15,16,17,18,19,20,21,22,23,24,25,26,27,28,29,30,31,32,33,34,35,36,37,38,39,40,41,42,43,44,45,46,47,48,49],\"y\":[0,1,2,3,4,5,6,7,8,9,10,11],\"z\":[[-0.0007824820349924266,-0.004422946833074093,0.03232070431113243,0.05844118446111679,0.0729307308793068,0.032490137964487076,0.0012045892653986812,-0.0031487070955336094,0.006791414227336645,0.07636890560388565,0.019510898739099503,0.036402758210897446,0.056394413113594055,-0.00020446696726139635,0.00021574838319793344,0.022462917491793633,0.10831178724765778,0.0827241986989975,0.24232999980449677,-0.006412541028112173,-0.004389453213661909,-3.293333429610357e-05,0.021208226680755615,0.10695409029722214,0.020056191831827164,0.07409573346376419,0.007411612197756767,-0.00010433560964884236,0.00014834015746600926,0.028481310233473778,0.09391501545906067,0.13290899991989136,0.12711335718631744,0.0008800908690318465,0.0013009367976337671,-0.0006288164877332747,0.04505651816725731,0.06105784326791763,0.10722848773002625,0.04689076542854309,-0.009605673141777515,0.00079355324851349,-0.00117761199362576,-0.009818969294428825,0.0014914596686139703,0.05967485532164574,-0.0016537439078092575,-0.012296326458454132,0.0008927035960368812,-0.0008289390825666487],[3.0831208732706727e-06,-0.005822193343192339,0.0024816319346427917,0.008076375350356102,0.029621083289384842,0.048693690448999405,0.0009894715622067451,-0.0037428385112434626,0.001701672445051372,0.012818214483559132,0.006816289387643337,0.03869624808430672,0.015638500452041626,-0.0015786979347467422,-0.0012394145596772432,0.004590135999023914,0.06699319928884506,0.04620273783802986,0.04427992179989815,-0.004737775772809982,-0.005089811980724335,-0.0005532099748961627,0.002878443570807576,0.01819889061152935,0.03444637730717659,0.07335003465414047,-0.009683031588792801,-0.0036464210133999586,-0.00018218440527562052,0.0036949801724404097,0.09431925415992737,0.06290806829929352,0.08821558207273483,-0.005656685680150986,1.0020142326538917e-05,0.0042544263415038586,-0.006728070322424173,0.008829987607896328,0.005880492273718119,0.009364979341626167,-0.010595494881272316,-0.0014319694600999355,0.00034811237128451467,-0.0008392395102418959,0.005188892129808664,0.011054529808461666,0.012042389251291752,-0.0010675305966287851,8.716823504073545e-05,0.00020341589697636664],[-0.0008492596098221838,-0.0046621691435575485,-0.010427464731037617,0.005766416899859905,0.034869253635406494,-0.006497326772660017,0.0003625469689723104,0.0037814476527273655,0.0020150996278971434,0.044626351445913315,0.002094910480082035,-0.012181339785456657,0.005165839102119207,0.0005434000631794333,-0.0005840411758981645,0.003614748828113079,0.012499602511525154,0.01297965832054615,0.0073562562465667725,0.0028197241481393576,0.003976034466177225,-0.004745273385196924,0.002677059732377529,0.005645544733852148,0.04016970098018646,0.01016890350729227,0.00791247934103012,-0.0033225531224161386,-0.0009334148489870131,0.00264181406237185,0.02578168734908104,0.007353383116424084,0.01890065148472786,-0.004939159378409386,0.004382586106657982,0.0029147404711693525,0.006307574454694986,0.030868414789438248,0.012293733656406403,0.014128470793366432,0.015389817766845226,-0.0020200046710669994,-0.0023850041907280684,-0.00358188571408391,0.013220071792602539,-0.0002896732185035944,0.008832930587232113,-0.0010778310243040323,-0.0021476037800312042,-6.593674333998933e-05],[-0.0008214414701797068,-0.005972915794700384,-0.008456159383058548,-0.0036116656847298145,-0.0026370491832494736,-0.003517630510032177,-0.0007266355096362531,0.0024738539941608906,-0.002373932860791683,-0.0038296564016491175,0.0012197947362437844,-0.00828301440924406,-0.017995616421103477,0.007208546623587608,0.0003331171756144613,0.0034722245763987303,-0.003202031133696437,3.636681140051223e-05,0.0014023995026946068,-0.007983951829373837,-0.010525563731789589,-0.004439343698322773,0.0036925976164638996,-0.0034350871574133635,0.0019814656116068363,-0.012203272432088852,0.00260691880248487,-0.00879446230828762,0.00044495039037428796,0.00273970328271389,0.0025556969922035933,-0.0001306122139794752,0.006539719644933939,-0.006229025311768055,-0.0056333523243665695,0.002377296332269907,0.0005054216017015278,0.004037837032228708,0.007671155035495758,-0.004361635074019432,-0.005863254889845848,0.001218323246575892,-0.0016599101945757866,0.011299707926809788,-0.0012805461883544922,0.0006169744883663952,-0.002508539240807295,-0.004388822242617607,-0.004856545943766832,-0.002330418908968568],[0.0019065598025918007,-0.002562563866376877,-0.0018720849184319377,-0.001751562929712236,-0.006248714867979288,-0.010322288610041142,-0.0003600945055950433,0.0023683272302150726,-0.002598580438643694,0.0005445212009362876,0.0001683804439380765,-0.009174596518278122,0.0033041946589946747,-0.000825085153337568,0.0004834193387068808,0.002850625431165099,0.005151964724063873,-0.0013981952797621489,-0.005944536998867989,0.0018825255101546645,0.010434051975607872,-0.003918296191841364,0.0012183933285996318,0.001354541047476232,0.0030044312588870525,-0.0005197861464694142,0.004217358771711588,0.0033521230798214674,-0.0010698429541662335,0.0009413328371010721,0.000739948998671025,0.0005055617657490075,0.0018912142841145396,0.0017898917431011796,0.0038179545663297176,0.0019383019534870982,0.0003517560544423759,0.006604394875466824,0.0008273274288512766,0.005758919287472963,-0.0034899525344371796,0.001173477852717042,-0.0010980113875120878,0.0009559776517562568,0.002526897704228759,0.0021476037800312042,0.004584530368447304,-0.009433859027922153,-0.0018158180173486471,0.0017901720711961389],[0.0010290616191923618,-0.005796827841550112,-0.004524549935013056,-0.002796670887619257,-0.0020413764286786318,-0.01044344063848257,0.004239501431584358,-0.0009983005002140999,0.0008760267519392073,-0.0016042739152908325,0.0027874214574694633,-0.007387017365545034,-0.01597890444099903,0.0024713315069675446,0.0013752119848504663,0.0008403606479987502,0.018038848415017128,-0.001611140789464116,-0.007203221321105957,0.00022373646788764745,0.003450292395427823,-0.0018855385715141892,-0.0001559778902446851,-0.00010531660518608987,0.0008876585052348673,0.001223298255354166,0.0021902769804000854,-0.0033366375137120485,0.006260907277464867,0.0015913808019831777,0.0021857223473489285,0.0011939385440200567,-0.0032848550472408533,0.002064219443127513,-0.002082858234643936,0.005428815260529518,-0.0008911620243452489,8.443546539638191e-05,0.001383200054988265,0.0004006655653938651,-5.9770500229205936e-05,-0.0019297533435747027,-0.0028471918776631355,-0.0026237356942147017,0.002826521173119545,0.00080518500180915,0.002848523436114192,-0.0006422701408155262,-0.002184180775657296,0.0018070591613650322],[-0.017694590613245964,-0.0018024344462901354,-0.000947989581618458,-0.0004864323709625751,-0.00015121305477805436,0.035471584647893906,0.00010938071500277147,0.004833702929317951,-0.0032157651148736477,-0.003811157774180174,-0.004718856420367956,-0.0065578678622841835,-0.016212590038776398,0.003218918340280652,6.0120855778222904e-05,-0.009167169220745564,0.024257363751530647,0.0029097653459757566,-0.001442550215870142,0.002545466646552086,0.006915650330483913,-0.0029472531750798225,0.002187964739277959,-0.003545308718457818,-0.0009692911407910287,-0.005455161910504103,0.0015925720799714327,-0.006261538248509169,-0.0009355169604532421,0.0015334321651607752,-8.219319715863094e-05,-0.00031174556352198124,8.079178223852068e-05,0.0017185595352202654,0.0031631418969482183,-0.005502459593117237,0.0015527717769145966,-0.003343854798004031,-0.003294945228844881,0.0017263374757021666,0.003658333094790578,0.012269489467144012,0.007987525314092636,-0.0028517465107142925,-0.001636086031794548,-0.0011600942816585302,0.0005529297050088644,-0.000757817062549293,0.0006166942184790969,0.0001101515008485876],[0.021426638588309288,-0.0007065251702442765,-0.0033494604285806417,-0.0017213623505085707,-0.008730767294764519,0.011765399016439915,0.004986878018826246,0.0012080929009243846,0.00108210532926023,-0.0037951816339045763,7.34343338990584e-05,-0.003108486533164978,0.01370734442025423,0.005045597441494465,0.00011982128489762545,-0.011299427598714828,0.07834959775209427,-0.0011414553737267852,-0.008825292810797691,-0.0006695977644994855,-0.0025975992903113365,-0.0021896464750170708,0.0026006123516708612,-0.001007830142043531,0.0001906629913719371,-0.0010163787519559264,0.0009130241815000772,0.009696835651993752,-0.0008783390512689948,0.0011336775496602058,-0.0003898746508639306,-0.0019613553304225206,0.0007766661583445966,-0.0007551544113084674,0.002572443801909685,-0.005650309380143881,-0.00010055177699541673,-0.008554188534617424,-0.0038038003258407116,0.0017683099722489715,-0.004079809878021479,0.0023351137060672045,0.0001936760381795466,-0.001290145912207663,-0.0011665407801046968,-0.0005170533549971879,0.0004779537848662585,-0.0054407971911132336,-0.0011247084476053715,-0.004248050041496754],[0.01530818548053503,0.0016769374487921596,-0.0002844178816303611,0.001442199805751443,0.004298921674489975,0.006246192380785942,0.0018015935784205794,0.005717857740819454,0.0006446525221690536,0.0034860987216234207,-0.0021213272120803595,0.0006309886812232435,-0.0054300762712955475,0.0028695445507764816,0.0011504945578053594,0.008847084827721119,0.08097578585147858,0.00019767008780036122,-0.002836120780557394,0.004775473847985268,0.006146061234176159,-0.0037040894385427237,0.0006553733837790787,0.0013411575928330421,0.0011125161545351148,0.00036345788976177573,0.0012298849178478122,0.003385476768016815,0.0002182709431508556,-0.0006852236110717058,0.0008345447713509202,0.0012568621896207333,0.0015191376442089677,0.0019308744231238961,0.01521639246493578,-0.00046029590885154903,-0.005234368145465851,-0.0006749231833964586,-0.002320819068700075,0.0046056220307946205,-0.0005370936705730855,-0.0016430231044068933,0.005081964191049337,0.0007307697087526321,-0.001090023317374289,-0.001750231604091823,-0.002668441040441394,0.0011013047769665718,-7.988085417309776e-05,-0.0013815885176882148],[-0.006234070286154747,0.00027902243891730905,-0.000303337030345574,0.0012876233085989952,-0.0008086885791271925,0.006129174027591944,0.003434106009081006,-0.002035140059888363,0.00034180597867816687,0.004936847370117903,0.003783759893849492,0.004300322849303484,-0.0074579291976988316,-0.0049229031428694725,-0.0002570902288425714,-0.0012327578151598573,0.014598577283322811,-0.0004004553484264761,0.00027047377079725266,0.0011790134012699127,0.006446595303714275,-0.0060333870351314545,0.0005292457062751055,0.010848380625247955,-0.001390697667375207,0.004483348224312067,0.0002578610146883875,0.006688760593533516,0.0004958919598720968,0.0013418582966551185,0.005415431689471006,0.0010404832428321242,0.0019345881883054972,0.0006699481164105237,0.00351538835093379,-0.004022281616926193,0.0020104050636291504,0.006763736251741648,-0.0007773668621666729,0.002006060676649213,0.0038873949088156223,-0.003290460677817464,-9.971093095373362e-05,0.003358919871971011,-0.0005901373224332929,0.001026118639856577,-0.0008438641671091318,-0.002251449041068554,-0.00030747122946195304,-0.002067863242700696],[-0.033829402178525925,0.0029745809733867645,0.015447486191987991,0.020981337875127792,0.027593091130256653,0.04535936191678047,0.002055530669167638,-0.00018022242875304073,0.0003062099567614496,0.0379081629216671,0.009024854749441147,0.018474619835615158,0.03781118243932724,0.00012507660721894354,0.00023817108012735844,0.0004170621687080711,0.18121162056922913,0.011295643635094166,0.014905838295817375,0.0045792050659656525,0.005006637889891863,0.00038616088568232954,0.0019074006704613566,0.044524889439344406,0.03375064209103584,0.04671691730618477,0.010009631514549255,-0.003207496600225568,0.0019621960818767548,0.0010166590800508857,0.018568024039268494,0.006223209202289581,0.027567654848098755,0.014632982201874256,0.004519504960626364,0.004655302036553621,0.0068029058165848255,0.04344761744141579,0.03013007901608944,0.012946374714374542,0.005941453855484724,0.001977331470698118,0.0010360687738284469,0.002172689186409116,0.00136694370303303,0.00345484702847898,0.0007421912741847336,0.0014005076372995973,0.0009137949673458934,0.001851974637247622],[-0.07889650017023087,0.0,0.0,0.0,0.0,0.0,0.0,0.0,0.0,0.0,0.0,0.0,0.0,0.0,0.0,0.0,0.0,0.0,0.0,0.0,0.0,0.0,0.0,0.0,0.0,0.0,0.0,0.0,0.0,0.0,0.0,0.0,0.0,0.0,0.0,0.0,0.0,0.0,0.0,0.0,0.0,0.0,0.0,0.0,0.0,0.0,0.0,0.0,0.0,0.0]],\"type\":\"heatmap\",\"xaxis\":\"x\",\"yaxis\":\"y\",\"hovertemplate\":\"Layer: %{y}\\u003cbr\\u003ePatch: %{x}\\u003cbr\\u003eDifference: %{z}\\u003cextra\\u003e\\u003c\\u002fextra\\u003e\",\"text\":[[\"Layer: 0, Patch: 0\",\"Layer: 0, Patch: 1\",\"Layer: 0, Patch: 2\",\"Layer: 0, Patch: 3\",\"Layer: 0, Patch: 4\",\"Layer: 0, Patch: 5\",\"Layer: 0, Patch: 6\",\"Layer: 0, Patch: 7\",\"Layer: 0, Patch: 8\",\"Layer: 0, Patch: 9\",\"Layer: 0, Patch: 10\",\"Layer: 0, Patch: 11\",\"Layer: 0, Patch: 12\",\"Layer: 0, Patch: 13\",\"Layer: 0, Patch: 14\",\"Layer: 0, Patch: 15\",\"Layer: 0, Patch: 16\",\"Layer: 0, Patch: 17\",\"Layer: 0, Patch: 18\",\"Layer: 0, Patch: 19\",\"Layer: 0, Patch: 20\",\"Layer: 0, Patch: 21\",\"Layer: 0, Patch: 22\",\"Layer: 0, Patch: 23\",\"Layer: 0, Patch: 24\",\"Layer: 0, Patch: 25\",\"Layer: 0, Patch: 26\",\"Layer: 0, Patch: 27\",\"Layer: 0, Patch: 28\",\"Layer: 0, Patch: 29\",\"Layer: 0, Patch: 30\",\"Layer: 0, Patch: 31\",\"Layer: 0, Patch: 32\",\"Layer: 0, Patch: 33\",\"Layer: 0, Patch: 34\",\"Layer: 0, Patch: 35\",\"Layer: 0, Patch: 36\",\"Layer: 0, Patch: 37\",\"Layer: 0, Patch: 38\",\"Layer: 0, Patch: 39\",\"Layer: 0, Patch: 40\",\"Layer: 0, Patch: 41\",\"Layer: 0, Patch: 42\",\"Layer: 0, Patch: 43\",\"Layer: 0, Patch: 44\",\"Layer: 0, Patch: 45\",\"Layer: 0, Patch: 46\",\"Layer: 0, Patch: 47\",\"Layer: 0, Patch: 48\",\"Layer: 0, Patch: 49\"],[\"Layer: 1, Patch: 0\",\"Layer: 1, Patch: 1\",\"Layer: 1, Patch: 2\",\"Layer: 1, Patch: 3\",\"Layer: 1, Patch: 4\",\"Layer: 1, Patch: 5\",\"Layer: 1, Patch: 6\",\"Layer: 1, Patch: 7\",\"Layer: 1, Patch: 8\",\"Layer: 1, Patch: 9\",\"Layer: 1, Patch: 10\",\"Layer: 1, Patch: 11\",\"Layer: 1, Patch: 12\",\"Layer: 1, Patch: 13\",\"Layer: 1, Patch: 14\",\"Layer: 1, Patch: 15\",\"Layer: 1, Patch: 16\",\"Layer: 1, Patch: 17\",\"Layer: 1, Patch: 18\",\"Layer: 1, Patch: 19\",\"Layer: 1, Patch: 20\",\"Layer: 1, Patch: 21\",\"Layer: 1, Patch: 22\",\"Layer: 1, Patch: 23\",\"Layer: 1, Patch: 24\",\"Layer: 1, Patch: 25\",\"Layer: 1, Patch: 26\",\"Layer: 1, Patch: 27\",\"Layer: 1, Patch: 28\",\"Layer: 1, Patch: 29\",\"Layer: 1, Patch: 30\",\"Layer: 1, Patch: 31\",\"Layer: 1, Patch: 32\",\"Layer: 1, Patch: 33\",\"Layer: 1, Patch: 34\",\"Layer: 1, Patch: 35\",\"Layer: 1, Patch: 36\",\"Layer: 1, Patch: 37\",\"Layer: 1, Patch: 38\",\"Layer: 1, Patch: 39\",\"Layer: 1, Patch: 40\",\"Layer: 1, Patch: 41\",\"Layer: 1, Patch: 42\",\"Layer: 1, Patch: 43\",\"Layer: 1, Patch: 44\",\"Layer: 1, Patch: 45\",\"Layer: 1, Patch: 46\",\"Layer: 1, Patch: 47\",\"Layer: 1, Patch: 48\",\"Layer: 1, Patch: 49\"],[\"Layer: 2, Patch: 0\",\"Layer: 2, Patch: 1\",\"Layer: 2, Patch: 2\",\"Layer: 2, Patch: 3\",\"Layer: 2, Patch: 4\",\"Layer: 2, Patch: 5\",\"Layer: 2, Patch: 6\",\"Layer: 2, Patch: 7\",\"Layer: 2, Patch: 8\",\"Layer: 2, Patch: 9\",\"Layer: 2, Patch: 10\",\"Layer: 2, Patch: 11\",\"Layer: 2, Patch: 12\",\"Layer: 2, Patch: 13\",\"Layer: 2, Patch: 14\",\"Layer: 2, Patch: 15\",\"Layer: 2, Patch: 16\",\"Layer: 2, Patch: 17\",\"Layer: 2, Patch: 18\",\"Layer: 2, Patch: 19\",\"Layer: 2, Patch: 20\",\"Layer: 2, Patch: 21\",\"Layer: 2, Patch: 22\",\"Layer: 2, Patch: 23\",\"Layer: 2, Patch: 24\",\"Layer: 2, Patch: 25\",\"Layer: 2, Patch: 26\",\"Layer: 2, Patch: 27\",\"Layer: 2, Patch: 28\",\"Layer: 2, Patch: 29\",\"Layer: 2, Patch: 30\",\"Layer: 2, Patch: 31\",\"Layer: 2, Patch: 32\",\"Layer: 2, Patch: 33\",\"Layer: 2, Patch: 34\",\"Layer: 2, Patch: 35\",\"Layer: 2, Patch: 36\",\"Layer: 2, Patch: 37\",\"Layer: 2, Patch: 38\",\"Layer: 2, Patch: 39\",\"Layer: 2, Patch: 40\",\"Layer: 2, Patch: 41\",\"Layer: 2, Patch: 42\",\"Layer: 2, Patch: 43\",\"Layer: 2, Patch: 44\",\"Layer: 2, Patch: 45\",\"Layer: 2, Patch: 46\",\"Layer: 2, Patch: 47\",\"Layer: 2, Patch: 48\",\"Layer: 2, Patch: 49\"],[\"Layer: 3, Patch: 0\",\"Layer: 3, Patch: 1\",\"Layer: 3, Patch: 2\",\"Layer: 3, Patch: 3\",\"Layer: 3, Patch: 4\",\"Layer: 3, Patch: 5\",\"Layer: 3, Patch: 6\",\"Layer: 3, Patch: 7\",\"Layer: 3, Patch: 8\",\"Layer: 3, Patch: 9\",\"Layer: 3, Patch: 10\",\"Layer: 3, Patch: 11\",\"Layer: 3, Patch: 12\",\"Layer: 3, Patch: 13\",\"Layer: 3, Patch: 14\",\"Layer: 3, Patch: 15\",\"Layer: 3, Patch: 16\",\"Layer: 3, Patch: 17\",\"Layer: 3, Patch: 18\",\"Layer: 3, Patch: 19\",\"Layer: 3, Patch: 20\",\"Layer: 3, Patch: 21\",\"Layer: 3, Patch: 22\",\"Layer: 3, Patch: 23\",\"Layer: 3, Patch: 24\",\"Layer: 3, Patch: 25\",\"Layer: 3, Patch: 26\",\"Layer: 3, Patch: 27\",\"Layer: 3, Patch: 28\",\"Layer: 3, Patch: 29\",\"Layer: 3, Patch: 30\",\"Layer: 3, Patch: 31\",\"Layer: 3, Patch: 32\",\"Layer: 3, Patch: 33\",\"Layer: 3, Patch: 34\",\"Layer: 3, Patch: 35\",\"Layer: 3, Patch: 36\",\"Layer: 3, Patch: 37\",\"Layer: 3, Patch: 38\",\"Layer: 3, Patch: 39\",\"Layer: 3, Patch: 40\",\"Layer: 3, Patch: 41\",\"Layer: 3, Patch: 42\",\"Layer: 3, Patch: 43\",\"Layer: 3, Patch: 44\",\"Layer: 3, Patch: 45\",\"Layer: 3, Patch: 46\",\"Layer: 3, Patch: 47\",\"Layer: 3, Patch: 48\",\"Layer: 3, Patch: 49\"],[\"Layer: 4, Patch: 0\",\"Layer: 4, Patch: 1\",\"Layer: 4, Patch: 2\",\"Layer: 4, Patch: 3\",\"Layer: 4, Patch: 4\",\"Layer: 4, Patch: 5\",\"Layer: 4, Patch: 6\",\"Layer: 4, Patch: 7\",\"Layer: 4, Patch: 8\",\"Layer: 4, Patch: 9\",\"Layer: 4, Patch: 10\",\"Layer: 4, Patch: 11\",\"Layer: 4, Patch: 12\",\"Layer: 4, Patch: 13\",\"Layer: 4, Patch: 14\",\"Layer: 4, Patch: 15\",\"Layer: 4, Patch: 16\",\"Layer: 4, Patch: 17\",\"Layer: 4, Patch: 18\",\"Layer: 4, Patch: 19\",\"Layer: 4, Patch: 20\",\"Layer: 4, Patch: 21\",\"Layer: 4, Patch: 22\",\"Layer: 4, Patch: 23\",\"Layer: 4, Patch: 24\",\"Layer: 4, Patch: 25\",\"Layer: 4, Patch: 26\",\"Layer: 4, Patch: 27\",\"Layer: 4, Patch: 28\",\"Layer: 4, Patch: 29\",\"Layer: 4, Patch: 30\",\"Layer: 4, Patch: 31\",\"Layer: 4, Patch: 32\",\"Layer: 4, Patch: 33\",\"Layer: 4, Patch: 34\",\"Layer: 4, Patch: 35\",\"Layer: 4, Patch: 36\",\"Layer: 4, Patch: 37\",\"Layer: 4, Patch: 38\",\"Layer: 4, Patch: 39\",\"Layer: 4, Patch: 40\",\"Layer: 4, Patch: 41\",\"Layer: 4, Patch: 42\",\"Layer: 4, Patch: 43\",\"Layer: 4, Patch: 44\",\"Layer: 4, Patch: 45\",\"Layer: 4, Patch: 46\",\"Layer: 4, Patch: 47\",\"Layer: 4, Patch: 48\",\"Layer: 4, Patch: 49\"],[\"Layer: 5, Patch: 0\",\"Layer: 5, Patch: 1\",\"Layer: 5, Patch: 2\",\"Layer: 5, Patch: 3\",\"Layer: 5, Patch: 4\",\"Layer: 5, Patch: 5\",\"Layer: 5, Patch: 6\",\"Layer: 5, Patch: 7\",\"Layer: 5, Patch: 8\",\"Layer: 5, Patch: 9\",\"Layer: 5, Patch: 10\",\"Layer: 5, Patch: 11\",\"Layer: 5, Patch: 12\",\"Layer: 5, Patch: 13\",\"Layer: 5, Patch: 14\",\"Layer: 5, Patch: 15\",\"Layer: 5, Patch: 16\",\"Layer: 5, Patch: 17\",\"Layer: 5, Patch: 18\",\"Layer: 5, Patch: 19\",\"Layer: 5, Patch: 20\",\"Layer: 5, Patch: 21\",\"Layer: 5, Patch: 22\",\"Layer: 5, Patch: 23\",\"Layer: 5, Patch: 24\",\"Layer: 5, Patch: 25\",\"Layer: 5, Patch: 26\",\"Layer: 5, Patch: 27\",\"Layer: 5, Patch: 28\",\"Layer: 5, Patch: 29\",\"Layer: 5, Patch: 30\",\"Layer: 5, Patch: 31\",\"Layer: 5, Patch: 32\",\"Layer: 5, Patch: 33\",\"Layer: 5, Patch: 34\",\"Layer: 5, Patch: 35\",\"Layer: 5, Patch: 36\",\"Layer: 5, Patch: 37\",\"Layer: 5, Patch: 38\",\"Layer: 5, Patch: 39\",\"Layer: 5, Patch: 40\",\"Layer: 5, Patch: 41\",\"Layer: 5, Patch: 42\",\"Layer: 5, Patch: 43\",\"Layer: 5, Patch: 44\",\"Layer: 5, Patch: 45\",\"Layer: 5, Patch: 46\",\"Layer: 5, Patch: 47\",\"Layer: 5, Patch: 48\",\"Layer: 5, Patch: 49\"],[\"Layer: 6, Patch: 0\",\"Layer: 6, Patch: 1\",\"Layer: 6, Patch: 2\",\"Layer: 6, Patch: 3\",\"Layer: 6, Patch: 4\",\"Layer: 6, Patch: 5\",\"Layer: 6, Patch: 6\",\"Layer: 6, Patch: 7\",\"Layer: 6, Patch: 8\",\"Layer: 6, Patch: 9\",\"Layer: 6, Patch: 10\",\"Layer: 6, Patch: 11\",\"Layer: 6, Patch: 12\",\"Layer: 6, Patch: 13\",\"Layer: 6, Patch: 14\",\"Layer: 6, Patch: 15\",\"Layer: 6, Patch: 16\",\"Layer: 6, Patch: 17\",\"Layer: 6, Patch: 18\",\"Layer: 6, Patch: 19\",\"Layer: 6, Patch: 20\",\"Layer: 6, Patch: 21\",\"Layer: 6, Patch: 22\",\"Layer: 6, Patch: 23\",\"Layer: 6, Patch: 24\",\"Layer: 6, Patch: 25\",\"Layer: 6, Patch: 26\",\"Layer: 6, Patch: 27\",\"Layer: 6, Patch: 28\",\"Layer: 6, Patch: 29\",\"Layer: 6, Patch: 30\",\"Layer: 6, Patch: 31\",\"Layer: 6, Patch: 32\",\"Layer: 6, Patch: 33\",\"Layer: 6, Patch: 34\",\"Layer: 6, Patch: 35\",\"Layer: 6, Patch: 36\",\"Layer: 6, Patch: 37\",\"Layer: 6, Patch: 38\",\"Layer: 6, Patch: 39\",\"Layer: 6, Patch: 40\",\"Layer: 6, Patch: 41\",\"Layer: 6, Patch: 42\",\"Layer: 6, Patch: 43\",\"Layer: 6, Patch: 44\",\"Layer: 6, Patch: 45\",\"Layer: 6, Patch: 46\",\"Layer: 6, Patch: 47\",\"Layer: 6, Patch: 48\",\"Layer: 6, Patch: 49\"],[\"Layer: 7, Patch: 0\",\"Layer: 7, Patch: 1\",\"Layer: 7, Patch: 2\",\"Layer: 7, Patch: 3\",\"Layer: 7, Patch: 4\",\"Layer: 7, Patch: 5\",\"Layer: 7, Patch: 6\",\"Layer: 7, Patch: 7\",\"Layer: 7, Patch: 8\",\"Layer: 7, Patch: 9\",\"Layer: 7, Patch: 10\",\"Layer: 7, Patch: 11\",\"Layer: 7, Patch: 12\",\"Layer: 7, Patch: 13\",\"Layer: 7, Patch: 14\",\"Layer: 7, Patch: 15\",\"Layer: 7, Patch: 16\",\"Layer: 7, Patch: 17\",\"Layer: 7, Patch: 18\",\"Layer: 7, Patch: 19\",\"Layer: 7, Patch: 20\",\"Layer: 7, Patch: 21\",\"Layer: 7, Patch: 22\",\"Layer: 7, Patch: 23\",\"Layer: 7, Patch: 24\",\"Layer: 7, Patch: 25\",\"Layer: 7, Patch: 26\",\"Layer: 7, Patch: 27\",\"Layer: 7, Patch: 28\",\"Layer: 7, Patch: 29\",\"Layer: 7, Patch: 30\",\"Layer: 7, Patch: 31\",\"Layer: 7, Patch: 32\",\"Layer: 7, Patch: 33\",\"Layer: 7, Patch: 34\",\"Layer: 7, Patch: 35\",\"Layer: 7, Patch: 36\",\"Layer: 7, Patch: 37\",\"Layer: 7, Patch: 38\",\"Layer: 7, Patch: 39\",\"Layer: 7, Patch: 40\",\"Layer: 7, Patch: 41\",\"Layer: 7, Patch: 42\",\"Layer: 7, Patch: 43\",\"Layer: 7, Patch: 44\",\"Layer: 7, Patch: 45\",\"Layer: 7, Patch: 46\",\"Layer: 7, Patch: 47\",\"Layer: 7, Patch: 48\",\"Layer: 7, Patch: 49\"],[\"Layer: 8, Patch: 0\",\"Layer: 8, Patch: 1\",\"Layer: 8, Patch: 2\",\"Layer: 8, Patch: 3\",\"Layer: 8, Patch: 4\",\"Layer: 8, Patch: 5\",\"Layer: 8, Patch: 6\",\"Layer: 8, Patch: 7\",\"Layer: 8, Patch: 8\",\"Layer: 8, Patch: 9\",\"Layer: 8, Patch: 10\",\"Layer: 8, Patch: 11\",\"Layer: 8, Patch: 12\",\"Layer: 8, Patch: 13\",\"Layer: 8, Patch: 14\",\"Layer: 8, Patch: 15\",\"Layer: 8, Patch: 16\",\"Layer: 8, Patch: 17\",\"Layer: 8, Patch: 18\",\"Layer: 8, Patch: 19\",\"Layer: 8, Patch: 20\",\"Layer: 8, Patch: 21\",\"Layer: 8, Patch: 22\",\"Layer: 8, Patch: 23\",\"Layer: 8, Patch: 24\",\"Layer: 8, Patch: 25\",\"Layer: 8, Patch: 26\",\"Layer: 8, Patch: 27\",\"Layer: 8, Patch: 28\",\"Layer: 8, Patch: 29\",\"Layer: 8, Patch: 30\",\"Layer: 8, Patch: 31\",\"Layer: 8, Patch: 32\",\"Layer: 8, Patch: 33\",\"Layer: 8, Patch: 34\",\"Layer: 8, Patch: 35\",\"Layer: 8, Patch: 36\",\"Layer: 8, Patch: 37\",\"Layer: 8, Patch: 38\",\"Layer: 8, Patch: 39\",\"Layer: 8, Patch: 40\",\"Layer: 8, Patch: 41\",\"Layer: 8, Patch: 42\",\"Layer: 8, Patch: 43\",\"Layer: 8, Patch: 44\",\"Layer: 8, Patch: 45\",\"Layer: 8, Patch: 46\",\"Layer: 8, Patch: 47\",\"Layer: 8, Patch: 48\",\"Layer: 8, Patch: 49\"],[\"Layer: 9, Patch: 0\",\"Layer: 9, Patch: 1\",\"Layer: 9, Patch: 2\",\"Layer: 9, Patch: 3\",\"Layer: 9, Patch: 4\",\"Layer: 9, Patch: 5\",\"Layer: 9, Patch: 6\",\"Layer: 9, Patch: 7\",\"Layer: 9, Patch: 8\",\"Layer: 9, Patch: 9\",\"Layer: 9, Patch: 10\",\"Layer: 9, Patch: 11\",\"Layer: 9, Patch: 12\",\"Layer: 9, Patch: 13\",\"Layer: 9, Patch: 14\",\"Layer: 9, Patch: 15\",\"Layer: 9, Patch: 16\",\"Layer: 9, Patch: 17\",\"Layer: 9, Patch: 18\",\"Layer: 9, Patch: 19\",\"Layer: 9, Patch: 20\",\"Layer: 9, Patch: 21\",\"Layer: 9, Patch: 22\",\"Layer: 9, Patch: 23\",\"Layer: 9, Patch: 24\",\"Layer: 9, Patch: 25\",\"Layer: 9, Patch: 26\",\"Layer: 9, Patch: 27\",\"Layer: 9, Patch: 28\",\"Layer: 9, Patch: 29\",\"Layer: 9, Patch: 30\",\"Layer: 9, Patch: 31\",\"Layer: 9, Patch: 32\",\"Layer: 9, Patch: 33\",\"Layer: 9, Patch: 34\",\"Layer: 9, Patch: 35\",\"Layer: 9, Patch: 36\",\"Layer: 9, Patch: 37\",\"Layer: 9, Patch: 38\",\"Layer: 9, Patch: 39\",\"Layer: 9, Patch: 40\",\"Layer: 9, Patch: 41\",\"Layer: 9, Patch: 42\",\"Layer: 9, Patch: 43\",\"Layer: 9, Patch: 44\",\"Layer: 9, Patch: 45\",\"Layer: 9, Patch: 46\",\"Layer: 9, Patch: 47\",\"Layer: 9, Patch: 48\",\"Layer: 9, Patch: 49\"],[\"Layer: 10, Patch: 0\",\"Layer: 10, Patch: 1\",\"Layer: 10, Patch: 2\",\"Layer: 10, Patch: 3\",\"Layer: 10, Patch: 4\",\"Layer: 10, Patch: 5\",\"Layer: 10, Patch: 6\",\"Layer: 10, Patch: 7\",\"Layer: 10, Patch: 8\",\"Layer: 10, Patch: 9\",\"Layer: 10, Patch: 10\",\"Layer: 10, Patch: 11\",\"Layer: 10, Patch: 12\",\"Layer: 10, Patch: 13\",\"Layer: 10, Patch: 14\",\"Layer: 10, Patch: 15\",\"Layer: 10, Patch: 16\",\"Layer: 10, Patch: 17\",\"Layer: 10, Patch: 18\",\"Layer: 10, Patch: 19\",\"Layer: 10, Patch: 20\",\"Layer: 10, Patch: 21\",\"Layer: 10, Patch: 22\",\"Layer: 10, Patch: 23\",\"Layer: 10, Patch: 24\",\"Layer: 10, Patch: 25\",\"Layer: 10, Patch: 26\",\"Layer: 10, Patch: 27\",\"Layer: 10, Patch: 28\",\"Layer: 10, Patch: 29\",\"Layer: 10, Patch: 30\",\"Layer: 10, Patch: 31\",\"Layer: 10, Patch: 32\",\"Layer: 10, Patch: 33\",\"Layer: 10, Patch: 34\",\"Layer: 10, Patch: 35\",\"Layer: 10, Patch: 36\",\"Layer: 10, Patch: 37\",\"Layer: 10, Patch: 38\",\"Layer: 10, Patch: 39\",\"Layer: 10, Patch: 40\",\"Layer: 10, Patch: 41\",\"Layer: 10, Patch: 42\",\"Layer: 10, Patch: 43\",\"Layer: 10, Patch: 44\",\"Layer: 10, Patch: 45\",\"Layer: 10, Patch: 46\",\"Layer: 10, Patch: 47\",\"Layer: 10, Patch: 48\",\"Layer: 10, Patch: 49\"],[\"Layer: 11, Patch: 0\",\"Layer: 11, Patch: 1\",\"Layer: 11, Patch: 2\",\"Layer: 11, Patch: 3\",\"Layer: 11, Patch: 4\",\"Layer: 11, Patch: 5\",\"Layer: 11, Patch: 6\",\"Layer: 11, Patch: 7\",\"Layer: 11, Patch: 8\",\"Layer: 11, Patch: 9\",\"Layer: 11, Patch: 10\",\"Layer: 11, Patch: 11\",\"Layer: 11, Patch: 12\",\"Layer: 11, Patch: 13\",\"Layer: 11, Patch: 14\",\"Layer: 11, Patch: 15\",\"Layer: 11, Patch: 16\",\"Layer: 11, Patch: 17\",\"Layer: 11, Patch: 18\",\"Layer: 11, Patch: 19\",\"Layer: 11, Patch: 20\",\"Layer: 11, Patch: 21\",\"Layer: 11, Patch: 22\",\"Layer: 11, Patch: 23\",\"Layer: 11, Patch: 24\",\"Layer: 11, Patch: 25\",\"Layer: 11, Patch: 26\",\"Layer: 11, Patch: 27\",\"Layer: 11, Patch: 28\",\"Layer: 11, Patch: 29\",\"Layer: 11, Patch: 30\",\"Layer: 11, Patch: 31\",\"Layer: 11, Patch: 32\",\"Layer: 11, Patch: 33\",\"Layer: 11, Patch: 34\",\"Layer: 11, Patch: 35\",\"Layer: 11, Patch: 36\",\"Layer: 11, Patch: 37\",\"Layer: 11, Patch: 38\",\"Layer: 11, Patch: 39\",\"Layer: 11, Patch: 40\",\"Layer: 11, Patch: 41\",\"Layer: 11, Patch: 42\",\"Layer: 11, Patch: 43\",\"Layer: 11, Patch: 44\",\"Layer: 11, Patch: 45\",\"Layer: 11, Patch: 46\",\"Layer: 11, Patch: 47\",\"Layer: 11, Patch: 48\",\"Layer: 11, Patch: 49\"]]}],                        {\"template\":{\"data\":{\"histogram2dcontour\":[{\"type\":\"histogram2dcontour\",\"colorbar\":{\"outlinewidth\":0,\"ticks\":\"\"},\"colorscale\":[[0.0,\"#0d0887\"],[0.1111111111111111,\"#46039f\"],[0.2222222222222222,\"#7201a8\"],[0.3333333333333333,\"#9c179e\"],[0.4444444444444444,\"#bd3786\"],[0.5555555555555556,\"#d8576b\"],[0.6666666666666666,\"#ed7953\"],[0.7777777777777778,\"#fb9f3a\"],[0.8888888888888888,\"#fdca26\"],[1.0,\"#f0f921\"]]}],\"choropleth\":[{\"type\":\"choropleth\",\"colorbar\":{\"outlinewidth\":0,\"ticks\":\"\"}}],\"histogram2d\":[{\"type\":\"histogram2d\",\"colorbar\":{\"outlinewidth\":0,\"ticks\":\"\"},\"colorscale\":[[0.0,\"#0d0887\"],[0.1111111111111111,\"#46039f\"],[0.2222222222222222,\"#7201a8\"],[0.3333333333333333,\"#9c179e\"],[0.4444444444444444,\"#bd3786\"],[0.5555555555555556,\"#d8576b\"],[0.6666666666666666,\"#ed7953\"],[0.7777777777777778,\"#fb9f3a\"],[0.8888888888888888,\"#fdca26\"],[1.0,\"#f0f921\"]]}],\"heatmap\":[{\"type\":\"heatmap\",\"colorbar\":{\"outlinewidth\":0,\"ticks\":\"\"},\"colorscale\":[[0.0,\"#0d0887\"],[0.1111111111111111,\"#46039f\"],[0.2222222222222222,\"#7201a8\"],[0.3333333333333333,\"#9c179e\"],[0.4444444444444444,\"#bd3786\"],[0.5555555555555556,\"#d8576b\"],[0.6666666666666666,\"#ed7953\"],[0.7777777777777778,\"#fb9f3a\"],[0.8888888888888888,\"#fdca26\"],[1.0,\"#f0f921\"]]}],\"heatmapgl\":[{\"type\":\"heatmapgl\",\"colorbar\":{\"outlinewidth\":0,\"ticks\":\"\"},\"colorscale\":[[0.0,\"#0d0887\"],[0.1111111111111111,\"#46039f\"],[0.2222222222222222,\"#7201a8\"],[0.3333333333333333,\"#9c179e\"],[0.4444444444444444,\"#bd3786\"],[0.5555555555555556,\"#d8576b\"],[0.6666666666666666,\"#ed7953\"],[0.7777777777777778,\"#fb9f3a\"],[0.8888888888888888,\"#fdca26\"],[1.0,\"#f0f921\"]]}],\"contourcarpet\":[{\"type\":\"contourcarpet\",\"colorbar\":{\"outlinewidth\":0,\"ticks\":\"\"}}],\"contour\":[{\"type\":\"contour\",\"colorbar\":{\"outlinewidth\":0,\"ticks\":\"\"},\"colorscale\":[[0.0,\"#0d0887\"],[0.1111111111111111,\"#46039f\"],[0.2222222222222222,\"#7201a8\"],[0.3333333333333333,\"#9c179e\"],[0.4444444444444444,\"#bd3786\"],[0.5555555555555556,\"#d8576b\"],[0.6666666666666666,\"#ed7953\"],[0.7777777777777778,\"#fb9f3a\"],[0.8888888888888888,\"#fdca26\"],[1.0,\"#f0f921\"]]}],\"surface\":[{\"type\":\"surface\",\"colorbar\":{\"outlinewidth\":0,\"ticks\":\"\"},\"colorscale\":[[0.0,\"#0d0887\"],[0.1111111111111111,\"#46039f\"],[0.2222222222222222,\"#7201a8\"],[0.3333333333333333,\"#9c179e\"],[0.4444444444444444,\"#bd3786\"],[0.5555555555555556,\"#d8576b\"],[0.6666666666666666,\"#ed7953\"],[0.7777777777777778,\"#fb9f3a\"],[0.8888888888888888,\"#fdca26\"],[1.0,\"#f0f921\"]]}],\"mesh3d\":[{\"type\":\"mesh3d\",\"colorbar\":{\"outlinewidth\":0,\"ticks\":\"\"}}],\"scatter\":[{\"fillpattern\":{\"fillmode\":\"overlay\",\"size\":10,\"solidity\":0.2},\"type\":\"scatter\"}],\"parcoords\":[{\"type\":\"parcoords\",\"line\":{\"colorbar\":{\"outlinewidth\":0,\"ticks\":\"\"}}}],\"scatterpolargl\":[{\"type\":\"scatterpolargl\",\"marker\":{\"colorbar\":{\"outlinewidth\":0,\"ticks\":\"\"}}}],\"bar\":[{\"error_x\":{\"color\":\"#2a3f5f\"},\"error_y\":{\"color\":\"#2a3f5f\"},\"marker\":{\"line\":{\"color\":\"#E5ECF6\",\"width\":0.5},\"pattern\":{\"fillmode\":\"overlay\",\"size\":10,\"solidity\":0.2}},\"type\":\"bar\"}],\"scattergeo\":[{\"type\":\"scattergeo\",\"marker\":{\"colorbar\":{\"outlinewidth\":0,\"ticks\":\"\"}}}],\"scatterpolar\":[{\"type\":\"scatterpolar\",\"marker\":{\"colorbar\":{\"outlinewidth\":0,\"ticks\":\"\"}}}],\"histogram\":[{\"marker\":{\"pattern\":{\"fillmode\":\"overlay\",\"size\":10,\"solidity\":0.2}},\"type\":\"histogram\"}],\"scattergl\":[{\"type\":\"scattergl\",\"marker\":{\"colorbar\":{\"outlinewidth\":0,\"ticks\":\"\"}}}],\"scatter3d\":[{\"type\":\"scatter3d\",\"line\":{\"colorbar\":{\"outlinewidth\":0,\"ticks\":\"\"}},\"marker\":{\"colorbar\":{\"outlinewidth\":0,\"ticks\":\"\"}}}],\"scattermapbox\":[{\"type\":\"scattermapbox\",\"marker\":{\"colorbar\":{\"outlinewidth\":0,\"ticks\":\"\"}}}],\"scatterternary\":[{\"type\":\"scatterternary\",\"marker\":{\"colorbar\":{\"outlinewidth\":0,\"ticks\":\"\"}}}],\"scattercarpet\":[{\"type\":\"scattercarpet\",\"marker\":{\"colorbar\":{\"outlinewidth\":0,\"ticks\":\"\"}}}],\"carpet\":[{\"aaxis\":{\"endlinecolor\":\"#2a3f5f\",\"gridcolor\":\"white\",\"linecolor\":\"white\",\"minorgridcolor\":\"white\",\"startlinecolor\":\"#2a3f5f\"},\"baxis\":{\"endlinecolor\":\"#2a3f5f\",\"gridcolor\":\"white\",\"linecolor\":\"white\",\"minorgridcolor\":\"white\",\"startlinecolor\":\"#2a3f5f\"},\"type\":\"carpet\"}],\"table\":[{\"cells\":{\"fill\":{\"color\":\"#EBF0F8\"},\"line\":{\"color\":\"white\"}},\"header\":{\"fill\":{\"color\":\"#C8D4E3\"},\"line\":{\"color\":\"white\"}},\"type\":\"table\"}],\"barpolar\":[{\"marker\":{\"line\":{\"color\":\"#E5ECF6\",\"width\":0.5},\"pattern\":{\"fillmode\":\"overlay\",\"size\":10,\"solidity\":0.2}},\"type\":\"barpolar\"}],\"pie\":[{\"automargin\":true,\"type\":\"pie\"}]},\"layout\":{\"autotypenumbers\":\"strict\",\"colorway\":[\"#636efa\",\"#EF553B\",\"#00cc96\",\"#ab63fa\",\"#FFA15A\",\"#19d3f3\",\"#FF6692\",\"#B6E880\",\"#FF97FF\",\"#FECB52\"],\"font\":{\"color\":\"#2a3f5f\"},\"hovermode\":\"closest\",\"hoverlabel\":{\"align\":\"left\"},\"paper_bgcolor\":\"white\",\"plot_bgcolor\":\"#E5ECF6\",\"polar\":{\"bgcolor\":\"#E5ECF6\",\"angularaxis\":{\"gridcolor\":\"white\",\"linecolor\":\"white\",\"ticks\":\"\"},\"radialaxis\":{\"gridcolor\":\"white\",\"linecolor\":\"white\",\"ticks\":\"\"}},\"ternary\":{\"bgcolor\":\"#E5ECF6\",\"aaxis\":{\"gridcolor\":\"white\",\"linecolor\":\"white\",\"ticks\":\"\"},\"baxis\":{\"gridcolor\":\"white\",\"linecolor\":\"white\",\"ticks\":\"\"},\"caxis\":{\"gridcolor\":\"white\",\"linecolor\":\"white\",\"ticks\":\"\"}},\"coloraxis\":{\"colorbar\":{\"outlinewidth\":0,\"ticks\":\"\"}},\"colorscale\":{\"sequential\":[[0.0,\"#0d0887\"],[0.1111111111111111,\"#46039f\"],[0.2222222222222222,\"#7201a8\"],[0.3333333333333333,\"#9c179e\"],[0.4444444444444444,\"#bd3786\"],[0.5555555555555556,\"#d8576b\"],[0.6666666666666666,\"#ed7953\"],[0.7777777777777778,\"#fb9f3a\"],[0.8888888888888888,\"#fdca26\"],[1.0,\"#f0f921\"]],\"sequentialminus\":[[0.0,\"#0d0887\"],[0.1111111111111111,\"#46039f\"],[0.2222222222222222,\"#7201a8\"],[0.3333333333333333,\"#9c179e\"],[0.4444444444444444,\"#bd3786\"],[0.5555555555555556,\"#d8576b\"],[0.6666666666666666,\"#ed7953\"],[0.7777777777777778,\"#fb9f3a\"],[0.8888888888888888,\"#fdca26\"],[1.0,\"#f0f921\"]],\"diverging\":[[0,\"#8e0152\"],[0.1,\"#c51b7d\"],[0.2,\"#de77ae\"],[0.3,\"#f1b6da\"],[0.4,\"#fde0ef\"],[0.5,\"#f7f7f7\"],[0.6,\"#e6f5d0\"],[0.7,\"#b8e186\"],[0.8,\"#7fbc41\"],[0.9,\"#4d9221\"],[1,\"#276419\"]]},\"xaxis\":{\"gridcolor\":\"white\",\"linecolor\":\"white\",\"ticks\":\"\",\"title\":{\"standoff\":15},\"zerolinecolor\":\"white\",\"automargin\":true,\"zerolinewidth\":2},\"yaxis\":{\"gridcolor\":\"white\",\"linecolor\":\"white\",\"ticks\":\"\",\"title\":{\"standoff\":15},\"zerolinecolor\":\"white\",\"automargin\":true,\"zerolinewidth\":2},\"scene\":{\"xaxis\":{\"backgroundcolor\":\"#E5ECF6\",\"gridcolor\":\"white\",\"linecolor\":\"white\",\"showbackground\":true,\"ticks\":\"\",\"zerolinecolor\":\"white\",\"gridwidth\":2},\"yaxis\":{\"backgroundcolor\":\"#E5ECF6\",\"gridcolor\":\"white\",\"linecolor\":\"white\",\"showbackground\":true,\"ticks\":\"\",\"zerolinecolor\":\"white\",\"gridwidth\":2},\"zaxis\":{\"backgroundcolor\":\"#E5ECF6\",\"gridcolor\":\"white\",\"linecolor\":\"white\",\"showbackground\":true,\"ticks\":\"\",\"zerolinecolor\":\"white\",\"gridwidth\":2}},\"shapedefaults\":{\"line\":{\"color\":\"#2a3f5f\"}},\"annotationdefaults\":{\"arrowcolor\":\"#2a3f5f\",\"arrowhead\":0,\"arrowwidth\":1},\"geo\":{\"bgcolor\":\"white\",\"landcolor\":\"#E5ECF6\",\"subunitcolor\":\"white\",\"showland\":true,\"showlakes\":true,\"lakecolor\":\"white\"},\"title\":{\"x\":0.05},\"mapbox\":{\"style\":\"light\"}}},\"xaxis\":{\"anchor\":\"y\",\"domain\":[0.0,1.0],\"scaleanchor\":\"y\",\"constrain\":\"domain\",\"title\":{\"text\":\"Patch Number\"},\"side\":\"top\"},\"yaxis\":{\"anchor\":\"x\",\"domain\":[0.0,1.0],\"autorange\":\"reversed\",\"constrain\":\"domain\",\"title\":{\"text\":\"Layer Number\"}},\"coloraxis\":{\"colorbar\":{\"title\":{\"text\":\"Difference\"}},\"colorscale\":[[0.0,\"#440154\"],[0.1111111111111111,\"#482878\"],[0.2222222222222222,\"#3e4989\"],[0.3333333333333333,\"#31688e\"],[0.4444444444444444,\"#26828e\"],[0.5555555555555556,\"#1f9e89\"],[0.6666666666666666,\"#35b779\"],[0.7777777777777778,\"#6ece58\"],[0.8888888888888888,\"#b5de2b\"],[1.0,\"#fde725\"]]},\"margin\":{\"t\":60},\"title\":{\"text\":\"Normalized Patched MLP Difference per Layer and Patch\"}},                        {\"responsive\": true}                    ).then(function(){\n",
       "                            \n",
       "var gd = document.getElementById('86441c23-fc7a-414e-8115-52e75b0f5048');\n",
       "var x = new MutationObserver(function (mutations, observer) {{\n",
       "        var display = window.getComputedStyle(gd).display;\n",
       "        if (!display || display === 'none') {{\n",
       "            console.log([gd, 'removed!']);\n",
       "            Plotly.purge(gd);\n",
       "            observer.disconnect();\n",
       "        }}\n",
       "}});\n",
       "\n",
       "// Listen for the removal of the full notebook cells\n",
       "var notebookContainer = gd.closest('#notebook-container');\n",
       "if (notebookContainer) {{\n",
       "    x.observe(notebookContainer, {childList: true});\n",
       "}}\n",
       "\n",
       "// Listen for the clearing of the current output cell\n",
       "var outputEl = gd.closest('.output');\n",
       "if (outputEl) {{\n",
       "    x.observe(outputEl, {childList: true});\n",
       "}}\n",
       "\n",
       "                        })                };                });            </script>        </div>"
      ]
     },
     "metadata": {},
     "output_type": "display_data"
    }
   ],
   "source": [
    "import plotly.express as px\n",
    "import numpy as np\n",
    "\n",
    "# Assuming patched_mlp_diff is a 2D numpy array with shape (n_layers, n_patches)\n",
    "# For demonstration, let's create a dummy 2D array if not already defined\n",
    "# This should be replaced with: patched_mlp_diff.detach().numpy() if you have the tensor\n",
    "n_layers = 12  # Example number of layers\n",
    "n_patches = 50  # Example number of patches\n",
    "\n",
    "# Create a text label array to display layer and patch numbers\n",
    "text_labels = np.array([['Layer: {}, Patch: {}'.format(i, j) for j in range(n_patches)] for i in range(n_layers)])\n",
    "\n",
    "fig = px.imshow(\n",
    "    np_mlp_diff,\n",
    "    labels=dict(x=\"Patch Number\", y=\"Layer Number\", color=\"Difference\"),\n",
    "    x=np.arange(n_patches),\n",
    "    y=np.arange(n_layers),\n",
    "    text_auto=False,\n",
    "    color_continuous_scale='viridis'  # or any other color scale\n",
    ")\n",
    "\n",
    "# Update traces to show custom text (layer and patch numbers)\n",
    "for i in range(len(fig.data)):\n",
    "    fig.data[i].text = text_labels\n",
    "    fig.data[i].hovertemplate = 'Layer: %{y}<br>Patch: %{x}<br>Difference: %{z}<extra></extra>'\n",
    "\n",
    "fig.update_layout(\n",
    "    title=\"Normalized Patched MLP Difference per Layer and Patch\",\n",
    "    xaxis_title=\"Patch Number\",\n",
    "    yaxis_title=\"Layer Number\"\n",
    ")\n",
    "\n",
    "fig.update_xaxes(side=\"top\")  # Move the x-axis to the top\n",
    "\n",
    "# Save the plot as HTML file\n",
    "file_path = \"/home/mila/s/sonia.joseph/prisma-development/html/activation_patching_mlp.html\"\n",
    "fig.write_html(file_path)\n",
    "\n",
    "file_path\n",
    "\n",
    "fig.show()\n"
   ]
  },
  {
   "cell_type": "code",
   "execution_count": null,
   "metadata": {},
   "outputs": [],
   "source": []
  },
  {
   "cell_type": "markdown",
   "metadata": {},
   "source": [
    "# Patch attn heads individually"
   ]
  },
  {
   "cell_type": "code",
   "execution_count": null,
   "metadata": {},
   "outputs": [
    {
     "ename": "",
     "evalue": "",
     "output_type": "error",
     "traceback": [
      "\u001b[1;31mThe Kernel crashed while executing code in the current cell or a previous cell. \n",
      "\u001b[1;31mPlease review the code in the cell(s) to identify a possible cause of the failure. \n",
      "\u001b[1;31mClick <a href='https://aka.ms/vscodeJupyterKernelCrash'>here</a> for more info. \n",
      "\u001b[1;31mView Jupyter <a href='command:jupyter.viewOutput'>log</a> for further details."
     ]
    }
   ],
   "source": [
    "def patch_head_vector(\n",
    "    corrupted_head_vector,\n",
    "    hook,\n",
    "    head_index,\n",
    "    clean_cache,\n",
    "):\n",
    "    corrupted_head_vector[:, :, head_index, :] = clean_cache[hook.name][\n",
    "        :, :, head_index, :\n",
    "    ]\n",
    "    return corrupted_head_vector\n",
    "\n",
    "\n",
    "patched_head_z_diff = torch.zeros(\n",
    "    prisma_model.cfg.n_layers, prisma_model.cfg.n_heads, dtype=torch.float32\n",
    ")\n",
    "for layer in tqdm(range(prisma_model.cfg.n_layers)):\n",
    "    for head_index in range(prisma_model.cfg.n_heads):\n",
    "        hook_fn = partial(patch_head_vector, head_index=head_index, clean_cache=cache)\n",
    "        patched_logits = prisma_model.run_with_hooks(\n",
    "            image_cuda,\n",
    "            fwd_hooks=[(prisma_utils.get_act_name(\"z\", layer, \"attn\"), hook_fn)],\n",
    "            # return_type=\"logits\",\n",
    "        )\n",
    "        patched_logit_diff = logits_to_ave_logit_diff(patched_logits, answer_tokens)\n",
    "\n",
    "        patched_head_z_diff[layer, head_index] = normalize_patched_logit_diff(\n",
    "            patched_logit_diff\n",
    "        )"
   ]
  },
  {
   "cell_type": "markdown",
   "metadata": {},
   "source": []
  }
 ],
 "metadata": {
  "kernelspec": {
   "display_name": "env",
   "language": "python",
   "name": "python3"
  },
  "language_info": {
   "codemirror_mode": {
    "name": "ipython",
    "version": 3
   },
   "file_extension": ".py",
   "mimetype": "text/x-python",
   "name": "python",
   "nbconvert_exporter": "python",
   "pygments_lexer": "ipython3",
   "version": "3.9.15"
  }
 },
 "nbformat": 4,
 "nbformat_minor": 2
}
